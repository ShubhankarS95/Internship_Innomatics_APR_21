{
 "cells": [
  {
   "cell_type": "markdown",
   "id": "650b8fc5",
   "metadata": {},
   "source": [
    "# Descriptive statistics\n",
    "Descriptive statistics is the collection, organization, summarization, and presentation of data. We will do descriptive statistics analysis on below dataset. There are many topics in descriptive statistics and we will do all one by one. Descriptive statistics helps us in understanding of data."
   ]
  },
  {
   "cell_type": "code",
   "execution_count": 46,
   "id": "04fef111",
   "metadata": {},
   "outputs": [],
   "source": [
    "import pandas as pd\n",
    "import numpy as np\n",
    "import matplotlib.pyplot as plt\n",
    "import seaborn as sns\n",
    "from scipy import stats"
   ]
  },
  {
   "cell_type": "code",
   "execution_count": 2,
   "id": "1e6b0440",
   "metadata": {},
   "outputs": [
    {
     "data": {
      "text/html": [
       "<div>\n",
       "<style scoped>\n",
       "    .dataframe tbody tr th:only-of-type {\n",
       "        vertical-align: middle;\n",
       "    }\n",
       "\n",
       "    .dataframe tbody tr th {\n",
       "        vertical-align: top;\n",
       "    }\n",
       "\n",
       "    .dataframe thead th {\n",
       "        text-align: right;\n",
       "    }\n",
       "</style>\n",
       "<table border=\"1\" class=\"dataframe\">\n",
       "  <thead>\n",
       "    <tr style=\"text-align: right;\">\n",
       "      <th></th>\n",
       "      <th>Mthly_HH_Income</th>\n",
       "      <th>Mthly_HH_Expense</th>\n",
       "      <th>No_of_Fly_Members</th>\n",
       "      <th>Emi_or_Rent_Amt</th>\n",
       "      <th>Annual_HH_Income</th>\n",
       "      <th>Highest_Qualified_Member</th>\n",
       "      <th>No_of_Earning_Members</th>\n",
       "    </tr>\n",
       "  </thead>\n",
       "  <tbody>\n",
       "    <tr>\n",
       "      <th>0</th>\n",
       "      <td>5000</td>\n",
       "      <td>8000</td>\n",
       "      <td>3</td>\n",
       "      <td>2000</td>\n",
       "      <td>64200</td>\n",
       "      <td>Under-Graduate</td>\n",
       "      <td>1</td>\n",
       "    </tr>\n",
       "    <tr>\n",
       "      <th>1</th>\n",
       "      <td>6000</td>\n",
       "      <td>7000</td>\n",
       "      <td>2</td>\n",
       "      <td>3000</td>\n",
       "      <td>79920</td>\n",
       "      <td>Illiterate</td>\n",
       "      <td>1</td>\n",
       "    </tr>\n",
       "    <tr>\n",
       "      <th>2</th>\n",
       "      <td>10000</td>\n",
       "      <td>4500</td>\n",
       "      <td>2</td>\n",
       "      <td>0</td>\n",
       "      <td>112800</td>\n",
       "      <td>Under-Graduate</td>\n",
       "      <td>1</td>\n",
       "    </tr>\n",
       "    <tr>\n",
       "      <th>3</th>\n",
       "      <td>10000</td>\n",
       "      <td>2000</td>\n",
       "      <td>1</td>\n",
       "      <td>0</td>\n",
       "      <td>97200</td>\n",
       "      <td>Illiterate</td>\n",
       "      <td>1</td>\n",
       "    </tr>\n",
       "    <tr>\n",
       "      <th>4</th>\n",
       "      <td>12500</td>\n",
       "      <td>12000</td>\n",
       "      <td>2</td>\n",
       "      <td>3000</td>\n",
       "      <td>147000</td>\n",
       "      <td>Graduate</td>\n",
       "      <td>1</td>\n",
       "    </tr>\n",
       "  </tbody>\n",
       "</table>\n",
       "</div>"
      ],
      "text/plain": [
       "   Mthly_HH_Income  Mthly_HH_Expense  No_of_Fly_Members  Emi_or_Rent_Amt  \\\n",
       "0             5000              8000                  3             2000   \n",
       "1             6000              7000                  2             3000   \n",
       "2            10000              4500                  2                0   \n",
       "3            10000              2000                  1                0   \n",
       "4            12500             12000                  2             3000   \n",
       "\n",
       "   Annual_HH_Income Highest_Qualified_Member  No_of_Earning_Members  \n",
       "0             64200           Under-Graduate                      1  \n",
       "1             79920               Illiterate                      1  \n",
       "2            112800           Under-Graduate                      1  \n",
       "3             97200               Illiterate                      1  \n",
       "4            147000                 Graduate                      1  "
      ]
     },
     "execution_count": 2,
     "metadata": {},
     "output_type": "execute_result"
    }
   ],
   "source": [
    "df=pd.read_csv(\"data.csv\")\n",
    "df.head()"
   ]
  },
  {
   "cell_type": "markdown",
   "id": "5947461f",
   "metadata": {},
   "source": [
    "# Measure of Central Tendancy(MCT): \n",
    "MCT is a statistical Univariate Analysis:\n",
    "- Mean\n",
    "- Median \n",
    "- Mode"
   ]
  },
  {
   "cell_type": "markdown",
   "id": "e05d017a",
   "metadata": {},
   "source": [
    "# Mean\n",
    "The mean is the average or the most common value in a collection of numbers.\n",
    "- Usually choose when we have contious data\n",
    "- It is impacted due to Outlier\n",
    "- If no outlier is present then mean is preferred in compared to median\n",
    "\n",
    "$$ Mean =\\frac{1}{N}\\sum_{i=1}^{N}X_{i} $$\n"
   ]
  },
  {
   "cell_type": "markdown",
   "id": "402736c9",
   "metadata": {},
   "source": [
    "**Using In-Built Methods**"
   ]
  },
  {
   "cell_type": "code",
   "execution_count": 3,
   "id": "0ea71243",
   "metadata": {},
   "outputs": [
    {
     "data": {
      "text/plain": [
       "Mthly_HH_Income           41558.00\n",
       "Mthly_HH_Expense          18818.00\n",
       "No_of_Fly_Members             4.06\n",
       "Emi_or_Rent_Amt            3060.00\n",
       "Annual_HH_Income         490019.04\n",
       "No_of_Earning_Members         1.46\n",
       "dtype: float64"
      ]
     },
     "execution_count": 3,
     "metadata": {},
     "output_type": "execute_result"
    }
   ],
   "source": [
    "df.mean()"
   ]
  },
  {
   "cell_type": "markdown",
   "id": "ff17a984",
   "metadata": {},
   "source": [
    "**Using Formulae**"
   ]
  },
  {
   "cell_type": "code",
   "execution_count": 12,
   "id": "8ddb0b0a",
   "metadata": {},
   "outputs": [
    {
     "name": "stdout",
     "output_type": "stream",
     "text": [
      "Mthly_HH_Income    41558.0\n",
      "Mthly_HH_Expense    18818.0\n",
      "No_of_Fly_Members    4.06\n",
      "Emi_or_Rent_Amt    3060.0\n",
      "Annual_HH_Income    490019.04\n",
      "No_of_Earning_Members    1.46\n"
     ]
    }
   ],
   "source": [
    "cols=list(df.columns)\n",
    "cols.remove('Highest_Qualified_Member')\n",
    "for column in cols:\n",
    "    data=df[column]\n",
    "    print(column,\"  \",(sum(data)/len(data)))"
   ]
  },
  {
   "cell_type": "markdown",
   "id": "4cb34daa",
   "metadata": {},
   "source": [
    "# Median\n",
    "The median is the middle number in a sorted, ascending or descending, list of numbers\n",
    "- Usually choose when we have contious data\n",
    "- Robust from Outlier\n",
    "- If no outlier present in data then calculating the mdeian takes more time in sorting the data( of Time Complexity : $ \\theta(n \\log n)$ )\n",
    "\n",
    "Case 1: if no of element is odd\n",
    "$$ Median = (\\frac{n+1}{2})^{th} value $$\n",
    "    \n",
    "   \n",
    "Case 2: if no of element is even\n",
    "$$ Median = (\\frac{(\\frac{n}{2}+ (\\frac{n}{2}+1))}{2})^{th} value $$\n",
    "\n",
    "    "
   ]
  },
  {
   "cell_type": "markdown",
   "id": "581b5095",
   "metadata": {},
   "source": [
    "**Using In-Built Methods**"
   ]
  },
  {
   "cell_type": "code",
   "execution_count": 16,
   "id": "8a93cc06",
   "metadata": {},
   "outputs": [
    {
     "name": "stdout",
     "output_type": "stream",
     "text": [
      "Mthly_HH_Income    35000.0\n",
      "Mthly_HH_Expense    15500.0\n",
      "No_of_Fly_Members    4.0\n",
      "Emi_or_Rent_Amt    0.0\n",
      "Annual_HH_Income    447420.0\n",
      "No_of_Earning_Members    1.0\n"
     ]
    }
   ],
   "source": [
    "cols=list(df.columns)\n",
    "cols.remove('Highest_Qualified_Member')\n",
    "for column in cols:\n",
    "    data=sorted(df[column])\n",
    "    print(column,\"  \",(np.median(data)))"
   ]
  },
  {
   "cell_type": "markdown",
   "id": "2b738da7",
   "metadata": {},
   "source": [
    "**Using Formulae**"
   ]
  },
  {
   "cell_type": "code",
   "execution_count": 21,
   "id": "83df40f1",
   "metadata": {},
   "outputs": [
    {
     "name": "stdout",
     "output_type": "stream",
     "text": [
      "Mthly_HH_Income    35000\n",
      "Mthly_HH_Expense    16000\n",
      "No_of_Fly_Members    4\n",
      "Emi_or_Rent_Amt    0\n",
      "Annual_HH_Income    449400\n",
      "No_of_Earning_Members    1\n"
     ]
    }
   ],
   "source": [
    "cols=list(df.columns)\n",
    "cols.remove('Highest_Qualified_Member')\n",
    "for column in cols:\n",
    "    data=sorted(df[column])\n",
    "    n=len(data)\n",
    "    if n%2 == 0:\n",
    "        median = data[((n//2) + ((n//2)+1)) // 2]\n",
    "    else:\n",
    "        median = data[(n+1)//2] \n",
    "    print(column,\"  \",median)"
   ]
  },
  {
   "cell_type": "markdown",
   "id": "c75494e9",
   "metadata": {},
   "source": [
    "# Mode\n",
    "The mode is the value that appears most often in a set of data values.\n",
    "- it is usually used when we have categorical value\n",
    "- It won't get affected from outlier\n",
    "- If a mode is there then it is called unimodel\n",
    "- If a mode is 2 then it is called bimodel\n",
    "- If a mode is more than 2, then it is called Multi Model\n",
    "\n",
    "$$ Mode = Max(Frequency \\ of \\  X_i ) $$\n",
    "\n"
   ]
  },
  {
   "cell_type": "markdown",
   "id": "b8c77158",
   "metadata": {},
   "source": [
    "**Using In-Built Methods**"
   ]
  },
  {
   "cell_type": "code",
   "execution_count": 23,
   "id": "2661360f",
   "metadata": {},
   "outputs": [
    {
     "data": {
      "text/html": [
       "<div>\n",
       "<style scoped>\n",
       "    .dataframe tbody tr th:only-of-type {\n",
       "        vertical-align: middle;\n",
       "    }\n",
       "\n",
       "    .dataframe tbody tr th {\n",
       "        vertical-align: top;\n",
       "    }\n",
       "\n",
       "    .dataframe thead th {\n",
       "        text-align: right;\n",
       "    }\n",
       "</style>\n",
       "<table border=\"1\" class=\"dataframe\">\n",
       "  <thead>\n",
       "    <tr style=\"text-align: right;\">\n",
       "      <th></th>\n",
       "      <th>0</th>\n",
       "    </tr>\n",
       "  </thead>\n",
       "  <tbody>\n",
       "    <tr>\n",
       "      <th>Mthly_HH_Income</th>\n",
       "      <td>45000</td>\n",
       "    </tr>\n",
       "    <tr>\n",
       "      <th>Mthly_HH_Expense</th>\n",
       "      <td>25000</td>\n",
       "    </tr>\n",
       "    <tr>\n",
       "      <th>No_of_Fly_Members</th>\n",
       "      <td>4</td>\n",
       "    </tr>\n",
       "    <tr>\n",
       "      <th>Emi_or_Rent_Amt</th>\n",
       "      <td>0</td>\n",
       "    </tr>\n",
       "    <tr>\n",
       "      <th>Annual_HH_Income</th>\n",
       "      <td>590400</td>\n",
       "    </tr>\n",
       "    <tr>\n",
       "      <th>Highest_Qualified_Member</th>\n",
       "      <td>Graduate</td>\n",
       "    </tr>\n",
       "    <tr>\n",
       "      <th>No_of_Earning_Members</th>\n",
       "      <td>1</td>\n",
       "    </tr>\n",
       "  </tbody>\n",
       "</table>\n",
       "</div>"
      ],
      "text/plain": [
       "                                 0\n",
       "Mthly_HH_Income              45000\n",
       "Mthly_HH_Expense             25000\n",
       "No_of_Fly_Members                4\n",
       "Emi_or_Rent_Amt                  0\n",
       "Annual_HH_Income            590400\n",
       "Highest_Qualified_Member  Graduate\n",
       "No_of_Earning_Members            1"
      ]
     },
     "execution_count": 23,
     "metadata": {},
     "output_type": "execute_result"
    }
   ],
   "source": [
    "df.mode().transpose()\n"
   ]
  },
  {
   "cell_type": "markdown",
   "id": "7a97bc59",
   "metadata": {},
   "source": [
    "**Using Formulae**"
   ]
  },
  {
   "cell_type": "code",
   "execution_count": 25,
   "id": "d6c838f0",
   "metadata": {},
   "outputs": [
    {
     "name": "stdout",
     "output_type": "stream",
     "text": [
      "Mthly_HH_Income    45000\n",
      "Mthly_HH_Expense    25000\n",
      "No_of_Fly_Members    4\n",
      "Emi_or_Rent_Amt    0\n",
      "Annual_HH_Income    590400\n",
      "Highest_Qualified_Member    Graduate\n",
      "No_of_Earning_Members    1\n"
     ]
    }
   ],
   "source": [
    "cols=list(df.columns)\n",
    "for column in cols:\n",
    "    data=sorted(df[column])\n",
    "    di={ i:data.count(i) for i in data }\n",
    "    mode=max(di,key=lambda x:di[x])\n",
    "    print(column,\"  \",mode)"
   ]
  },
  {
   "cell_type": "markdown",
   "id": "556e33d0",
   "metadata": {},
   "source": [
    "# Trimmed Mean\n",
    "- Take the values in range between IQ1 - IQ3, rest discard the values\n",
    "  take average of values \n",
    "- Trimmed Mean =   1/ len(IQ1-IQ2)* [ IQ3 i=IQ1 sum (xi)  ]\n"
   ]
  },
  {
   "cell_type": "markdown",
   "id": "e5e7ce52",
   "metadata": {},
   "source": [
    "# Measure of Spread or Dispersion\n",
    "- It is also a univariate analysis\n",
    "These are :\n",
    "- Range\n",
    "- IQR (Inter Quartile Range)\n",
    "- Variance\n",
    "- Standard of Variance"
   ]
  },
  {
   "cell_type": "markdown",
   "id": "d3e9ddd2",
   "metadata": {},
   "source": [
    "# Range\n",
    "The range is the spread of your data from the lowest to the highest value in the distribution.\n",
    "- Range will be affected due to outliers\n",
    "\n",
    "$$ Range= Max(X_i)- Min(X_i) $$"
   ]
  },
  {
   "cell_type": "markdown",
   "id": "8e721130",
   "metadata": {},
   "source": [
    "# IQR(Inter Quartile Range):\n",
    "\n",
    "- Percentile(divide data by 100 equal parts) : Relative element to the whole dataset\n",
    "    \n",
    "    - maximum = 100th percentile\n",
    "    - minimum= 1st percentile\n",
    "    - median = 50th percentile\n",
    "    \n",
    "- Quartile:     (divide data by 4 equal parts)\n",
    "    - Total no of split is 3 \n",
    "       - First at 25 %   == IQ1\n",
    "       - Second at 50 %  == IQ2\n",
    "       - Third at 75%    == IQ3\n",
    "    \n",
    "- Decile :     Divide data by 10 equal parts\n",
    "        \n",
    "- Quintile:    Divide data by 5 equal parts\n",
    "    \n",
    "- IQR= IQ3 -IQ1\n",
    "    - IQR is not get impacted due to outliers\n",
    "    - for calculating the IQR, we need to sort the data first\n",
    "    \n",
    "        \n",
    "        "
   ]
  },
  {
   "cell_type": "markdown",
   "id": "8955c10c",
   "metadata": {},
   "source": [
    "# Variance ($ \\sigma ^2 $)\n",
    "\n",
    "Variance means How the data is spread out around the mean.\n",
    "- Variance is also affected due to outliers\n",
    "\n",
    "$$ Variance (\\sigma ^2)=  \\frac{1}{n} \\Sigma (X_i -  \\mu_x)^2 $$\n",
    "\n",
    "\n",
    "\n",
    "\n"
   ]
  },
  {
   "cell_type": "markdown",
   "id": "6248ba9e",
   "metadata": {},
   "source": [
    "**Using In-Built Methods**"
   ]
  },
  {
   "cell_type": "code",
   "execution_count": 26,
   "id": "f8a7a87b",
   "metadata": {},
   "outputs": [
    {
     "data": {
      "text/plain": [
       "Mthly_HH_Income          6.811009e+08\n",
       "Mthly_HH_Expense         1.461733e+08\n",
       "No_of_Fly_Members        2.302449e+00\n",
       "Emi_or_Rent_Amt          3.895551e+07\n",
       "Annual_HH_Income         1.024869e+11\n",
       "No_of_Earning_Members    5.391837e-01\n",
       "dtype: float64"
      ]
     },
     "execution_count": 26,
     "metadata": {},
     "output_type": "execute_result"
    }
   ],
   "source": [
    "df.var()"
   ]
  },
  {
   "cell_type": "markdown",
   "id": "451ed8bf",
   "metadata": {},
   "source": [
    "**Using Formulae**"
   ]
  },
  {
   "cell_type": "code",
   "execution_count": 30,
   "id": "9b3f60e8",
   "metadata": {},
   "outputs": [
    {
     "name": "stdout",
     "output_type": "stream",
     "text": [
      "Mthly_HH_Income    667478836.0\n",
      "Mthly_HH_Expense    143249876.0\n",
      "No_of_Fly_Members    2.2564\n",
      "Emi_or_Rent_Amt    38176400.0\n",
      "Annual_HH_Income    100437186889.95831\n",
      "No_of_Earning_Members    0.5284\n"
     ]
    }
   ],
   "source": [
    "cols=list(df.columns)\n",
    "cols.remove('Highest_Qualified_Member')\n",
    "for column in cols:\n",
    "    data=df[column]\n",
    "    mean=sum(data)/len(data)\n",
    "    var_data=[(i-mean)**2 for i in data]\n",
    "    variance=sum(var_data)/len(var_data)\n",
    "    print(column,\"  \",variance)\n",
    "        "
   ]
  },
  {
   "cell_type": "markdown",
   "id": "9c0a6588",
   "metadata": {},
   "source": [
    "#  Standard deviation  ($ \\sigma $) \n",
    "\n",
    "Standard deviation measures the spread of the data about the mean value.\n",
    "\n",
    "**[Note : Deviation means how far it is from mean]**\n",
    "- It is also affected due to outliers\n",
    "\n",
    "$$ Standard Deviation (\\sigma) = \\sqrt{\\sigma^2} $$ "
   ]
  },
  {
   "cell_type": "markdown",
   "id": "002da9ab",
   "metadata": {},
   "source": [
    "**Using In-Built Methods**"
   ]
  },
  {
   "cell_type": "code",
   "execution_count": 32,
   "id": "c3fd0616",
   "metadata": {},
   "outputs": [
    {
     "data": {
      "text/plain": [
       "Mthly_HH_Income           26097.908979\n",
       "Mthly_HH_Expense          12090.216824\n",
       "No_of_Fly_Members             1.517382\n",
       "Emi_or_Rent_Amt            6241.434948\n",
       "Annual_HH_Income         320135.792123\n",
       "No_of_Earning_Members         0.734291\n",
       "dtype: float64"
      ]
     },
     "execution_count": 32,
     "metadata": {},
     "output_type": "execute_result"
    }
   ],
   "source": [
    "df.std()"
   ]
  },
  {
   "cell_type": "markdown",
   "id": "2470e529",
   "metadata": {},
   "source": [
    "**Using Formulae**"
   ]
  },
  {
   "cell_type": "code",
   "execution_count": 33,
   "id": "80ced190",
   "metadata": {},
   "outputs": [
    {
     "name": "stdout",
     "output_type": "stream",
     "text": [
      "Mthly_HH_Income    25835.611779092826\n",
      "Mthly_HH_Expense    11968.704023410388\n",
      "No_of_Fly_Members    1.502131818450032\n",
      "Emi_or_Rent_Amt    6178.705366013175\n",
      "Annual_HH_Income    316918.26531451027\n",
      "No_of_Earning_Members    0.72691127381545\n"
     ]
    }
   ],
   "source": [
    "cols=list(df.columns)\n",
    "cols.remove('Highest_Qualified_Member')\n",
    "for column in cols:\n",
    "    data=df[column]\n",
    "    mean=sum(data)/len(data)\n",
    "    var_data=[(i-mean)**2 for i in data]\n",
    "    variance=sum(var_data)/len(var_data)\n",
    "    print(column,\"  \",variance**0.5)"
   ]
  },
  {
   "cell_type": "markdown",
   "id": "fdacf8b0",
   "metadata": {},
   "source": [
    "# MAD \n",
    "$ \\Rightarrow $ Median absolute Deviation\n",
    "   - Robost to the outlier cause we are calculating the median\n",
    "    - Since Median is calculated by sorting the data, thus increases the time Complexity\n",
    "    \n",
    "$$ Median \\ Absolute \\ Deviation =  Median ( \\ | X_i - Median | \\ ) $$\n",
    "\n",
    " $ \\Rightarrow $ Mean Absolute Deviation\n",
    "$$ Mean \\ Absolute \\ Deviation = \\frac{1}{n}\\Sigma( \\ |x_i- Median| \\ ) $$\n",
    "    "
   ]
  },
  {
   "cell_type": "markdown",
   "id": "5707e80d",
   "metadata": {},
   "source": [
    "# Measure of Relationship\n",
    "It is ised for Bivariate Analysis\n",
    "- Correlation\n",
    "- Covariance"
   ]
  },
  {
   "cell_type": "markdown",
   "id": "c5bb7fb6",
   "metadata": {},
   "source": [
    "# CoVariance\n",
    "Correlation measures the strength and direction of the linear relationship between two variables. The values range between -1.0 and 1.0. There are three cases \n",
    "- **Case 1** : if the result is +ve   implies that if X increases then Y increases\n",
    "- **Case 2** : if the result is -ve implies that if X increases then Y decreases\n",
    "- **Case 3** : if the result is 0 implies that it has no effect.\n",
    "\n",
    "$$ Covariance_{(x,y)} =\\frac{1}{n}\\sum_{i=1}^{n}(X_i-\\mu_x)(Y_i-\\mu_y) $$ \n"
   ]
  },
  {
   "cell_type": "markdown",
   "id": "0a095175",
   "metadata": {},
   "source": [
    "# Correlation\n",
    "\n",
    "Pearson Correlation Coeff: $ \\rho_(x,y)$\n",
    "   - -1 <= rho xy <=+1\n",
    "   - **Case 1** : if the result is +ve   implies that if X increases then Y increases\n",
    "   - **Case 2** : if the result is -ve implies that if X increases then Y decreases\n",
    "   - **Case 3** : if the result is 0 implies that it has no effect.\n",
    "   - Can only applicable to linear relationship only\n",
    "    \n",
    "  $$ \\rho_(x,y) = \\frac{Cov_(x,y)}{\\sigma_x \\ \\sigma_y}  $$\n",
    "\n",
    "\n",
    "\n",
    "\n",
    "        "
   ]
  },
  {
   "cell_type": "markdown",
   "id": "bb0aa89f",
   "metadata": {},
   "source": [
    "**Using In-Built Methods**"
   ]
  },
  {
   "cell_type": "code",
   "execution_count": 35,
   "id": "e7af6851",
   "metadata": {},
   "outputs": [
    {
     "data": {
      "text/html": [
       "<div>\n",
       "<style scoped>\n",
       "    .dataframe tbody tr th:only-of-type {\n",
       "        vertical-align: middle;\n",
       "    }\n",
       "\n",
       "    .dataframe tbody tr th {\n",
       "        vertical-align: top;\n",
       "    }\n",
       "\n",
       "    .dataframe thead th {\n",
       "        text-align: right;\n",
       "    }\n",
       "</style>\n",
       "<table border=\"1\" class=\"dataframe\">\n",
       "  <thead>\n",
       "    <tr style=\"text-align: right;\">\n",
       "      <th></th>\n",
       "      <th>Mthly_HH_Income</th>\n",
       "      <th>Mthly_HH_Expense</th>\n",
       "      <th>No_of_Fly_Members</th>\n",
       "      <th>Emi_or_Rent_Amt</th>\n",
       "      <th>Annual_HH_Income</th>\n",
       "      <th>No_of_Earning_Members</th>\n",
       "    </tr>\n",
       "  </thead>\n",
       "  <tbody>\n",
       "    <tr>\n",
       "      <th>Mthly_HH_Income</th>\n",
       "      <td>1.000000</td>\n",
       "      <td>0.649215</td>\n",
       "      <td>0.448317</td>\n",
       "      <td>0.036976</td>\n",
       "      <td>0.970315</td>\n",
       "      <td>0.347883</td>\n",
       "    </tr>\n",
       "    <tr>\n",
       "      <th>Mthly_HH_Expense</th>\n",
       "      <td>0.649215</td>\n",
       "      <td>1.000000</td>\n",
       "      <td>0.639702</td>\n",
       "      <td>0.405280</td>\n",
       "      <td>0.591222</td>\n",
       "      <td>0.311915</td>\n",
       "    </tr>\n",
       "    <tr>\n",
       "      <th>No_of_Fly_Members</th>\n",
       "      <td>0.448317</td>\n",
       "      <td>0.639702</td>\n",
       "      <td>1.000000</td>\n",
       "      <td>0.085808</td>\n",
       "      <td>0.430868</td>\n",
       "      <td>0.597482</td>\n",
       "    </tr>\n",
       "    <tr>\n",
       "      <th>Emi_or_Rent_Amt</th>\n",
       "      <td>0.036976</td>\n",
       "      <td>0.405280</td>\n",
       "      <td>0.085808</td>\n",
       "      <td>1.000000</td>\n",
       "      <td>0.002716</td>\n",
       "      <td>-0.097431</td>\n",
       "    </tr>\n",
       "    <tr>\n",
       "      <th>Annual_HH_Income</th>\n",
       "      <td>0.970315</td>\n",
       "      <td>0.591222</td>\n",
       "      <td>0.430868</td>\n",
       "      <td>0.002716</td>\n",
       "      <td>1.000000</td>\n",
       "      <td>0.296679</td>\n",
       "    </tr>\n",
       "    <tr>\n",
       "      <th>No_of_Earning_Members</th>\n",
       "      <td>0.347883</td>\n",
       "      <td>0.311915</td>\n",
       "      <td>0.597482</td>\n",
       "      <td>-0.097431</td>\n",
       "      <td>0.296679</td>\n",
       "      <td>1.000000</td>\n",
       "    </tr>\n",
       "  </tbody>\n",
       "</table>\n",
       "</div>"
      ],
      "text/plain": [
       "                       Mthly_HH_Income  Mthly_HH_Expense  No_of_Fly_Members  \\\n",
       "Mthly_HH_Income               1.000000          0.649215           0.448317   \n",
       "Mthly_HH_Expense              0.649215          1.000000           0.639702   \n",
       "No_of_Fly_Members             0.448317          0.639702           1.000000   \n",
       "Emi_or_Rent_Amt               0.036976          0.405280           0.085808   \n",
       "Annual_HH_Income              0.970315          0.591222           0.430868   \n",
       "No_of_Earning_Members         0.347883          0.311915           0.597482   \n",
       "\n",
       "                       Emi_or_Rent_Amt  Annual_HH_Income  \\\n",
       "Mthly_HH_Income               0.036976          0.970315   \n",
       "Mthly_HH_Expense              0.405280          0.591222   \n",
       "No_of_Fly_Members             0.085808          0.430868   \n",
       "Emi_or_Rent_Amt               1.000000          0.002716   \n",
       "Annual_HH_Income              0.002716          1.000000   \n",
       "No_of_Earning_Members        -0.097431          0.296679   \n",
       "\n",
       "                       No_of_Earning_Members  \n",
       "Mthly_HH_Income                     0.347883  \n",
       "Mthly_HH_Expense                    0.311915  \n",
       "No_of_Fly_Members                   0.597482  \n",
       "Emi_or_Rent_Amt                    -0.097431  \n",
       "Annual_HH_Income                    0.296679  \n",
       "No_of_Earning_Members               1.000000  "
      ]
     },
     "execution_count": 35,
     "metadata": {},
     "output_type": "execute_result"
    }
   ],
   "source": [
    "df.corr()"
   ]
  },
  {
   "cell_type": "code",
   "execution_count": 42,
   "id": "667b68d9",
   "metadata": {},
   "outputs": [
    {
     "data": {
      "image/png": "[encoded data removed]",
      "text/plain": [
       "<Figure size 720x504 with 2 Axes>"
      ]
     },
     "metadata": {
      "needs_background": "light"
     },
     "output_type": "display_data"
    }
   ],
   "source": [
    "plt.figure(figsize=(10,7))\n",
    "sns.heatmap(df.corr(),annot=True)\n",
    "plt.show()"
   ]
  },
  {
   "cell_type": "markdown",
   "id": "414ff5dd",
   "metadata": {},
   "source": [
    "**Using Formulae**"
   ]
  },
  {
   "cell_type": "code",
   "execution_count": 45,
   "id": "c3c1df26",
   "metadata": {},
   "outputs": [
    {
     "data": {
      "text/html": [
       "<div>\n",
       "<style scoped>\n",
       "    .dataframe tbody tr th:only-of-type {\n",
       "        vertical-align: middle;\n",
       "    }\n",
       "\n",
       "    .dataframe tbody tr th {\n",
       "        vertical-align: top;\n",
       "    }\n",
       "\n",
       "    .dataframe thead th {\n",
       "        text-align: right;\n",
       "    }\n",
       "</style>\n",
       "<table border=\"1\" class=\"dataframe\">\n",
       "  <thead>\n",
       "    <tr style=\"text-align: right;\">\n",
       "      <th></th>\n",
       "      <th>Mthly_HH_Income</th>\n",
       "      <th>Mthly_HH_Expense</th>\n",
       "      <th>No_of_Fly_Members</th>\n",
       "      <th>Emi_or_Rent_Amt</th>\n",
       "      <th>Annual_HH_Income</th>\n",
       "      <th>No_of_Earning_Members</th>\n",
       "    </tr>\n",
       "  </thead>\n",
       "  <tbody>\n",
       "    <tr>\n",
       "      <th>Mthly_HH_Income</th>\n",
       "      <td>1.000000</td>\n",
       "      <td>0.649215</td>\n",
       "      <td>0.448317</td>\n",
       "      <td>0.036976</td>\n",
       "      <td>0.970315</td>\n",
       "      <td>0.347883</td>\n",
       "    </tr>\n",
       "    <tr>\n",
       "      <th>Mthly_HH_Expense</th>\n",
       "      <td>0.649215</td>\n",
       "      <td>1.000000</td>\n",
       "      <td>0.639702</td>\n",
       "      <td>0.405280</td>\n",
       "      <td>0.591222</td>\n",
       "      <td>0.311915</td>\n",
       "    </tr>\n",
       "    <tr>\n",
       "      <th>No_of_Fly_Members</th>\n",
       "      <td>0.448317</td>\n",
       "      <td>0.639702</td>\n",
       "      <td>1.000000</td>\n",
       "      <td>0.085808</td>\n",
       "      <td>0.430868</td>\n",
       "      <td>0.597482</td>\n",
       "    </tr>\n",
       "    <tr>\n",
       "      <th>Emi_or_Rent_Amt</th>\n",
       "      <td>0.036976</td>\n",
       "      <td>0.405280</td>\n",
       "      <td>0.085808</td>\n",
       "      <td>1.000000</td>\n",
       "      <td>0.002716</td>\n",
       "      <td>-0.097431</td>\n",
       "    </tr>\n",
       "    <tr>\n",
       "      <th>Annual_HH_Income</th>\n",
       "      <td>0.970315</td>\n",
       "      <td>0.591222</td>\n",
       "      <td>0.430868</td>\n",
       "      <td>0.002716</td>\n",
       "      <td>1.000000</td>\n",
       "      <td>0.296679</td>\n",
       "    </tr>\n",
       "    <tr>\n",
       "      <th>No_of_Earning_Members</th>\n",
       "      <td>0.347883</td>\n",
       "      <td>0.311915</td>\n",
       "      <td>0.597482</td>\n",
       "      <td>-0.097431</td>\n",
       "      <td>0.296679</td>\n",
       "      <td>1.000000</td>\n",
       "    </tr>\n",
       "  </tbody>\n",
       "</table>\n",
       "</div>"
      ],
      "text/plain": [
       "                       Mthly_HH_Income  Mthly_HH_Expense  No_of_Fly_Members  \\\n",
       "Mthly_HH_Income               1.000000          0.649215           0.448317   \n",
       "Mthly_HH_Expense              0.649215          1.000000           0.639702   \n",
       "No_of_Fly_Members             0.448317          0.639702           1.000000   \n",
       "Emi_or_Rent_Amt               0.036976          0.405280           0.085808   \n",
       "Annual_HH_Income              0.970315          0.591222           0.430868   \n",
       "No_of_Earning_Members         0.347883          0.311915           0.597482   \n",
       "\n",
       "                       Emi_or_Rent_Amt  Annual_HH_Income  \\\n",
       "Mthly_HH_Income               0.036976          0.970315   \n",
       "Mthly_HH_Expense              0.405280          0.591222   \n",
       "No_of_Fly_Members             0.085808          0.430868   \n",
       "Emi_or_Rent_Amt               1.000000          0.002716   \n",
       "Annual_HH_Income              0.002716          1.000000   \n",
       "No_of_Earning_Members        -0.097431          0.296679   \n",
       "\n",
       "                       No_of_Earning_Members  \n",
       "Mthly_HH_Income                     0.347883  \n",
       "Mthly_HH_Expense                    0.311915  \n",
       "No_of_Fly_Members                   0.597482  \n",
       "Emi_or_Rent_Amt                    -0.097431  \n",
       "Annual_HH_Income                    0.296679  \n",
       "No_of_Earning_Members               1.000000  "
      ]
     },
     "execution_count": 45,
     "metadata": {},
     "output_type": "execute_result"
    }
   ],
   "source": [
    "cols=list(df.columns)\n",
    "cols.remove('Highest_Qualified_Member')\n",
    "data=[]\n",
    "for column_rows in cols:\n",
    "    temp=[]\n",
    "    for column_header in cols:\n",
    "        x = df[column_rows]\n",
    "        y = df[column_header]\n",
    "        n = len(x)\n",
    "        \n",
    "        mu_x = sum(x)/n\n",
    "        std_x = []\n",
    "        mu_y = sum(y)/n\n",
    "        std_y = []\n",
    "        summation = []\n",
    "        for i in range(n):\n",
    "            std_x.append((x[i]-mu_x)**2)\n",
    "            std_y.append((y[i]-mu_y)**2)\n",
    "            summation.append((x[i]-mu_x)*(y[i]-mu_y))\n",
    "\n",
    "        std_x = (sum(std_x)/n)**0.5\n",
    "        std_y = (sum(std_y)/n)**0.5\n",
    "\n",
    "        correlation = sum(summation)/(n*std_x*std_y)\n",
    "        temp.append(correlation)\n",
    "        #print(correlation)\n",
    "    data.append(temp)\n",
    "    \n",
    "corr_data=pd.DataFrame(data,columns=cols,index=cols)\n",
    "corr_data"
   ]
  },
  {
   "cell_type": "markdown",
   "id": "7db16605",
   "metadata": {},
   "source": [
    "# Normal Distribution:\n",
    "A normal distribution, sometimes called the bell curve, is a distribution that occurs naturally in many situations. \n",
    "For example, the bell curve is seen in height of a person in a Society.\n",
    "$$ Normal Distribution = \\frac{1}{\\sqrt{2\\pi\\sigma}} \\epsilon^{\\frac{-(x-\\mu)^2}{2\\sigma^2}} $$"
   ]
  },
  {
   "cell_type": "markdown",
   "id": "d09e0424",
   "metadata": {},
   "source": [
    "# Properties of Normal Distribution -\n",
    "There are many properties of normal distribution -\n",
    "- The curve is symmetrical about the vertical axis\n",
    "- Due to symmetry, the mean, median, mode of the normal distribution are identical\n",
    "\n",
    "Bell shaped curve 68 - 95 - 99.7 % Rule\n",
    "- $ (\\mu \\underset{-}{+} \\sigma) $ 1 std. away from the mean $ \\rightarrow $ 68% data will cover\n",
    "- $ (\\mu \\underset{-}{+} 2\\sigma) $ 2 std. away from the mean $ \\rightarrow $ 95% data will cover\n",
    "- $ (\\mu \\underset{-}{+} 3\\sigma) $ 3 std. away from the mean $ \\rightarrow $ 99.7% data will cover"
   ]
  },
  {
   "cell_type": "code",
   "execution_count": 60,
   "id": "2a58edd6",
   "metadata": {
    "scrolled": true
   },
   "outputs": [
    {
     "name": "stderr",
     "output_type": "stream",
     "text": [
      "C:\\Users\\Anonymous\\anaconda3\\lib\\site-packages\\seaborn\\distributions.py:2557: FutureWarning: `distplot` is a deprecated function and will be removed in a future version. Please adapt your code to use either `displot` (a figure-level function with similar flexibility) or `histplot` (an axes-level function for histograms).\n",
      "  warnings.warn(msg, FutureWarning)\n"
     ]
    },
    {
     "data": {
      "image/png": "[encoded data removed]",
      "text/plain": [
       "<Figure size 432x288 with 1 Axes>"
      ]
     },
     "metadata": {
      "needs_background": "light"
     },
     "output_type": "display_data"
    }
   ],
   "source": [
    "sns.distplot(np.array(df['Mthly_HH_Income']))\n",
    "plt.title('Normal Distribution Plot of Mthly_HH_Income')\n",
    "plt.show()"
   ]
  },
  {
   "cell_type": "code",
   "execution_count": 67,
   "id": "8ad15c38",
   "metadata": {},
   "outputs": [
    {
     "name": "stderr",
     "output_type": "stream",
     "text": [
      "C:\\Users\\Anonymous\\anaconda3\\lib\\site-packages\\seaborn\\distributions.py:2557: FutureWarning: `distplot` is a deprecated function and will be removed in a future version. Please adapt your code to use either `displot` (a figure-level function with similar flexibility) or `histplot` (an axes-level function for histograms).\n",
      "  warnings.warn(msg, FutureWarning)\n"
     ]
    },
    {
     "data": {
      "image/png": "[encoded data removed]",
      "text/plain": [
       "<Figure size 432x288 with 1 Axes>"
      ]
     },
     "metadata": {
      "needs_background": "light"
     },
     "output_type": "display_data"
    }
   ],
   "source": [
    "sns.distplot(np.array(df['Mthly_HH_Expense']))\n",
    "plt.title('Normal Distribution Plot of Mthly_HH_Expense')\n",
    "plt.show()"
   ]
  },
  {
   "cell_type": "code",
   "execution_count": 66,
   "id": "2e9e488f",
   "metadata": {},
   "outputs": [
    {
     "name": "stderr",
     "output_type": "stream",
     "text": [
      "C:\\Users\\Anonymous\\anaconda3\\lib\\site-packages\\seaborn\\distributions.py:2557: FutureWarning: `distplot` is a deprecated function and will be removed in a future version. Please adapt your code to use either `displot` (a figure-level function with similar flexibility) or `histplot` (an axes-level function for histograms).\n",
      "  warnings.warn(msg, FutureWarning)\n"
     ]
    },
    {
     "data": {
      "image/png": "[encoded data removed]",
      "text/plain": [
       "<Figure size 432x288 with 1 Axes>"
      ]
     },
     "metadata": {
      "needs_background": "light"
     },
     "output_type": "display_data"
    }
   ],
   "source": [
    "sns.distplot(np.array(df['No_of_Fly_Members']))\n",
    "plt.title('Normal Distribution Plot of No_of_Fly_Members')\n",
    "plt.show()"
   ]
  },
  {
   "cell_type": "code",
   "execution_count": 65,
   "id": "01716498",
   "metadata": {},
   "outputs": [
    {
     "name": "stderr",
     "output_type": "stream",
     "text": [
      "C:\\Users\\Anonymous\\anaconda3\\lib\\site-packages\\seaborn\\distributions.py:2557: FutureWarning: `distplot` is a deprecated function and will be removed in a future version. Please adapt your code to use either `displot` (a figure-level function with similar flexibility) or `histplot` (an axes-level function for histograms).\n",
      "  warnings.warn(msg, FutureWarning)\n"
     ]
    },
    {
     "data": {
      "image/png": "[encoded data removed]",
      "text/plain": [
       "<Figure size 432x288 with 1 Axes>"
      ]
     },
     "metadata": {
      "needs_background": "light"
     },
     "output_type": "display_data"
    }
   ],
   "source": [
    "sns.distplot(np.array(df['Emi_or_Rent_Amt']))\n",
    "plt.title('Normal Distribution Plot of Emi_or_Rent_Amt')\n",
    "plt.show()"
   ]
  },
  {
   "cell_type": "code",
   "execution_count": 64,
   "id": "3b57f2da",
   "metadata": {},
   "outputs": [
    {
     "name": "stderr",
     "output_type": "stream",
     "text": [
      "C:\\Users\\Anonymous\\anaconda3\\lib\\site-packages\\seaborn\\distributions.py:2557: FutureWarning: `distplot` is a deprecated function and will be removed in a future version. Please adapt your code to use either `displot` (a figure-level function with similar flexibility) or `histplot` (an axes-level function for histograms).\n",
      "  warnings.warn(msg, FutureWarning)\n"
     ]
    },
    {
     "data": {
      "image/png": "[encoded data removed]",
      "text/plain": [
       "<Figure size 432x288 with 1 Axes>"
      ]
     },
     "metadata": {
      "needs_background": "light"
     },
     "output_type": "display_data"
    }
   ],
   "source": [
    "sns.distplot(np.array(df['Annual_HH_Income']))\n",
    "plt.title('Normal Distribution Plot of Annual_HH_Income')\n",
    "plt.show()"
   ]
  },
  {
   "cell_type": "code",
   "execution_count": 69,
   "id": "aa7ef6c9",
   "metadata": {},
   "outputs": [
    {
     "name": "stderr",
     "output_type": "stream",
     "text": [
      "C:\\Users\\Anonymous\\anaconda3\\lib\\site-packages\\seaborn\\distributions.py:2557: FutureWarning: `distplot` is a deprecated function and will be removed in a future version. Please adapt your code to use either `displot` (a figure-level function with similar flexibility) or `histplot` (an axes-level function for histograms).\n",
      "  warnings.warn(msg, FutureWarning)\n"
     ]
    },
    {
     "data": {
      "image/png": "[encoded data removed]",
      "text/plain": [
       "<Figure size 432x288 with 1 Axes>"
      ]
     },
     "metadata": {
      "needs_background": "light"
     },
     "output_type": "display_data"
    }
   ],
   "source": [
    "sns.distplot(np.array(df['No_of_Earning_Members']))\n",
    "plt.title('Normal Distribution Plot of No_of_Earning_Members')\n",
    "plt.show()"
   ]
  },
  {
   "cell_type": "markdown",
   "id": "7588b5bc",
   "metadata": {},
   "source": [
    "# Skewness -\n",
    "Skewness refers to distortion or asymmetry in a normal distribution. If the curve is shifted to the left or to the right, it is said to be skewed. A normal distribution has a skew of zero.\n",
    "- If the curve shifted to the left, it is said to be Negatively skewed\n",
    "- If the curve shifted to the right, it is said to be Positively skewed\n",
    "- If skewness is less than -1 or greater than 1, the distribution is highly skewed.\n",
    "- If skewness is between -1 and -0.5 or between 0.5 and 1, the distribution is moderately skewed.\n",
    "- If skewness is between -0.5 and 0.5, the distribution is approximately symmetric."
   ]
  },
  {
   "cell_type": "markdown",
   "id": "b9616ec3",
   "metadata": {},
   "source": [
    "# Effect on Mean, Median, Mode due to Skewness -\n",
    "- Positively skewed and Negatively skewed effect mean, median and mode also. \n",
    "\n",
    "Generally \n",
    "-  if the distribution of data is skewed to the left, the mean is less than the median, which is often less than the mode. \n",
    "-  If the distribution of data is skewed to the right, the mode is often less than the median, which is less than the mean. \n",
    "-  If the skewness value is 0 then we can say mean, median and mode are identical."
   ]
  },
  {
   "cell_type": "code",
   "execution_count": 70,
   "id": "64d8147d",
   "metadata": {},
   "outputs": [
    {
     "data": {
      "text/plain": [
       "0.9246148763777229"
      ]
     },
     "execution_count": 70,
     "metadata": {},
     "output_type": "execute_result"
    }
   ],
   "source": [
    "normal_dist = df['Mthly_HH_Income']\n",
    "normal_dist.skew()"
   ]
  },
  {
   "cell_type": "markdown",
   "id": "a4f11d43",
   "metadata": {},
   "source": [
    "# Q-Q Plot -\n",
    "- Q-Q Plot refers to quantile-quantile plot. \n",
    "- It is a way to test normality of a distribution. \n",
    "- With the help of this we can check skewness, kurtosis. \n",
    "- It is a plot of the quantiles of two distributions against eachother. \n",
    "- The pattern of the points in the plot is used to compare the two distributions.\n",
    "- A 45$^{\\circ}$ reference line is also plotted. If the two sets come with the same distribution, the points should fall approximately along this reference line"
   ]
  },
  {
   "cell_type": "code",
   "execution_count": 71,
   "id": "42d19d40",
   "metadata": {},
   "outputs": [
    {
     "data": {
      "image/png": "[encoded data removed]",
      "text/plain": [
       "<Figure size 432x288 with 1 Axes>"
      ]
     },
     "metadata": {
      "needs_background": "light"
     },
     "output_type": "display_data"
    }
   ],
   "source": [
    "stats.probplot(normal_dist, dist=\"norm\", plot=plt)\n",
    "plt.grid()"
   ]
  },
  {
   "cell_type": "markdown",
   "id": "c2e0d020",
   "metadata": {},
   "source": [
    "# Box-Cox Transformation -\n",
    "- We use Box-Cox plot to transform any pareto, log, positively skewed, negatively skewed distributions to a normal distribution. \n",
    "- The box-cox normality plot is a plot of these correlation coefficients for various values of the lambda parameter.\n",
    "- The histogram of the data after applying the box-cox transformation with $ \\lambda $ = -0.3 shows a dataset for which the normality assumption is reasonable."
   ]
  },
  {
   "cell_type": "code",
   "execution_count": 72,
   "id": "72537575",
   "metadata": {},
   "outputs": [
    {
     "name": "stdout",
     "output_type": "stream",
     "text": [
      "0.3031376789702236\n"
     ]
    }
   ],
   "source": [
    "x_t, l = stats.boxcox(normal_dist)\n",
    "print(l)"
   ]
  },
  {
   "cell_type": "code",
   "execution_count": 73,
   "id": "df7cd510",
   "metadata": {
    "scrolled": true
   },
   "outputs": [
    {
     "data": {
      "image/png": "[encoded data removed]",
      "text/plain": [
       "<Figure size 432x288 with 1 Axes>"
      ]
     },
     "metadata": {
      "needs_background": "light"
     },
     "output_type": "display_data"
    }
   ],
   "source": [
    "stats.probplot(x_t, dist=\"norm\", plot=plt)\n",
    "plt.grid()"
   ]
  },
  {
   "cell_type": "markdown",
   "id": "16d57a3d",
   "metadata": {},
   "source": [
    "**As we can see many of the points are falling on line after Box-Cox Transformation and it is now normally distributed**"
   ]
  },
  {
   "cell_type": "code",
   "execution_count": 78,
   "id": "bcc5aeac",
   "metadata": {},
   "outputs": [
    {
     "name": "stderr",
     "output_type": "stream",
     "text": [
      "C:\\Users\\Anonymous\\anaconda3\\lib\\site-packages\\seaborn\\distributions.py:2557: FutureWarning: `distplot` is a deprecated function and will be removed in a future version. Please adapt your code to use either `displot` (a figure-level function with similar flexibility) or `histplot` (an axes-level function for histograms).\n",
      "  warnings.warn(msg, FutureWarning)\n",
      "C:\\Users\\Anonymous\\anaconda3\\lib\\site-packages\\seaborn\\distributions.py:2557: FutureWarning: `distplot` is a deprecated function and will be removed in a future version. Please adapt your code to use either `displot` (a figure-level function with similar flexibility) or `histplot` (an axes-level function for histograms).\n",
      "  warnings.warn(msg, FutureWarning)\n"
     ]
    },
    {
     "data": {
      "image/png": "[encoded data removed]",
      "text/plain": [
       "<Figure size 1080x576 with 2 Axes>"
      ]
     },
     "metadata": {
      "needs_background": "light"
     },
     "output_type": "display_data"
    }
   ],
   "source": [
    "plt.figure(figsize=(15, 8))\n",
    "\n",
    "plt.subplot(1, 2, 1)\n",
    "sns.distplot(np.array(df['Mthly_HH_Expense']))\n",
    "plt.title('Normal Distribution Plot of Mthly_HH_Expense')\n",
    "\n",
    "plt.subplot(1, 2, 2)\n",
    "sns.distplot(np.array(x_t))\n",
    "plt.title('Normal Distribution Plot after Box-Cox Transformation on Mthly_HH_Income')\n",
    "\n",
    "plt.show()"
   ]
  },
  {
   "cell_type": "markdown",
   "id": "e32c5600",
   "metadata": {},
   "source": [
    "# Thank You !!\n",
    "# Hope You Like It\n",
    "@Shubhankar Satvaya"
   ]
  }
 ],
 "metadata": {
  "kernelspec": {
   "display_name": "Python 3",
   "language": "python",
   "name": "python3"
  },
  "language_info": {
   "codemirror_mode": {
    "name": "ipython",
    "version": 3
   },
   "file_extension": ".py",
   "mimetype": "text/x-python",
   "name": "python",
   "nbconvert_exporter": "python",
   "pygments_lexer": "ipython3",
   "version": "3.8.8"
  }
 },
 "nbformat": 4,
 "nbformat_minor": 5
}
