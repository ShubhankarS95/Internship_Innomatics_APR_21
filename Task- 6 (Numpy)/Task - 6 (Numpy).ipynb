{
 "cells": [
  {
   "cell_type": "code",
   "execution_count": 3,
   "id": "692bd54e-3d61-49b4-be83-02fb566ce30d",
   "metadata": {
    "tags": []
   },
   "outputs": [],
   "source": [
    "import numpy as np"
   ]
  },
  {
   "cell_type": "code",
   "execution_count": 5,
   "id": "c41d6fad-6f4a-49aa-ba8b-618b42cc9998",
   "metadata": {
    "tags": []
   },
   "outputs": [
    {
     "name": "stdin",
     "output_type": "stream",
     "text": [
      " 1 2 3 4 -8 -10\n"
     ]
    },
    {
     "name": "stdout",
     "output_type": "stream",
     "text": [
      "[-10.  -8.   4.   3.   2.   1.]\n"
     ]
    }
   ],
   "source": [
    "## Arrays\n",
    "def arrays(arr):\n",
    "    arr.reverse()\n",
    "    nparr=np.array(arr,\"float\")\n",
    "    return nparr\n",
    "\n",
    "li=list(map(int,input().split()))\n",
    "print(arrays(li))"
   ]
  },
  {
   "cell_type": "code",
   "execution_count": 7,
   "id": "36c1ed50-ee81-456d-9dcd-e2b240cd5ce4",
   "metadata": {},
   "outputs": [
    {
     "name": "stdin",
     "output_type": "stream",
     "text": [
      " 1 2 3 4 5 6 7 8 9\n"
     ]
    },
    {
     "name": "stdout",
     "output_type": "stream",
     "text": [
      "[[1 2 3]\n",
      " [4 5 6]\n",
      " [7 8 9]]\n"
     ]
    }
   ],
   "source": [
    "# Shape and Reshape\n",
    "\n",
    "listint=list(map(int,input().split()))\n",
    "arr=np.array([listint])\n",
    "print(np.reshape(arr,(3,3)))"
   ]
  },
  {
   "cell_type": "code",
   "execution_count": 10,
   "id": "4da99ee7-2845-4f9f-90d3-76c0c5e1dce5",
   "metadata": {},
   "outputs": [
    {
     "name": "stdin",
     "output_type": "stream",
     "text": [
      " 2 2\n",
      " 1 2\n",
      " 3 4\n"
     ]
    },
    {
     "name": "stdout",
     "output_type": "stream",
     "text": [
      "[[1 3]\n",
      " [2 4]]\n",
      "[1 2 3 4]\n"
     ]
    }
   ],
   "source": [
    "# Transpose and Flatten\n",
    "a,b=input().split()\n",
    "N=int(a)\n",
    "M=int(b)\n",
    "\n",
    "arr=[]\n",
    "for i in range(N):\n",
    "    li=input().split()\n",
    "    subarr=[]\n",
    "    for j in li:\n",
    "        subarr.append(int(j))\n",
    "    arr.append(subarr)\n",
    "    \n",
    "my_arr=np.array(arr)\n",
    "\n",
    "print(np.transpose(my_arr))\n",
    "\n",
    "print(my_arr.flatten())"
   ]
  },
  {
   "cell_type": "code",
   "execution_count": 11,
   "id": "66b76978-0f64-467c-9dec-00162a46e120",
   "metadata": {},
   "outputs": [
    {
     "name": "stdin",
     "output_type": "stream",
     "text": [
      " 4 3 2\n",
      " 1 2\n",
      " 1 2\n",
      " 1 2\n",
      " 1 2\n",
      " 3 4\n",
      " 3 4\n",
      " 3 4\n"
     ]
    },
    {
     "name": "stdout",
     "output_type": "stream",
     "text": [
      "[[1 2]\n",
      " [1 2]\n",
      " [1 2]\n",
      " [1 2]\n",
      " [3 4]\n",
      " [3 4]\n",
      " [3 4]]\n"
     ]
    }
   ],
   "source": [
    "# Concatenate\n",
    "a,b,c=input().split()\n",
    "\n",
    "N,M,P=int(a),int(b),int(c)\n",
    "A1=[]\n",
    "A2=[]\n",
    "for i in range(N):\n",
    "    li=[ int(n) for n in input().split() ]\n",
    "    A1.append(li)\n",
    "    \n",
    "for i in range(M):\n",
    "    li=[ int(n) for n in input().split() ]\n",
    "    A2.append(li)\n",
    "\n",
    "print(np.concatenate( (np.array(A1),np.array(A2)),axis=0 ))\n"
   ]
  },
  {
   "cell_type": "code",
   "execution_count": 13,
   "id": "d1ba1e4b-d797-4d13-8fea-96dde83e97f4",
   "metadata": {},
   "outputs": [
    {
     "name": "stdin",
     "output_type": "stream",
     "text": [
      " 3 3 3\n"
     ]
    },
    {
     "name": "stdout",
     "output_type": "stream",
     "text": [
      "[[[0 0 0]\n",
      "  [0 0 0]\n",
      "  [0 0 0]]\n",
      "\n",
      " [[0 0 0]\n",
      "  [0 0 0]\n",
      "  [0 0 0]]\n",
      "\n",
      " [[0 0 0]\n",
      "  [0 0 0]\n",
      "  [0 0 0]]]\n",
      "[[[1 1 1]\n",
      "  [1 1 1]\n",
      "  [1 1 1]]\n",
      "\n",
      " [[1 1 1]\n",
      "  [1 1 1]\n",
      "  [1 1 1]]\n",
      "\n",
      " [[1 1 1]\n",
      "  [1 1 1]\n",
      "  [1 1 1]]]\n"
     ]
    }
   ],
   "source": [
    "# Zeros and Ones\n",
    "li=[ int(n) for n in input().split() ]\n",
    "\n",
    "print( np.zeros( tuple(li),dtype=int )  )\n",
    "print( np.ones(tuple(li),dtype= int )  )\n"
   ]
  },
  {
   "cell_type": "code",
   "execution_count": 14,
   "id": "9725804f-79dd-4094-befa-696ba0d42ff9",
   "metadata": {},
   "outputs": [
    {
     "name": "stdin",
     "output_type": "stream",
     "text": [
      " 3 3\n"
     ]
    },
    {
     "name": "stdout",
     "output_type": "stream",
     "text": [
      "[[ 1.  0.  0.]\n",
      " [ 0.  1.  0.]\n",
      " [ 0.  0.  1.]]\n"
     ]
    }
   ],
   "source": [
    "# Eye and Identity\n",
    "\n",
    "np.set_printoptions(legacy='1.13')\n",
    "\n",
    "N,M=( int(n) for n in input().split())\n",
    "\n",
    "print(np.eye(N,M,k=0))\n",
    "\n",
    "\n"
   ]
  },
  {
   "cell_type": "code",
   "execution_count": 15,
   "id": "fccf86d8-2e9a-4e44-a9d5-ba3277c5a6aa",
   "metadata": {},
   "outputs": [
    {
     "name": "stdin",
     "output_type": "stream",
     "text": [
      " 1 4\n",
      " 1 2 3 4\n",
      " 5 6 7 8\n"
     ]
    },
    {
     "name": "stdout",
     "output_type": "stream",
     "text": [
      "[[ 6  8 10 12]]\n",
      "[[-4 -4 -4 -4]]\n",
      "[[ 5 12 21 32]]\n",
      "[[0 0 0 0]]\n",
      "[[1 2 3 4]]\n",
      "[[    1    64  2187 65536]]\n"
     ]
    }
   ],
   "source": [
    "# Array Mathematics\n",
    "N,M=(int(n) for n in input().split())\n",
    "\n",
    "A=[]\n",
    "for i in range(N):\n",
    "    subarray=[int(n) for n in  input().split()]\n",
    "    A.append(subarray)\n",
    "\n",
    "B=[]\n",
    "for i in range(N):\n",
    "    subarray=[int(n) for n in  input().split()]\n",
    "    B.append(subarray)\n",
    "\n",
    "A=np.array(A,int)\n",
    "B=np.array(B,int)\n",
    "print(A+B)\n",
    "print(A-B)\n",
    "print(A*B)\n",
    "print(A//B)\n",
    "print(A%B)\n",
    "print(A**B)\n"
   ]
  },
  {
   "cell_type": "code",
   "execution_count": 16,
   "id": "db278dca-8153-40b0-9623-54cc17375531",
   "metadata": {},
   "outputs": [
    {
     "name": "stdin",
     "output_type": "stream",
     "text": [
      " 1.1 2.2 3.3 4.4 5.5 6.6 7.7 8.8 9.9\n"
     ]
    },
    {
     "name": "stdout",
     "output_type": "stream",
     "text": [
      "[ 1.  2.  3.  4.  5.  6.  7.  8.  9.]\n",
      "[  2.   3.   4.   5.   6.   7.   8.   9.  10.]\n",
      "[  1.   2.   3.   4.   6.   7.   8.   9.  10.]\n"
     ]
    }
   ],
   "source": [
    "# Floor, Ceil and Rint\n",
    "\n",
    "np.set_printoptions(legacy='1.13')\n",
    "\n",
    "arr=[ float(n) for n in input().split() ]\n",
    "\n",
    "arr=np.array(arr)\n",
    "\n",
    "print(np.floor(arr))\n",
    "print(np.ceil(arr))\n",
    "print(np.rint(arr))\n",
    "\n",
    "\n"
   ]
  },
  {
   "cell_type": "code",
   "execution_count": 17,
   "id": "857097a0-b960-46ee-a9a6-77145ebe4fd7",
   "metadata": {},
   "outputs": [
    {
     "name": "stdin",
     "output_type": "stream",
     "text": [
      " 2 2\n",
      " 1 2\n",
      " 3 4\n"
     ]
    },
    {
     "name": "stdout",
     "output_type": "stream",
     "text": [
      "24\n"
     ]
    }
   ],
   "source": [
    "# Sum and Prod\n",
    "\n",
    "N,M=[int(n) for n in input().split()]\n",
    "\n",
    "arr=[]\n",
    "for i in range(N):\n",
    "    subarray=[int(n) for n in input().split() ]\n",
    "    arr.append(subarray)\n",
    "\n",
    "arr=np.array(arr)\n",
    "li=np.sum(arr,axis=0)\n",
    "\n",
    "print(np.prod(li))\n"
   ]
  },
  {
   "cell_type": "code",
   "execution_count": 18,
   "id": "7cf35c63-4419-4564-8348-84eb309b0f53",
   "metadata": {},
   "outputs": [
    {
     "name": "stdin",
     "output_type": "stream",
     "text": [
      " 4 2\n",
      " 2 5\n",
      " 3 7\n",
      " 1 3\n",
      " 4 0\n"
     ]
    },
    {
     "name": "stdout",
     "output_type": "stream",
     "text": [
      "3\n"
     ]
    }
   ],
   "source": [
    "# Min and Max\n",
    "N,M=[int(n) for n in input().split()]\n",
    "\n",
    "arr=[]\n",
    "for n in range(N):\n",
    "    subarray=[ int(n) for n in input().split() ]\n",
    "    arr.append(subarray)\n",
    "\n",
    "arr=np.array(arr)\n",
    "li=np.min(arr,axis=1)\n",
    "print(np.max(li))\n"
   ]
  },
  {
   "cell_type": "code",
   "execution_count": 19,
   "id": "093b0f78-75bc-4732-ac4d-380e50b6f1e2",
   "metadata": {},
   "outputs": [
    {
     "name": "stdin",
     "output_type": "stream",
     "text": [
      " 2 2\n",
      " 1 2\n",
      " 3 4\n"
     ]
    },
    {
     "name": "stdout",
     "output_type": "stream",
     "text": [
      "[ 1.5  3.5]\n",
      "[ 1.  1.]\n",
      "1.11803398875\n"
     ]
    }
   ],
   "source": [
    "# Mean, Var, and Std\n",
    "\n",
    "N,M=[ int(n) for n in input().split()]\n",
    "arr=[]\n",
    "for i in range(N):\n",
    "    subarray=[int(n) for n in input().split()]\n",
    "    arr.append(subarray)\n",
    "\n",
    "arr=np.array(arr)\n",
    "print(np.mean(arr,axis=1))\n",
    "print(np.var(arr,axis=0))\n",
    "print(round(np.std(arr),11 ) )"
   ]
  },
  {
   "cell_type": "code",
   "execution_count": 21,
   "id": "045db365-76de-4be8-89e5-dc5c36af1e79",
   "metadata": {},
   "outputs": [
    {
     "name": "stdin",
     "output_type": "stream",
     "text": [
      " 2\n",
      " 1 2\n",
      " 3 4\n",
      " 1 2\n",
      " 3 4\n"
     ]
    },
    {
     "name": "stdout",
     "output_type": "stream",
     "text": [
      "[[ 7 10]\n",
      " [15 22]]\n"
     ]
    }
   ],
   "source": [
    "# Dot and Cross\n",
    "\n",
    "N = int(input())\n",
    "A=[]\n",
    "for i in range(N):\n",
    "    temp=list(map(int,input().split()))\n",
    "    A.append(temp)\n",
    "B=[]\n",
    "for i in range(N):\n",
    "    temp=list(map(int,input().split()))\n",
    "    B.append(temp)\n",
    "print(np.dot(np.array(A),np.array(B)))"
   ]
  },
  {
   "cell_type": "code",
   "execution_count": 22,
   "id": "a165e170-b599-4cba-90b5-1f0bd4caffd2",
   "metadata": {},
   "outputs": [
    {
     "name": "stdin",
     "output_type": "stream",
     "text": [
      " 0 1\n",
      " 2 3\n"
     ]
    },
    {
     "name": "stdout",
     "output_type": "stream",
     "text": [
      "3\n",
      "[[0 0]\n",
      " [2 3]]\n"
     ]
    }
   ],
   "source": [
    "# Inner and Outer\n",
    "A=np.array(list(map(int,input().split())))\n",
    "B=np.array(list(map(int,input().split())))\n",
    "print(np.inner(A,B))\n",
    "print(np.outer(A,B))\n"
   ]
  },
  {
   "cell_type": "code",
   "execution_count": 23,
   "id": "517c3991-502e-4c89-a73a-d276cc8af4d6",
   "metadata": {},
   "outputs": [
    {
     "name": "stdin",
     "output_type": "stream",
     "text": [
      " 1.1 2 3\n",
      " 0\n"
     ]
    },
    {
     "name": "stdout",
     "output_type": "stream",
     "text": [
      "3.0\n"
     ]
    }
   ],
   "source": [
    "# Polynomials\n",
    "\n",
    "polyCoeff=list(map(float,input().split()))\n",
    "x=int(input())\n",
    "print(np.polyval(np.array(polyCoeff),x))"
   ]
  },
  {
   "cell_type": "code",
   "execution_count": 24,
   "id": "7b300783-0c33-413e-8c14-c2acccc1d1ba",
   "metadata": {},
   "outputs": [
    {
     "name": "stdin",
     "output_type": "stream",
     "text": [
      " 2\n",
      " 1.1 1.1\n",
      " 1.1 1.1\n"
     ]
    },
    {
     "name": "stdout",
     "output_type": "stream",
     "text": [
      "0.0\n"
     ]
    }
   ],
   "source": [
    "# Linear Algebra\n",
    "N=int(input())\n",
    "A=[list(map(float,input().split())) for _ in range(N) ]\n",
    "print(round(np.linalg.det(np.array(A)),2))\n"
   ]
  },
  {
   "cell_type": "code",
   "execution_count": null,
   "id": "fadca352-d29b-413c-b55f-ef4b1b8fc7c6",
   "metadata": {},
   "outputs": [],
   "source": []
  }
 ],
 "metadata": {
  "kernelspec": {
   "display_name": "Python 3",
   "language": "python",
   "name": "python3"
  },
  "language_info": {
   "codemirror_mode": {
    "name": "ipython",
    "version": 3
   },
   "file_extension": ".py",
   "mimetype": "text/x-python",
   "name": "python",
   "nbconvert_exporter": "python",
   "pygments_lexer": "ipython3",
   "version": "3.8.8"
  }
 },
 "nbformat": 4,
 "nbformat_minor": 5
}
