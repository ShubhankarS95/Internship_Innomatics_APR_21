{
 "cells": [
  {
   "cell_type": "markdown",
   "id": "07c3947f-5692-487e-977a-2048b5b0414d",
   "metadata": {},
   "source": [
    "**Step - 1** \n",
    "# Introduction \n",
    " - Give a detailed data description and objective"
   ]
  },
  {
   "cell_type": "markdown",
   "id": "96eb6fe7-8d65-4e83-b62a-3946e879279b",
   "metadata": {},
   "source": [
    "The dataset was released by Aspiring Minds from the Aspiring Mind Employment Outcome 2015 (AMEO). The study is primarily limited  only to students with engineering disciplines. The dataset contains the employment outcomes of engineering graduates as dependent variables (Salary, Job Titles, and Job Locations) along with the standardized scores from three different areas – cognitive skills, technical skills and personality skills. The dataset also contains demographic features. The dataset  contains  around  40 independent variables and 4000 data points. The independent variables are both continuous and categorical in nature. The dataset contains a unique identifier for each candidate. Below mentioned table contains the details for the original dataset."
   ]
  },
  {
   "cell_type": "markdown",
   "id": "9dd7408b-f422-444d-976e-3cdbdfae1f1f",
   "metadata": {},
   "source": [
    "### VARIABLES, TYPE, Description \n",
    "\n",
    "- **ID**, UID, A unique ID to identify a candidate \n",
    "\n",
    "- **Salary**, Continuous, Annual CTC oﬀered to the candidate (in INR) \n",
    "\n",
    "- **DOJ**, Date, Date of joining the company \n",
    " \n",
    "- **DOL**, Date, Date of leaving the company \n",
    "\n",
    "- **Designation**, Categorical, Designation oﬀered in the job \n",
    "\n",
    "- **JobCity**, Categorical, Location of the job (city) \n",
    "\n",
    "- **Gender**, Categorical, Candidate’s gender \n",
    "\n",
    "- **DOB**, Date, Date of birth of candidate \n",
    "\n",
    "- **10percentage**, Continuous, Overall marks obtained in grade 10examinations \n",
    "\n",
    "- **10board**, Continuous, The school board whose curriculum the candidate followed in grade 10 \n",
    "\n",
    "- **12graduation**, Date, Year of graduation - senior year high school \n",
    "\n",
    "- **12percentage**, Continuous, Overall marks obtained in grade 12examinations \n",
    "\n",
    "- **12board**, Date, The school board whose curriculum the candidate followed in grade 12 \n",
    "\n",
    "- **CollegeID**, NA/ID, Unique ID identifying the college which the candidate attended \n",
    "\n",
    "- **CollegeTier**, Categorical, Tier of college \n",
    "\n",
    "- **Degree**, Categorical, Degree obtained/pursued by the candidate \n",
    "\n",
    "- **Specialization****, Categorical, Specialization pursued by the candidate \n",
    "\n",
    "- **CollegeGPA**, Continuous, Aggregate GPA at graduation \n",
    "\n",
    "- **CollegeCityID**, NA/ID, A unique ID to identify the city in which the college is located in \n",
    "\n",
    "- **CollegeCityTier**, Categorical, The tier of the city in which the college is located \n",
    "\n",
    "- **CollegeState**, Categorical, Name of States \n",
    "\n",
    "- **GraduationYear**, Date, Year of graduation (Bachelor’s degree) \n",
    "\n",
    "- **English**, Continuous, Scores in AMCAT English section \n",
    "\n",
    "- **Logical**, Continuous, Scores in AMCAT Logical section \n",
    "\n",
    "- **Quant**, Continuous, Scores in AMCAT Quantitative section \n",
    "\n",
    "- **Domain**, Continuous/ Standardized, Scores in AMCAT’s domain module \n",
    "\n",
    "- **ComputerProgramming**, Continuous, Score in AMCAT’s Computer programmingsection \n",
    "\n",
    "- **ElectronicsAndSemicon**, Continuous, Score in AMCAT’s Electronics & Semiconductor Engineering section \n",
    "\n",
    "- **ComputerScience**, Continuous,  Score in AMCAT’s Computer Science section \n",
    "\n",
    "- **MechanicalEngg**, Continuous, Score in AMCAT’s Mechanical Engineeringsection \n",
    "\n",
    "- **ElectricalEngg**, Continuous, Score in AMCAT’s Electrical Engineering section \n",
    "\n",
    "- **TelecomEngg**, Continuous, Score in AMCAT’s Telecommunication Engineering section \n",
    "\n",
    "- **CivilEngg**, Continuous, Score in AMCAT’s Civil Engineering section \n",
    "\n",
    "- **conscientiousness**, Continuous/ Standardized, Scores in one of the sections of AMCAT’s personality test \n",
    "\n",
    "- **agreeableness**, Continuous/Standardized, Scores in one of the sections of AMCAT’spersonality test \n",
    "\n",
    "- **extraversion**, Continuous/ Standardized, Scores in one of the sections of AMCAT’s personality test \n",
    "\n",
    "- **neuroticism**, Continuous/Standardized, Scores in one of the sections of AMCAT’spersonality test \n",
    "\n",
    "- **openess_to_experience**, Continuous/ Standardized, Scores in one of the sections of AMCAT’s personality test "
   ]
  },
  {
   "cell_type": "markdown",
   "id": "82efe401-c97f-4ed8-b3c3-c3fab0d53ac7",
   "metadata": {},
   "source": [
    "**Step - 2** \n",
    "- Import the data and display the head, shape and description of the data."
   ]
  },
  {
   "cell_type": "code",
   "execution_count": null,
   "id": "3978fdab-e4be-4732-87a9-8de4859977a9",
   "metadata": {},
   "outputs": [],
   "source": [
    "import warnings\n",
    "import numpy as np\n",
    "import pandas as pd\n",
    "import matplotlib.pyplot as plt\n",
    "import seaborn as sns\n",
    "from datetime import datetime as dt\n",
    "import random\n",
    "from math import sqrt\n",
    "from scipy.stats import t,norm,chi2,chi2_contingency\n",
    "\n",
    "pd.set_option('display.max_columns',None)      # For Showing all columns\n",
    "warnings.filterwarnings(\"ignore\")              # For removing the warnings [Not recommended!!!]\n",
    "pd.set_option('display.float_format',lambda x: '%.3f' %x)\n",
    "%matplotlib inline"
   ]
  },
  {
   "cell_type": "code",
   "execution_count": null,
   "id": "465dc628-0914-41ce-830c-ec53b014b8e1",
   "metadata": {},
   "outputs": [],
   "source": [
    "df=pd.read_excel(\"aspiring_minds_employability_outcomes_2015.xlsx\",index_col='ID')\n",
    "df.head()"
   ]
  },
  {
   "cell_type": "code",
   "execution_count": null,
   "id": "6cb5cec2-2f44-4a6e-8ac8-88ab7d30225d",
   "metadata": {},
   "outputs": [],
   "source": [
    "df.info()"
   ]
  },
  {
   "cell_type": "code",
   "execution_count": null,
   "id": "6aadfdb2-6db3-4757-8054-82a34742bcd8",
   "metadata": {},
   "outputs": [],
   "source": [
    "df.shape"
   ]
  },
  {
   "cell_type": "code",
   "execution_count": null,
   "id": "31c2f15b-af58-4da8-98bc-5f3cfcf3ca5b",
   "metadata": {},
   "outputs": [],
   "source": [
    "df.describe(include='all')"
   ]
  },
  {
   "cell_type": "code",
   "execution_count": null,
   "id": "503f8b94-ee05-4ea1-8f22-2a2474777ccd",
   "metadata": {},
   "outputs": [],
   "source": [
    "df.isna().sum()"
   ]
  },
  {
   "cell_type": "code",
   "execution_count": null,
   "id": "b2e1454e-cd1c-413c-8a0c-0e43f41389db",
   "metadata": {},
   "outputs": [],
   "source": [
    "df['DOL']=df['DOL'].str.replace('present',str(dt.now()))\n",
    "df['DOL']=pd.to_datetime(df['DOL'])\n",
    "#df.head()"
   ]
  },
  {
   "cell_type": "code",
   "execution_count": null,
   "id": "5e3287fa-c91a-476e-9a86-f1dcdef19815",
   "metadata": {
    "tags": []
   },
   "outputs": [],
   "source": [
    "df.drop(columns=\"Unnamed: 0\",inplace=True)\n",
    "df.head(1)"
   ]
  },
  {
   "cell_type": "markdown",
   "id": "220f2151-d69e-4e1e-b8e1-1198189f2df6",
   "metadata": {},
   "source": [
    "**Step - 3** \n",
    "# Univariate Analysis \n",
    "- PDF, Histograms, Boxplots, Countplots, etc..\n",
    "-\tFind the outliers in each numerical column\n",
    "-\tUnderstand the probability and frequency distribution of each numerical column\n",
    "-\tUnderstand the frequency distribution of each categorical Variable/Column\n",
    "-\tMention observations after each plot."
   ]
  },
  {
   "cell_type": "code",
   "execution_count": null,
   "id": "fc8bfb08-e5bb-47ed-85c2-d6d8790a879b",
   "metadata": {},
   "outputs": [],
   "source": [
    "sns.distplot(df.Salary, kde_kws={\"color\": \"k\"})"
   ]
  },
  {
   "cell_type": "code",
   "execution_count": null,
   "id": "4c828465-0c36-4b86-a531-20f16b3387b1",
   "metadata": {},
   "outputs": [],
   "source": [
    "\"Average Salary of all employees salary is {:.2f}\".format(df.Salary.mean())"
   ]
  },
  {
   "cell_type": "code",
   "execution_count": null,
   "id": "38ff4b1c-1632-42ce-9485-433d3ae4c02d",
   "metadata": {},
   "outputs": [],
   "source": [
    "sns.distplot(df['10percentage'],\n",
    "                  kde_kws={\"color\": \"k\",\"label\": \"KDE\"}\n",
    "                  )"
   ]
  },
  {
   "cell_type": "code",
   "execution_count": null,
   "id": "a2bac5b4-b0d4-4139-bd46-cb8b96068cd8",
   "metadata": {},
   "outputs": [],
   "source": [
    "plt.figure(figsize=(15,15))\n",
    "sns.distplot(df['12graduation'])\n",
    "plt.xticks(rotation=24)\n",
    "plt.show()"
   ]
  },
  {
   "cell_type": "code",
   "execution_count": null,
   "id": "7e190c65-d513-4dd3-8cb7-58902f59fd42",
   "metadata": {},
   "outputs": [],
   "source": [
    "sns.distplot(df['12percentage'])"
   ]
  },
  {
   "cell_type": "code",
   "execution_count": null,
   "id": "48cc25d4-2bf6-45bc-b8b7-81b345b3ed2b",
   "metadata": {},
   "outputs": [],
   "source": [
    "sns.distplot(df['collegeGPA'])"
   ]
  },
  {
   "cell_type": "code",
   "execution_count": null,
   "id": "878ec495-00bf-4b73-9a20-cc9cb3e44d25",
   "metadata": {},
   "outputs": [],
   "source": [
    "sns.distplot(df['English'])"
   ]
  },
  {
   "cell_type": "code",
   "execution_count": null,
   "id": "34e877bb-12fe-4ecd-903a-06cfef11affd",
   "metadata": {},
   "outputs": [],
   "source": [
    "sns.distplot(df['Logical'])"
   ]
  },
  {
   "cell_type": "code",
   "execution_count": null,
   "id": "685ea90d-62e5-4e98-931f-191d01487726",
   "metadata": {},
   "outputs": [],
   "source": [
    "sns.distplot(df['Quant'])"
   ]
  },
  {
   "cell_type": "code",
   "execution_count": null,
   "id": "1b992ad0-78b9-4df5-8db2-9dbef0ae13d3",
   "metadata": {},
   "outputs": [],
   "source": [
    "sns.distplot(df['Domain'])"
   ]
  },
  {
   "cell_type": "code",
   "execution_count": null,
   "id": "d4cffd33-e3cd-487b-9036-ccd32ebfd4b3",
   "metadata": {},
   "outputs": [],
   "source": [
    "sns.distplot(df['ComputerProgramming'])"
   ]
  },
  {
   "cell_type": "code",
   "execution_count": null,
   "id": "3f2c6f68-1ff2-4594-8433-22f12765d81c",
   "metadata": {},
   "outputs": [],
   "source": [
    "sns.distplot(df['ElectronicsAndSemicon'])"
   ]
  },
  {
   "cell_type": "code",
   "execution_count": null,
   "id": "721dd420-c1e0-45ac-8fbe-03163dabf60a",
   "metadata": {},
   "outputs": [],
   "source": [
    "sns.distplot(df['ComputerScience'])"
   ]
  },
  {
   "cell_type": "code",
   "execution_count": null,
   "id": "d52f60c7-c07b-4895-aff9-929f67595e1b",
   "metadata": {},
   "outputs": [],
   "source": [
    "sns.distplot(df['MechanicalEngg'])"
   ]
  },
  {
   "cell_type": "code",
   "execution_count": null,
   "id": "5abbd3b4-4e90-4ced-adef-7154d04cb2f2",
   "metadata": {},
   "outputs": [],
   "source": [
    "sns.distplot(df['ElectricalEngg'])"
   ]
  },
  {
   "cell_type": "code",
   "execution_count": null,
   "id": "417d09b7-fbc3-4244-af41-c59fb3c3d0d4",
   "metadata": {},
   "outputs": [],
   "source": [
    "sns.distplot(df['TelecomEngg'])"
   ]
  },
  {
   "cell_type": "code",
   "execution_count": null,
   "id": "7471b5d1-7d39-494b-9902-b55034f57c33",
   "metadata": {},
   "outputs": [],
   "source": [
    "sns.distplot(df['CivilEngg'])"
   ]
  },
  {
   "cell_type": "code",
   "execution_count": null,
   "id": "86f93aa2-396c-4bc6-82ce-4d1dba1e9e57",
   "metadata": {},
   "outputs": [],
   "source": [
    "sns.distplot(df['conscientiousness'])"
   ]
  },
  {
   "cell_type": "code",
   "execution_count": null,
   "id": "a16aeaa6-ec9e-479f-b242-ee1ea6381bc4",
   "metadata": {},
   "outputs": [],
   "source": [
    "sns.distplot(df['agreeableness'])"
   ]
  },
  {
   "cell_type": "code",
   "execution_count": null,
   "id": "302a2bad-ae4e-41dd-8b6f-4b92cdb42f7f",
   "metadata": {},
   "outputs": [],
   "source": [
    "sns.distplot(df['extraversion'])"
   ]
  },
  {
   "cell_type": "code",
   "execution_count": null,
   "id": "5f519517-ddfd-4ec0-b57f-ea71bbca9440",
   "metadata": {},
   "outputs": [],
   "source": [
    "sns.distplot(df['nueroticism'])"
   ]
  },
  {
   "cell_type": "code",
   "execution_count": null,
   "id": "046f537b-a8e9-48a4-a9b4-daa3c1ab54a0",
   "metadata": {},
   "outputs": [],
   "source": [
    "sns.distplot(df['openess_to_experience'])"
   ]
  },
  {
   "cell_type": "code",
   "execution_count": null,
   "id": "1d7c95d7-6c0a-439f-bf4a-a729d1d32d22",
   "metadata": {},
   "outputs": [],
   "source": [
    "specialization_freq = df['Specialization'].value_counts()[:15]\n",
    "specialization_freq.plot(kind='bar', figsize=(15,5))"
   ]
  },
  {
   "cell_type": "code",
   "execution_count": null,
   "id": "941e16f8-2ca6-43cc-90ad-3b0b382dc2cd",
   "metadata": {},
   "outputs": [],
   "source": [
    "plt.figure(figsize=(20,10))\n",
    "sns.countplot(df['Designation'],order=df['Designation'].value_counts().iloc[:9].index)"
   ]
  },
  {
   "cell_type": "code",
   "execution_count": null,
   "id": "e41ada8d-372e-42e7-b0bf-78a8ded5254d",
   "metadata": {},
   "outputs": [],
   "source": [
    "plt.figure(figsize=(20,10))\n",
    "sns.countplot(df['JobCity'],order=df['JobCity'].value_counts().iloc[:9].index)"
   ]
  },
  {
   "cell_type": "code",
   "execution_count": null,
   "id": "7e730d3d-2435-4b81-a43d-314f75a09932",
   "metadata": {},
   "outputs": [],
   "source": [
    "sns.countplot(df['Gender'])\n",
    "plt.xticks(ticks=[0,1],labels=[\"Female\",\"Male\"])"
   ]
  },
  {
   "cell_type": "code",
   "execution_count": null,
   "id": "1d2e031c-3107-4803-a132-0c0806bc89c9",
   "metadata": {},
   "outputs": [],
   "source": [
    "\"Female percentage in the dataset {}\".format( round((df.Gender[df.Gender=='f'].count()/len(df.Gender))*100,2))"
   ]
  },
  {
   "cell_type": "code",
   "execution_count": null,
   "id": "85b69bf0-30fd-4094-b47b-31876b6f0260",
   "metadata": {},
   "outputs": [],
   "source": [
    "plt.figure(figsize=(20,10))\n",
    "graph=sns.countplot(df['10board'],order=df['10board'].value_counts().iloc[:9].index)\n",
    "graph.set_xticklabels(list(df['10board'].value_counts().iloc[:9].index),fontdict={'fontsize':'14'})\n",
    "plt.show()"
   ]
  },
  {
   "cell_type": "code",
   "execution_count": null,
   "id": "a5157022-3075-401e-b122-49266fc2e660",
   "metadata": {},
   "outputs": [],
   "source": [
    "plt.figure(figsize=(20,10))\n",
    "sns.countplot(df['12board'],order=df['12board'].value_counts().iloc[:9].index)"
   ]
  },
  {
   "cell_type": "code",
   "execution_count": null,
   "id": "8316219a-7d7f-49b5-b16c-009ab5aec3da",
   "metadata": {},
   "outputs": [],
   "source": [
    "plt.figure(figsize=(20,10))\n",
    "sns.countplot(df['Degree'])"
   ]
  },
  {
   "cell_type": "markdown",
   "id": "fa21b5a8-75e5-41b6-8e0e-d3b3314a24ad",
   "metadata": {},
   "source": [
    "**Step - 4** \n",
    "# Bivariate Analysis\n",
    "-\tDiscover the relationships between numerical columns using Scatter plots, hexbin plots, pair plots, etc..\n",
    "-\tIdentify the patterns between categorical and numerical columns using swarmplot, boxplot, barplot, etc..\n",
    "-\tMention observations after each plot."
   ]
  },
  {
   "cell_type": "code",
   "execution_count": null,
   "id": "3b965026-96ba-4174-9cd5-f8f501e17c8d",
   "metadata": {},
   "outputs": [],
   "source": [
    "sns.scatterplot(y = df['Salary'], x = df['10percentage'], hue = df['Gender'])"
   ]
  },
  {
   "cell_type": "code",
   "execution_count": null,
   "id": "f7fb6052-23af-455b-91e7-6b54b00de2b0",
   "metadata": {},
   "outputs": [],
   "source": [
    "sns.scatterplot(y = df['Salary'], x = df['12percentage'], hue = df['Gender'])"
   ]
  },
  {
   "cell_type": "code",
   "execution_count": null,
   "id": "27a8151b-3430-4f7f-8ecc-daf8b4f60274",
   "metadata": {},
   "outputs": [],
   "source": [
    "sns.scatterplot(y = df['Salary'], x = df['collegeGPA'], hue = df['Gender'])"
   ]
  },
  {
   "cell_type": "code",
   "execution_count": null,
   "id": "0ea815f0-2dcd-436a-9639-3b6adee28d64",
   "metadata": {},
   "outputs": [],
   "source": [
    "d=df.groupby('Specialization').agg({'Salary':sum})\n",
    "d.nlargest(10,['Salary']).index"
   ]
  },
  {
   "cell_type": "code",
   "execution_count": null,
   "id": "25a8a20b-7475-4b3f-88f0-ad879af69603",
   "metadata": {},
   "outputs": [],
   "source": [
    "plt.figure(figsize=(20,10))\n",
    "graph=sns.barplot(x='Specialization',y='Salary',data=df,order=d.nlargest(10,['Salary']).index)\n",
    "plt.xticks(rotation=90)\n",
    "plt.show()"
   ]
  },
  {
   "cell_type": "markdown",
   "id": "dc1b51d1-cee3-47ff-ba96-bbead7170b31",
   "metadata": {},
   "source": [
    "**Step - 5** \n",
    "# Research Questions\n",
    "    5.1   \tTimes of India article dated Jan 18, 2019 states that “After doing your Computer Science Engineering if you take up jobs as a Programming Analyst, Software Engineer, Hardware Engineer and Associate Engineer you can earn up to 2.5-3 lakhs as a fresh graduate.” Test this claim with the data given to you.\n",
    "    "
   ]
  },
  {
   "cell_type": "code",
   "execution_count": null,
   "id": "e6d4a68e-9fa2-41c4-8d43-04c277ccfa85",
   "metadata": {},
   "outputs": [],
   "source": [
    "data=df[['Specialization','GraduationYear','DOJ','Designation','Salary']]\n",
    "data.reset_index(inplace=True)\n",
    "data.drop('ID',axis=1,inplace=True)\n",
    "print(data.shape)\n",
    "data.head()\n"
   ]
  },
  {
   "cell_type": "code",
   "execution_count": null,
   "id": "a12012a8-1d9d-4833-96b2-036d46a35507",
   "metadata": {},
   "outputs": [],
   "source": [
    "data.info()"
   ]
  },
  {
   "cell_type": "code",
   "execution_count": null,
   "id": "53a56697-983d-40df-95d7-7863493cf3ed",
   "metadata": {},
   "outputs": [],
   "source": [
    "# Filtering Based on Requirement\n",
    "\n",
    "# Fresher i.e., where Graduation Year and Date of Joining is Same\n",
    "data=data[data.GraduationYear==data.DOJ.dt.year]\n",
    "\n",
    "# where the Specialization is 'computer science & engineering'\n",
    "data=data[data.Specialization=='computer science & engineering']\n",
    "\n",
    "# Designation is 'programmer analyst','software engineer','associate engineer','hardware engineer'\n",
    "final_data=data[data.Designation.isin(['programmer analyst','software engineer','associate engineer','hardware engineer'])]\n",
    "\n",
    "final_data"
   ]
  },
  {
   "cell_type": "code",
   "execution_count": null,
   "id": "6a09f09e-7ba0-4609-aa31-b68a77d8cbf9",
   "metadata": {},
   "outputs": [],
   "source": [
    "pop_mean=np.mean(final_data.Salary)\n",
    "print(pop_mean)"
   ]
  },
  {
   "cell_type": "markdown",
   "id": "8821638e-7dee-4283-80f0-90d3d546d8e1",
   "metadata": {},
   "source": [
    "**Step - 1** :\n",
    "\n",
    "- Alternate hypothesis (Bold Claim) $ \\\\ $ Cannot earn upto 2.75 lakhs\n",
    "  $$ H_1 : \\mu <275000 $$\n",
    "\n",
    "- Null Hypothesis (Status Quo) $ \\\\ $    earn up to 2.5-3 lakhs [taking average to 2.75 lakhs]\n",
    "    $$ H_0 :   \\mu >=275000  $$"
   ]
  },
  {
   "cell_type": "markdown",
   "id": "a18a30c5-00af-4dc5-8d5a-603942432eaf",
   "metadata": {},
   "source": [
    "**Step 2** :\n",
    "- Collection sample of Sample Size n\n",
    "- Compute Sample Mean : $ \\bar x $ = ?"
   ]
  },
  {
   "cell_type": "code",
   "execution_count": null,
   "id": "3609088e-5f73-4bdc-bcab-b675a0fb0724",
   "metadata": {},
   "outputs": [],
   "source": [
    "n=20 # Sample Size\n",
    "sample_salary=random.sample(list(final_data.Salary),n)\n",
    "print(sample_salary)\n",
    "sample_mean=np.mean(sample_salary)\n",
    "print(sample_mean)\n",
    "sample_stddev=np.std(sample_salary)\n",
    "print(sample_stddev)\n"
   ]
  },
  {
   "cell_type": "markdown",
   "id": "0e7e29fb-4edb-4124-93e3-be240cce5ef7",
   "metadata": {},
   "source": [
    "**Step 3**:\n",
    " Compute t- Statistic (as population Standard Deviation is not Given):\n",
    " $$ t_{n-1,\\frac{\\alpha}{2}} = \\frac {\\bar x - \\mu_{\\bar x}}{\\frac{s}{\\sqrt n}} $$"
   ]
  },
  {
   "cell_type": "code",
   "execution_count": null,
   "id": "3ef26173-ac48-4b32-80c5-3a5e0053235b",
   "metadata": {},
   "outputs": [],
   "source": [
    "# Calculating t-score\n",
    "t_score= ((sample_mean -pop_mean) / (sample_stddev/(sqrt(n))))\n",
    "print(t_score)"
   ]
  },
  {
   "cell_type": "markdown",
   "id": "ab402a84-78a1-4d9b-b5bc-43184d0427ca",
   "metadata": {},
   "source": [
    "**Step 4**:\n",
    "Decide $\\alpha$ or significance level and $degree \\ of \\ freedom $"
   ]
  },
  {
   "cell_type": "code",
   "execution_count": null,
   "id": "0656e5b5-4fa6-4b95-a555-26b1b474b307",
   "metadata": {},
   "outputs": [],
   "source": [
    "# T Critical or T-Tabulated \n",
    "# Right Tail Test\n",
    "confidence_level=0.95\n",
    "deg_of_freedom=n-1\n",
    "alpha=1-confidence_level\n",
    "t_critical=t.ppf(1-alpha,deg_of_freedom)\n",
    "t_critical"
   ]
  },
  {
   "cell_type": "markdown",
   "id": "57130fb2-e18a-4fd7-a575-eea9dc6e43f3",
   "metadata": {},
   "source": [
    "**Step 5** : \n",
    "\n",
    "5.1 Apply Decision Rule:\n",
    "- For T-test:\n",
    "  - Two Tail t-test:\n",
    "  $$|t| \\ > \\ t_{n-1,\\frac{\\alpha}{2}} \\Rightarrow Acceept \\ H_1 \\ or \\ Reject \\ H_0$$\n",
    "  - Right Tail t-test:\n",
    "  $$t \\ > \\ t_{n-1,\\frac{\\alpha}{2}} \\Rightarrow Acceept \\ H_1 \\ or \\ Reject \\ H_0$$\n",
    "  - left Tail t-test:\n",
    "  $$t \\ < \\ t_{n-1,\\frac{\\alpha}{2}} \\Rightarrow Acceept \\ H_1 \\ or \\ Reject \\ H_0$$"
   ]
  },
  {
   "cell_type": "code",
   "execution_count": null,
   "id": "a5d2d2af-282d-4a77-81bc-aec3f59516a0",
   "metadata": {},
   "outputs": [],
   "source": [
    "#plotting the sample distribution with rejection region\n",
    "\n",
    "x_min = 220000\n",
    "x_max = 490000\n",
    "\n",
    "mean = pop_mean\n",
    "std = sample_stddev / (n**0.5)\n",
    "\n",
    "x = np.linspace(x_min, x_max, 100)\n",
    "y = norm.pdf(x, mean, std)\n",
    "\n",
    "plt.xlim(x_min, x_max)\n",
    "# plt.ylim(0, 0.03)\n",
    "\n",
    "plt.plot(x, y)\n",
    "\n",
    "t_critical_left = pop_mean + (-t_critical * std)\n",
    "\n",
    "x1 = np.linspace(x_min, t_critical_left, 100)\n",
    "y1 = norm.pdf(x1, mean, std)\n",
    "plt.fill_between(x1, y1, color='orange')\n",
    "\n",
    "plt.scatter(sample_mean, 0)\n",
    "# plt.annotate(\"X_bar\", (sample_stddev, 0.02))\n",
    "\n",
    "\n"
   ]
  },
  {
   "cell_type": "markdown",
   "id": "9ef94c17-7f4c-487a-b9e2-2e83dfc78508",
   "metadata": {},
   "source": [
    "5.2 Compute p-Value $P(Test \\ Statistics H_0)$\n",
    "- For Two-Tailed Test:\n",
    "  $$p \\ value = 2 * (1- cdf(Test \\ Statistics))$$\n",
    "- For One-Tailed Test:\n",
    "  $$p \\ value = (1- cdf(Test \\ Statistics))$$\n",
    "  \n",
    "- Now,\n",
    "$$ if(p \\ value \\ < \\ \\alpha) \\Rightarrow Accept \\ H_1 \\ or \\ Reject \\ H_0 $$"
   ]
  },
  {
   "cell_type": "code",
   "execution_count": null,
   "id": "0ea67d90-3229-4564-ae42-f4ad6de406ee",
   "metadata": {},
   "outputs": [],
   "source": [
    "if(t_score < -t_critical):\n",
    "    print(\"Conclusion:Reject Null Hypothesis\")\n",
    "else:\n",
    "    print(\"Conclusion:Fail to reject Null Hypothesis\")"
   ]
  },
  {
   "cell_type": "code",
   "execution_count": null,
   "id": "1533ef03-77ff-4b9b-bf08-13b74f2732ee",
   "metadata": {},
   "outputs": [],
   "source": [
    "p_value = 1.0 - norm.cdf(np.abs(t_score))\n",
    "\n",
    "print(\"p_value = \", p_value)\n",
    "\n",
    "if(p_value < alpha):\n",
    "    print(\"Conclusion:Reject Null Hypothesis\")\n",
    "else:\n",
    "    print(\"Conclusion: Fail to reject Null Hypothesis\")"
   ]
  },
  {
   "cell_type": "markdown",
   "id": "9b5259de-0da6-4e89-8ccc-9500a5379501",
   "metadata": {},
   "source": [
    "# 5.2 Is there a relationship between gender and specialisation? (i.e. Does the preference of Specialisation depend on the Gender?)"
   ]
  },
  {
   "cell_type": "markdown",
   "id": "19d1b9eb-e860-4084-8eb2-b6e9a1bd0be0",
   "metadata": {},
   "source": [
    "**Step - 1:**\n",
    "\n",
    " Alternate Hypothesis:$$ H_1: They \\ are \\ Dependent $$and Null Hypothesis:$$ H_0: They \\ are \\ Independent $$\n"
   ]
  },
  {
   "cell_type": "markdown",
   "id": "d3daa677-ea6e-47bc-86e8-e5d58f664b3d",
   "metadata": {},
   "source": [
    "**Step - 2:**\n",
    "#### Collect the sample of size n\n",
    "#### Compute the sample frequencies"
   ]
  },
  {
   "cell_type": "code",
   "execution_count": null,
   "id": "26f6ae5b-e47c-48d7-affd-905c5a7d6565",
   "metadata": {},
   "outputs": [],
   "source": [
    "pd.crosstab(df['Specialization'],df['Gender'],margins=True)"
   ]
  },
  {
   "cell_type": "code",
   "execution_count": null,
   "id": "a87c43b9-733d-4c8d-bbda-07395b77c251",
   "metadata": {},
   "outputs": [],
   "source": [
    "observed = pd.crosstab(df.Specialization, df.Gender)\n",
    "\n",
    "observed"
   ]
  },
  {
   "cell_type": "code",
   "execution_count": null,
   "id": "118e64aa-ea0c-4847-9fd9-26a9ed46f685",
   "metadata": {},
   "outputs": [],
   "source": [
    "# chi2_contigency returns chi2 test statistic, p-value, degree of freedoms, expected frequencies\n",
    "chi2_contingency(observed)"
   ]
  },
  {
   "cell_type": "code",
   "execution_count": null,
   "id": "77ebacde-d3a4-4489-99a6-223db78f3c8d",
   "metadata": {},
   "outputs": [],
   "source": [
    "# Computing chi2 test statistic, p-value, degree of freedoms\n",
    "\n",
    "chi2_test_stat = chi2_contingency(observed)[0]\n",
    "pval = chi2_contingency(observed)[1]\n",
    "df2 = chi2_contingency(observed)[2]\n",
    "confidence_level = 0.90\n",
    "\n",
    "alpha = 1 - confidence_level\n",
    "\n",
    "chi2_critical = chi2.ppf(1 - alpha, df2)\n",
    "\n",
    "chi2_critical"
   ]
  },
  {
   "cell_type": "code",
   "execution_count": null,
   "id": "3d69ae7c-a3d7-46d2-80c5-f3ca501386e9",
   "metadata": {},
   "outputs": [],
   "source": [
    "# Ploting the chi2 distribution to visualise\n",
    "\n",
    "# Defining the x minimum and x maximum\n",
    "x_min = 0\n",
    "x_max = 100\n",
    "\n",
    "# Ploting the graph and setting the x limits\n",
    "x = np.linspace(x_min, x_max, 100)\n",
    "y = chi2.pdf(x, df2)\n",
    "plt.xlim(x_min, x_max)\n",
    "plt.plot(x, y)\n",
    "\n",
    "\n",
    "# Setting Chi2 Critical value \n",
    "chi2_critical_right = chi2_critical\n",
    "\n",
    "# Shading the right rejection region\n",
    "x1 = np.linspace(chi2_critical_right, x_max, 100)\n",
    "y1 = chi2.pdf(x1, df2)\n",
    "plt.fill_between(x1, y1, color='orange')"
   ]
  },
  {
   "cell_type": "code",
   "execution_count": null,
   "id": "bfd0b127-7766-4c2e-8769-a66d91136f44",
   "metadata": {},
   "outputs": [],
   "source": [
    "if(chi2_test_stat > chi2_critical):\n",
    "    print(\"Reject Null Hypothesis\")\n",
    "else:\n",
    "    print(\"Fail to Reject Null Hypothesis\")"
   ]
  },
  {
   "cell_type": "code",
   "execution_count": null,
   "id": "f74a3137-3e3d-4da3-88b8-c871bc250d29",
   "metadata": {},
   "outputs": [],
   "source": [
    "if(pval < alpha):\n",
    "    print(\"Reject Null Hypothesis\")\n",
    "else:\n",
    "    print(\"Fail to Reject Null Hypothesis\")"
   ]
  },
  {
   "cell_type": "markdown",
   "id": "bf8045ad-df44-4ef3-b46e-666508112e37",
   "metadata": {},
   "source": [
    "**Step - 6** \n",
    "# Conclusion"
   ]
  },
  {
   "cell_type": "markdown",
   "id": "8ca72203-8b93-4432-b7e7-c3cfb1353032",
   "metadata": {},
   "source": [
    "**Step - 7** \n",
    "- We have done EDA on Aspiring Mind Employment Outcome 2015 (AMEO) dataset.\n",
    "- We have done univariate analysis,bivariate analysis with some interesting observations.\n",
    "- Mostly employees got there starting package of Rs 300000.\n",
    "- Only ~24% Female candidates persued graduation.We need to motivate more females for graduation.\n",
    "- The mean salary of other depts is higher than salary of candidates having specialization in CS and EC.\n",
    "- We did hypothesis testing on a Times Of India Article claim. We have come to know that “After doing your Computer Science Engineering if you take up jobs as a Programming Analyst, Software Engineer, Hardware Engineer and Associate Engineer you can earn up to 2.5-3 lakhs as a fresh graduate.”\n",
    "- We did another hypethesis testing to check dependecy between Gender and Specialisation. We have come to know that both are dependant features."
   ]
  },
  {
   "cell_type": "markdown",
   "id": "51fc95dc-b70c-4d2b-bef7-da1b42c5905c",
   "metadata": {},
   "source": [
    "# (Bonus) Come up with some interesting conclusions or research questions.\n",
    "- Perform feature transformation:\n",
    "    -\tFor Numerical Features -> Do Column Standardization\n",
    "    -\tFor Categorical -> if more than 2 categories, use dummy variables. Otherwise convert the feature to Binary"
   ]
  },
  {
   "cell_type": "code",
   "execution_count": null,
   "id": "2ac7aaef-fa29-44db-ba03-7b5f3bc71b45",
   "metadata": {},
   "outputs": [],
   "source": [
    "categorical_features= ['Specialization', 'CollegeState', 'Gender', 'Degree','12board','10board','CollegeTier','CollegeCityTier']\n",
    "for i in categorical_features:\n",
    "    unique = len(df[i].unique())\n",
    "    print(\"{}: {}\".format(i, unique))"
   ]
  },
  {
   "cell_type": "markdown",
   "id": "5cfe5b61-ba37-4bd6-b4e2-69c124d31fd6",
   "metadata": {},
   "source": [
    "Since in 4 column have a quite more unique values , we must trim the categorical values into in less than 10 for better results"
   ]
  },
  {
   "cell_type": "code",
   "execution_count": null,
   "id": "17b28ee9-7d1b-4721-a7e8-1f502ed78a90",
   "metadata": {},
   "outputs": [],
   "source": [
    "df = pd.get_dummies(df, columns = categorical_features )"
   ]
  },
  {
   "cell_type": "markdown",
   "id": "7f43c0e3-7f79-4a0c-a90d-9e2786121dbd",
   "metadata": {},
   "source": [
    "**Numerical Column Transformation**"
   ]
  },
  {
   "cell_type": "code",
   "execution_count": null,
   "id": "15ebe730-067f-44fc-bcc4-544d9f0231d6",
   "metadata": {},
   "outputs": [],
   "source": [
    "from sklearn.preprocessing import StandardScaler\n",
    "s=StandardScaler()\n",
    "df[['Salary']]=s.fit_transform(df[['Salary']])\n",
    "df[['10percentage']]=s.fit_transform(df[['10percentage']])\n",
    "df[['12percentage']]=s.fit_transform(df[['12percentage']])"
   ]
  },
  {
   "cell_type": "code",
   "execution_count": null,
   "id": "42d1c2a0-0927-406c-94c1-0d216cc1c6bc",
   "metadata": {},
   "outputs": [],
   "source": [
    "df.head()"
   ]
  }
 ],
 "metadata": {
  "kernelspec": {
   "display_name": "Python 3",
   "language": "python",
   "name": "python3"
  },
  "language_info": {
   "codemirror_mode": {
    "name": "ipython",
    "version": 3
   },
   "file_extension": ".py",
   "mimetype": "text/x-python",
   "name": "python",
   "nbconvert_exporter": "python",
   "pygments_lexer": "ipython3",
   "version": "3.8.8"
  }
 },
 "nbformat": 4,
 "nbformat_minor": 5
}
