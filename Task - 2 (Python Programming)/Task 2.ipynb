{
 "cells": [
  {
   "cell_type": "markdown",
   "id": "d12e219b",
   "metadata": {},
   "source": [
    "# Q1.List Comprehensions\n",
    "### Input Format:\n",
    "- Four integers  and , each on a separate line.\n",
    "### Constraints:\n",
    "- Print the list in lexicographic increasing order.\n",
    "\n"
   ]
  },
  {
   "cell_type": "code",
   "execution_count": 2,
   "id": "df414704",
   "metadata": {},
   "outputs": [
    {
     "name": "stdin",
     "output_type": "stream",
     "text": [
      " 3\n",
      " 3\n",
      " 3\n",
      " 3\n"
     ]
    },
    {
     "name": "stdout",
     "output_type": "stream",
     "text": [
      "[[0, 0, 0], [0, 0, 1], [0, 0, 2], [0, 1, 0], [0, 1, 1], [0, 1, 3], [0, 2, 0], [0, 2, 2], [0, 2, 3], [0, 3, 1], [0, 3, 2], [0, 3, 3], [1, 0, 0], [1, 0, 1], [1, 0, 3], [1, 1, 0], [1, 1, 2], [1, 1, 3], [1, 2, 1], [1, 2, 2], [1, 2, 3], [1, 3, 0], [1, 3, 1], [1, 3, 2], [1, 3, 3], [2, 0, 0], [2, 0, 2], [2, 0, 3], [2, 1, 1], [2, 1, 2], [2, 1, 3], [2, 2, 0], [2, 2, 1], [2, 2, 2], [2, 2, 3], [2, 3, 0], [2, 3, 1], [2, 3, 2], [2, 3, 3], [3, 0, 1], [3, 0, 2], [3, 0, 3], [3, 1, 0], [3, 1, 1], [3, 1, 2], [3, 1, 3], [3, 2, 0], [3, 2, 1], [3, 2, 2], [3, 2, 3], [3, 3, 0], [3, 3, 1], [3, 3, 2], [3, 3, 3]]\n"
     ]
    }
   ],
   "source": [
    "x = int(input())\n",
    "y = int(input())\n",
    "z = int(input())\n",
    "n = int(input())\n",
    "\n",
    "\n",
    "li=[[i,j,k] for i in range(x+1) for j in range(y+1) for k in range(z+1) ]\n",
    "\n",
    "l=[]\n",
    "for i in li:\n",
    "    s=sum(i)    \n",
    "    if s!=n:\n",
    "        l.append(i)\n",
    "\n",
    "print(l)"
   ]
  },
  {
   "cell_type": "markdown",
   "id": "c4c1c75a",
   "metadata": {},
   "source": [
    "# Q2.Find the Runner-Up Score!\n",
    "### Input Format:\n",
    "- The first line contains n. The second line contains an array   A[] of n integers each separated by a space.\n",
    "\n",
    "### Constraints:\n",
    "- 2 < =n <=100\n",
    "### Output Format:\n",
    "- Print the runner-up score.\n"
   ]
  },
  {
   "cell_type": "code",
   "execution_count": 3,
   "id": "812861a0",
   "metadata": {},
   "outputs": [
    {
     "name": "stdin",
     "output_type": "stream",
     "text": [
      " 5\n",
      " 2 3 6 6 5\n"
     ]
    },
    {
     "name": "stdout",
     "output_type": "stream",
     "text": [
      "5\n"
     ]
    }
   ],
   "source": [
    "n = int(input())\n",
    "arr = map(int, input().split())\n",
    "arr=sorted(arr)\n",
    "maxel=arr[len(arr)-1]\n",
    "for i in range(len(arr)-1,-1,-1):\n",
    "    if arr[i]!=maxel:\n",
    "        print(arr[i])\n",
    "        break"
   ]
  },
  {
   "cell_type": "markdown",
   "id": "4d28e222",
   "metadata": {},
   "source": [
    "# Q3.Nested Lists\n",
    "### Input Format:\n",
    "\n",
    "- The first line contains an integer, , the number of students.\n",
    "- The  subsequent lines describe each student over  lines.\n",
    "    - The first line contains a student's name.\n",
    "    - The second line contains their grade.\n",
    "\n",
    "### Constraints:\n",
    "\n",
    "- There will always be one or more students having the second lowest grade.\n",
    "\n",
    "### Output Format:\n",
    "\n",
    "- Print the name(s) of any student(s) having the second lowest grade in. If there are multiple students, order their names alphabetically and print each one on a new line.\n"
   ]
  },
  {
   "cell_type": "code",
   "execution_count": 4,
   "id": "b3f12e15",
   "metadata": {},
   "outputs": [
    {
     "name": "stdin",
     "output_type": "stream",
     "text": [
      " 3\n",
      " HArry\n",
      " 28.11\n",
      " barry\n",
      " 39.11\n",
      " tarry\n",
      " 10.11\n"
     ]
    },
    {
     "name": "stdout",
     "output_type": "stream",
     "text": [
      "HArry\n"
     ]
    }
   ],
   "source": [
    "records=[]\n",
    "for _ in range(int(input())):\n",
    "    name = input()\n",
    "    score = float(input())\n",
    "    subarray=[name,score]\n",
    "    records.append(subarray)\n",
    "        \n",
    "records.sort(key=lambda x: x[1])\n",
    "minimumgrade=records[0][1]\n",
    "new_records=[]\n",
    "for i in records:\n",
    "    if minimumgrade!=i[1]:\n",
    "        new_records.append(i)\n",
    "names=[]\n",
    "minimumgrade=new_records[0][1]\n",
    "for i in records:\n",
    "    if minimumgrade==i[1]:\n",
    "        names.append(i[0])\n",
    "    \n",
    "names.sort()\n",
    "for i in names:\n",
    "    print(i)\n"
   ]
  },
  {
   "cell_type": "markdown",
   "id": "1570d083",
   "metadata": {},
   "source": [
    "# Q4.Finding the percentage\n",
    "### Input Format:\n",
    "- The first line contains the integer , the number of students' records. The next  lines contain the names and marks obtained by a student, each value separated by a space. The final line contains query_name, the name of a student to query.\n",
    "\n",
    "### Constraints:\n",
    "- 2<=n <=10\n",
    "\n",
    "### Output Format:\n",
    "- Print one line: The average of the marks obtained by the particular student correct to 2 decimal places.\n"
   ]
  },
  {
   "cell_type": "code",
   "execution_count": 6,
   "id": "90582194",
   "metadata": {},
   "outputs": [
    {
     "name": "stdin",
     "output_type": "stream",
     "text": [
      " 3\n",
      " A 78 89 55\n",
      " B 45 65 33\n",
      " C 52 66 95\n",
      " B\n"
     ]
    },
    {
     "name": "stdout",
     "output_type": "stream",
     "text": [
      "47.67\n"
     ]
    }
   ],
   "source": [
    "n = int(input())\n",
    "student_marks = {}\n",
    "for _ in range(n):\n",
    "    name, *line = input().split()\n",
    "    scores = list(map(float, line))\n",
    "    student_marks[name] = scores\n",
    "query_name = input()\n",
    "for key in student_marks:\n",
    "    if key==query_name:\n",
    "        avg=sum(student_marks[key])/len(student_marks[key])\n",
    "        print(\"%.2f\"%avg)"
   ]
  },
  {
   "cell_type": "markdown",
   "id": "92d265e2",
   "metadata": {},
   "source": [
    "# Q5.Lists\n",
    "### Input Format:\n",
    "- The first line contains an integer,n , denoting the number of commands.\n",
    "- Each line i of the n subsequent lines contains one of the commands described above.\n",
    "\n",
    "### Constraints:\n",
    "- The elements added to the list must be integers.\n",
    "\n",
    "### Output Format:\n",
    "- For each command of type print, print the list on a new line."
   ]
  },
  {
   "cell_type": "code",
   "execution_count": 7,
   "id": "59e083ea",
   "metadata": {},
   "outputs": [
    {
     "name": "stdin",
     "output_type": "stream",
     "text": [
      " 5\n",
      " insert 0 5\n",
      " print\n"
     ]
    },
    {
     "name": "stdout",
     "output_type": "stream",
     "text": [
      "[5]\n"
     ]
    },
    {
     "name": "stdin",
     "output_type": "stream",
     "text": [
      " insert 1 10\n",
      " insert 0 6\n",
      " print\n"
     ]
    },
    {
     "name": "stdout",
     "output_type": "stream",
     "text": [
      "[6, 5, 10]\n"
     ]
    }
   ],
   "source": [
    "N = int(input())\n",
    "arr=[]\n",
    "for i in range(N):\n",
    "    li=input().split()\n",
    "    if li[0]=='append':\n",
    "        arr.append(int(li[1]))\n",
    "    elif li[0]=='insert':\n",
    "        arr.insert(int(li[1]),int(li[2]))\n",
    "    elif li[0]=='print':\n",
    "        print(arr)\n",
    "    elif li[0]=='remove':\n",
    "        arr.remove(int(li[1]))\n",
    "    elif li[0]=='sort':\n",
    "        arr.sort()\n",
    "    elif li[0]=='pop':\n",
    "        arr.pop()\n",
    "    elif li[0]=='reverse':\n",
    "        arr.reverse()"
   ]
  },
  {
   "cell_type": "markdown",
   "id": "4a0c505f",
   "metadata": {},
   "source": [
    "# Q6. Tuples\n",
    "### Input Format:\n",
    "- The first line contains an integer, n, denoting the number of elements in the tuple.\n",
    "- The second line contains n space-separated integers describing the elements in tuple t.\n",
    "\n",
    "### Output Format:\n",
    "- Print the result of hash(t)."
   ]
  },
  {
   "cell_type": "code",
   "execution_count": 8,
   "id": "688aeb7e",
   "metadata": {},
   "outputs": [
    {
     "name": "stdin",
     "output_type": "stream",
     "text": [
      " 3\n",
      " 5 6 4\n"
     ]
    },
    {
     "name": "stdout",
     "output_type": "stream",
     "text": [
      "6326717749412182451\n"
     ]
    }
   ],
   "source": [
    "n = int(input())\n",
    "integer_list = tuple(map(int, input().split()))\n",
    "print(hash(integer_list))"
   ]
  },
  {
   "cell_type": "markdown",
   "id": "3f11f7d7",
   "metadata": {},
   "source": [
    "# Q7.Introduction to Sets\n",
    "### Function Description:\n",
    "- Complete the average function in the editor below.\n",
    "- average has the following parameters:\n",
    "    - int arr: an array of integers\n",
    "    \n",
    "### Returns:\n",
    "- float: the resulting float value rounded to 3 places after the decimal\n",
    "\n",
    "### Input Format:\n",
    "- The first line contains the integer, N, the size of arr.\n",
    "- The second line contains the N space-separated integers,arr[i] .\n"
   ]
  },
  {
   "cell_type": "code",
   "execution_count": 10,
   "id": "fcd8c6f3",
   "metadata": {},
   "outputs": [
    {
     "name": "stdin",
     "output_type": "stream",
     "text": [
      " 5\n",
      " 10 56 23 11 48\n"
     ]
    },
    {
     "data": {
      "text/plain": [
       "29.6"
      ]
     },
     "execution_count": 10,
     "metadata": {},
     "output_type": "execute_result"
    }
   ],
   "source": [
    "def average(array):\n",
    "    arrayset=set(array)\n",
    "    return sum(arrayset)/len(arrayset)\n",
    "\n",
    "N=int(input())\n",
    "average(list(map(int,input().split())))"
   ]
  },
  {
   "cell_type": "markdown",
   "id": "a832b008",
   "metadata": {},
   "source": [
    "# Q8.No Idea!\n",
    "### Constraints\n",
    "- 1<= n <= 10^5\n",
    "- 1<= m <= 10 ^5\n",
    "- 1 <= any integer in the input <= 10 ^9\n",
    "\n",
    "### Input Format:\n",
    "- The first line contains integers n and m separated by a space.\n",
    "- The second line contains n integers, the elements of the array.\n",
    "- The third and fourth lines contain m integers, A and B, respectively.\n",
    "\n",
    "### Output Format:\n",
    "- Output a single integer, your total happiness.\n"
   ]
  },
  {
   "cell_type": "code",
   "execution_count": 11,
   "id": "35682ad3",
   "metadata": {},
   "outputs": [
    {
     "name": "stdin",
     "output_type": "stream",
     "text": [
      " 3 2\n",
      " 1 5 3\n",
      " 3 1\n",
      " 5 7\n"
     ]
    },
    {
     "name": "stdout",
     "output_type": "stream",
     "text": [
      "1\n"
     ]
    }
   ],
   "source": [
    "n,m=list(map(int,input().split()))\n",
    "arr=list(map(int,input().split()))\n",
    "\n",
    "A=set(map(int,input().split()))\n",
    "B=set(map(int,input().split()))\n",
    "\n",
    "happiness=0\n",
    "for i in arr:\n",
    "    if i in A:\n",
    "        happiness+=1\n",
    "    if i in B:\n",
    "        happiness-=1\n",
    "\n",
    "print(happiness)"
   ]
  },
  {
   "cell_type": "markdown",
   "id": "93620c54",
   "metadata": {},
   "source": [
    "# Q9.Symmetric Difference\n",
    "### Task:\n",
    "- Given 3 sets of integers, M and N, print their symmetric difference in ascending order. The term symmetric difference indicates those values that exist in either M or N but do not exist in both.\n",
    "\n",
    "### Input Format:\n",
    "- The first line of input contains an integer, M.\n",
    "- The second line contains M space-separated integers.\n",
    "- The third line contains an integer,N .\n",
    "- The fourth line contains N space-separated integers.\n",
    "\n",
    "### Output Format:\n",
    "- Output the symmetric difference integers in ascending order, one per line. "
   ]
  },
  {
   "cell_type": "code",
   "execution_count": 12,
   "id": "2d147ba2",
   "metadata": {},
   "outputs": [
    {
     "name": "stdin",
     "output_type": "stream",
     "text": [
      " 4\n",
      " 2 4 5 9\n",
      " 4\n",
      " 2 4 11 12\n"
     ]
    },
    {
     "name": "stdout",
     "output_type": "stream",
     "text": [
      "5\n",
      "9\n",
      "11\n",
      "12\n"
     ]
    }
   ],
   "source": [
    "m=int(input())\n",
    "A=set(map(int,input().split()))\n",
    "n=int(input())\n",
    "B=set(map(int,input().split()))\n",
    "result=A.union(B).difference(A.intersection(B))\n",
    "li=sorted(list(result))\n",
    "for i in li:\n",
    "    print(i)"
   ]
  },
  {
   "cell_type": "markdown",
   "id": "7ef4e2ec",
   "metadata": {},
   "source": [
    "# Q10.Set .add()\n",
    "### Task:\n",
    "- Apply your knowledge of the .add() operation to help your friend Rupal.\n",
    "- Rupal has a huge collection of country stamps. She decided to count the total number of distinct country stamps in her collection. She asked for your help. You pick the stamps one by one from a stack of  country stamps.\n",
    "- Find the total number of distinct country stamps.\n",
    "\n",
    "### Input Format:\n",
    "\n",
    "- The first line contains an integer N, the total number of country stamps.\n",
    "- The next N lines contains the name of the country where the stamp is from.\n",
    "\n",
    "### Constraints:\n",
    "- 0 < N < 1000\n",
    "\n",
    "### Output Format:\n",
    "- Output the total number of distinct country stamps on a single line.\n"
   ]
  },
  {
   "cell_type": "code",
   "execution_count": 13,
   "id": "202307ef",
   "metadata": {},
   "outputs": [
    {
     "name": "stdin",
     "output_type": "stream",
     "text": [
      " 5\n",
      " UK\n",
      " China\n",
      " USA\n",
      " UK\n",
      " New Zealand\n"
     ]
    },
    {
     "name": "stdout",
     "output_type": "stream",
     "text": [
      "4\n"
     ]
    }
   ],
   "source": [
    "n=int(input())\n",
    "countrystamps=set()\n",
    "for i in range(n):\n",
    "    countrystamps.add(input())\n",
    "print(len(countrystamps))"
   ]
  },
  {
   "cell_type": "markdown",
   "id": "b593d4a8",
   "metadata": {},
   "source": [
    "# Q11.Set .discard(), .remove() & .pop()\n",
    "### Task:\n",
    "- You have a non-empty set , and you have to execute N commands given in N lines.\n",
    "- The commands will be pop, remove and discard.\n",
    "\n",
    "### Input Format:\n",
    "- The first line contains integer n, the number of elements in the set s.\n",
    "- The second line contains n space separated elements of set s. All of the elements are non-negative integers, less than or equal to 9.\n",
    "- The third line contains integer N, the number of commands.\n",
    "- The next N lines contains either pop, remove and/or discard commands followed by their associated value.\n",
    "\n",
    "### Constraints:\n",
    "- 0 n < 20\n",
    "- 0 < N < 20\n",
    "\n",
    "### Output Format:\n",
    "- Print the sum of the elements of set s on a single line."
   ]
  },
  {
   "cell_type": "code",
   "execution_count": 14,
   "id": "601cdccb",
   "metadata": {},
   "outputs": [
    {
     "name": "stdin",
     "output_type": "stream",
     "text": [
      " 9\n",
      " 1 2 3 4 5 6 8 9 7\n",
      " 5\n",
      " pop\n",
      " remove 9\n",
      " discard 8\n",
      " pop\n",
      " remove 5\n"
     ]
    },
    {
     "name": "stdout",
     "output_type": "stream",
     "text": [
      "20\n"
     ]
    }
   ],
   "source": [
    "n = int(input())\n",
    "s = set(map(int, input().split()))\n",
    "\n",
    "m=int(input())\n",
    "for i in range(m):\n",
    "    li=input().split()\n",
    "    if li[0]=='pop':\n",
    "        s.pop()\n",
    "    if li[0]=='remove':\n",
    "        s.remove(int(li[1]))\n",
    "    if li[0]=='discard':\n",
    "        s.discard(int(li[1]))\n",
    "\n",
    "print(sum(s))"
   ]
  },
  {
   "cell_type": "markdown",
   "id": "0746be1a",
   "metadata": {},
   "source": [
    "# Q12.Set .union() Operation\n",
    "### Task:\n",
    "- The students of District College have subscriptions to English and French newspapers. Some students have subscribed only to English, some have subscribed to only French and some have subscribed to both newspapers.\n",
    "- You are given two sets of student roll numbers. One set has subscribed to the English newspaper, and the other set is subscribed to the French newspaper. The same student could be in both sets. Your task is to find the total number of students who have subscribed to at least one newspaper.\n",
    "\n",
    "### Input Format:\n",
    "- The first line contains an integer, n, the number of students who have subscribed to the English newspaper.\n",
    "- The second line contains n space separated roll numbers of those students.\n",
    "- The third line contains b, the number of students who have subscribed to the French newspaper.\n",
    "- The fourth line contains b space separated roll numbers of those students.\n",
    "\n",
    "### Constraints:\n",
    "- 0 < Total number of Student in college < 1000\n",
    "\n",
    "### Output Format:\n",
    "- Output the total number of students who have at least one subscription."
   ]
  },
  {
   "cell_type": "code",
   "execution_count": 15,
   "id": "8d1cc293",
   "metadata": {},
   "outputs": [
    {
     "name": "stdin",
     "output_type": "stream",
     "text": [
      " 5\n",
      " 1 2 5 6 8\n",
      " 4\n",
      " 10 45 66 2\n"
     ]
    },
    {
     "name": "stdout",
     "output_type": "stream",
     "text": [
      "8\n"
     ]
    }
   ],
   "source": [
    "n=int(input())\n",
    "eng=set(map(int,input().split()))\n",
    "b=int(input())\n",
    "french=set(map(int,input().split()))\n",
    "result=eng | french\n",
    "print(len(result))"
   ]
  },
  {
   "cell_type": "markdown",
   "id": "7d69386a",
   "metadata": {},
   "source": [
    "# Q13.Set .intersection() Operation\n",
    "### Task:\n",
    "- The students of District College have subscriptions to English and French newspapers. Some students have subscribed only to English, some have subscribed only to French, and some have subscribed to both newspapers.\n",
    "- You are given two sets of student roll numbers. One set has subscribed to the English newspaper, one set has subscribed to the French newspaper. Your task is to find the total number of students who have subscribed to both newspapers.\n",
    "\n",
    "### Input Format:\n",
    "- The first line contains n, the number of students who have subscribed to the English newspaper.\n",
    "- The second line contains n space separated roll numbers of those students.\n",
    "- The third line contains b, the number of students who have subscribed to the French newspaper.\n",
    "- The fourth line contains b space separated roll numbers of those students.\n",
    "\n",
    "### Constraints:\n",
    "- 0 < Total number of students in college < 1000\n",
    "\n",
    "### Output Format:\n",
    "- Output the total number of students who have subscriptions to both English and French newspapers."
   ]
  },
  {
   "cell_type": "code",
   "execution_count": 16,
   "id": "e7b3fe6d",
   "metadata": {},
   "outputs": [
    {
     "name": "stdin",
     "output_type": "stream",
     "text": [
      " 9\n",
      " 1 2 3 4 5 6 7 8 9\n",
      " 9\n",
      " 10 1 2 3 11 21 55 6 8\n"
     ]
    },
    {
     "name": "stdout",
     "output_type": "stream",
     "text": [
      "5\n"
     ]
    }
   ],
   "source": [
    "n=int(input())\n",
    "eng=set(map(int,input().split()))\n",
    "b=int(input())\n",
    "french=set(map(int,input().split()))\n",
    "print(len(eng & french))\n"
   ]
  },
  {
   "cell_type": "markdown",
   "id": "727423db",
   "metadata": {},
   "source": [
    "# Q14.Set .difference() Operation\n",
    "### Task:\n",
    "- Students of District College have a subscription to English and French newspapers. Some students have subscribed to only the English newspaper, some have subscribed to only the French newspaper, and some have subscribed to both newspapers.\n",
    "- You are given two sets of student roll numbers. One set has subscribed to the English newspaper, and one set has subscribed to the French newspaper. Your task is to find the total number of students who have subscribed to only English newspapers.\n",
    "\n",
    "### Input Format:\n",
    "- The first line contains the number of students who have subscribed to the English newspaper.\n",
    "- The second line contains the space separated list of student roll numbers who have subscribed to the English newspaper.\n",
    "- The third line contains the number of students who have subscribed to the French newspaper.\n",
    "- The fourth line contains the space separated list of student roll numbers who have subscribed to the French newspaper.\n",
    "\n",
    "### Constraints:\n",
    "- 0 < Total number of Students in college < 1000\n",
    "\n",
    "### Output Format:\n",
    "- Output the total number of students who are subscribed to the English newspaper only."
   ]
  },
  {
   "cell_type": "code",
   "execution_count": 18,
   "id": "70cd5fe0",
   "metadata": {},
   "outputs": [
    {
     "name": "stdin",
     "output_type": "stream",
     "text": [
      " 9\n",
      " 1 2 3 4 5 6 7 8 9\n",
      " 9\n",
      " 10 1 2 3 11 21 55 6 8\n"
     ]
    },
    {
     "name": "stdout",
     "output_type": "stream",
     "text": [
      "4\n"
     ]
    }
   ],
   "source": [
    "n=int(input())\n",
    "eng=set(map(int,input().split()))\n",
    "b=int(input())\n",
    "french=set(map(int,input().split()))\n",
    "print(len(eng-french))"
   ]
  },
  {
   "cell_type": "markdown",
   "id": "a94f93c6",
   "metadata": {},
   "source": [
    "# Q15.Set .symmetric_difference() Operation\n",
    "### Task:\n",
    "- Students of District College have subscriptions to English and French newspapers. Some students have subscribed to English only, some have subscribed to French only, and some have subscribed to both newspapers.\n",
    "- You are given two sets of student roll numbers. One set has subscribed to the English newspaper, and one set has subscribed to the French newspaper. Your task is to find the total number of students who have subscribed to either the English or the French newspaper but not both.\n",
    "\n",
    "### Input Format:\n",
    "- The first line contains the number of students who have subscribed to the English newspaper.\n",
    "- The second line contains the space separated list of student roll numbers who have subscribed to the English newspaper.\n",
    "- The third line contains the number of students who have subscribed to the French newspaper.\n",
    "- The fourth line contains the space separated list of student roll numbers who have subscribed to the French newspaper.\n",
    "\n",
    "### Constraints:\n",
    "- 0 < Total number of students in college < 1000\n",
    "\n",
    "### Output Format:\n",
    "- Output total number of students who have subscriptions to the English or the French newspaper but not both."
   ]
  },
  {
   "cell_type": "code",
   "execution_count": 19,
   "id": "9d83d1b3",
   "metadata": {},
   "outputs": [
    {
     "name": "stdin",
     "output_type": "stream",
     "text": [
      " 9\n",
      " 1 2 3 4 5 6 7 8 9\n",
      " 9\n",
      " 10 1 2 3 11 21 55 6 8\n"
     ]
    },
    {
     "name": "stdout",
     "output_type": "stream",
     "text": [
      "8\n"
     ]
    }
   ],
   "source": [
    "n=int(input())\n",
    "eng=set(map(int,input().split()))\n",
    "b=int(input())\n",
    "french=set(map(int,input().split()))\n",
    "print(len(eng^french))"
   ]
  },
  {
   "cell_type": "markdown",
   "id": "fcb66a13",
   "metadata": {},
   "source": [
    "# Q16.Set Mutations\n",
    "### TASK:\n",
    "- You are given a set A and N number of other sets. These N number of sets have to perform some specific mutation operations on set A.\n",
    "- Your task is to execute those operations and print the sum of elements from set .\n",
    "\n",
    "### Input Format:\n",
    "- The first line contains the number of elements in set .\n",
    "- The second line contains the space separated list of elements in set .\n",
    "- The third line contains integer , the number of other sets.\n",
    "- The next  lines are divided into  parts containing two lines each.\n",
    "- The first line of each part contains the space separated entries of the operation name and the length of the other set.\n",
    "- The second line of each part contains space separated list of elements in the other set.\n",
    "- 0 <  len(set(A)) < 1000\n",
    "- 0 < len(otherSets) < 100\n",
    "- 0 < N < 100\n",
    "\n",
    "### Output Format:\n",
    "- Output the sum of elements in set A."
   ]
  },
  {
   "cell_type": "code",
   "execution_count": 20,
   "id": "99a01cfb",
   "metadata": {},
   "outputs": [
    {
     "name": "stdin",
     "output_type": "stream",
     "text": [
      " 16\n",
      " 1 2 3 4 5 6 7 8 9 10 11 12 13 14 24 52\n",
      " 2\n",
      " intersection_update 18\n",
      " 2 3 5 6 8 9 1 4 7 11\n",
      " update 2\n",
      " 55 66\n"
     ]
    },
    {
     "name": "stdout",
     "output_type": "stream",
     "text": [
      "177\n"
     ]
    }
   ],
   "source": [
    "n=int(input())\n",
    "A=set(map(int,input().split()))\n",
    "No=int(input())\n",
    "for i in range(No):\n",
    "    li=input().split()\n",
    "    if li[0]=='intersection_update':\n",
    "        temp=set(map(int,input().split()))\n",
    "        A.intersection_update(temp)\n",
    "    if li[0]=='update':\n",
    "        temp=set(map(int,input().split()))\n",
    "        A.update(temp)\n",
    "    if li[0]=='symmetric_difference_update':\n",
    "        temp=set(map(int,input().split()))\n",
    "        A.symmetric_difference_update(temp)\n",
    "    if li[0]=='difference_update':\n",
    "        temp=set(map(int,input().split()))\n",
    "        A.difference_update(temp)\n",
    "        \n",
    "print(sum(A))"
   ]
  },
  {
   "cell_type": "markdown",
   "id": "87242df4",
   "metadata": {},
   "source": [
    "# Q17.The Captain's Room\n",
    "Mr. Anant Asankhya is the manager at the INFINITE hotel. The hotel has an infinite amount of rooms.\n",
    "\n",
    "One fine day, a finite number of tourists come to stay at the hotel.\n",
    "The tourists consist of:\n",
    "\n",
    "→ A Captain.\n",
    "\n",
    "→ An unknown group of families consisting of k members per group where  k≠ 1.\n",
    "\n",
    "The Captain was given a separate room, and the rest were given one room per group.\n",
    "\n",
    "Mr. Anant has an unordered list of randomly arranged room entries. The list consists of the room numbers for all of the tourists. The room numbers will appear k times per group except for the Captain's room.\n",
    "\n",
    "Mr. Anant needs you to help him find the Captain's room number.\n",
    "The total number of tourists or the total number of groups of families is not known to you.\n",
    "You only know the value of k and the room number list.\n",
    "### Input Format:\n",
    "- The first line consists of an integer, K, the size of each group.\n",
    "- The second line contains the unordered elements of the room number list.\n",
    "\n",
    "### Constraints:\n",
    "- 1 < k < 1000\n",
    "\n",
    "### Output Format:\n",
    "- Output the Captain's room number.\n"
   ]
  },
  {
   "cell_type": "code",
   "execution_count": 21,
   "id": "994554f3",
   "metadata": {},
   "outputs": [
    {
     "name": "stdin",
     "output_type": "stream",
     "text": [
      " 5\n",
      " 1 2 3 6 5 4 4 2 5 3 6 1 6 5 3 2 4 1 2 5 1 4 3 6 8 4 3 1 5 6 2\n"
     ]
    },
    {
     "name": "stdout",
     "output_type": "stream",
     "text": [
      "8\n"
     ]
    }
   ],
   "source": [
    "k=int(input())\n",
    "arr=list(map(int,input().split()))\n",
    "uniarr=set(arr)\n",
    "firstatr=sum(uniarr) * k\n",
    "secondarr=sum(arr)\n",
    "print((firstatr-secondarr)//(k-1))"
   ]
  },
  {
   "cell_type": "markdown",
   "id": "99a1a9ce",
   "metadata": {},
   "source": [
    "# Q18.Check Subset\n",
    "- You are given two sets,  and .\n",
    "- Your job is to find whether set  is a subset of set .\n",
    "- If set  is subset of set , print True.\n",
    "- If set  is not a subset of set , print False.\n",
    "\n",
    "### Input Format:\n",
    "\n",
    "- The first line will contain the number of test cases, .\n",
    "- The first line of each test case contains the number of elements in set .\n",
    "- The second line of each test case contains the space separated elements of set .\n",
    "- The third line of each test case contains the number of elements in set .\n",
    "- The fourth line of each test case contains the space separated elements of set .\n",
    "\n",
    "### Constraints:\n",
    "- 0 < T < 21\n",
    "- 0 > Number of Elements in each set < 1001\n",
    "\n",
    "### Output Format:\n",
    "- Output True or False for each test case on separate lines."
   ]
  },
  {
   "cell_type": "code",
   "execution_count": 23,
   "id": "814e8580",
   "metadata": {},
   "outputs": [
    {
     "name": "stdin",
     "output_type": "stream",
     "text": [
      " 3\n",
      " 5\n",
      " 1 2 3 5 6\n",
      " 9\n",
      " 9 8 5 6 3 2 1 4 7\n"
     ]
    },
    {
     "name": "stdout",
     "output_type": "stream",
     "text": [
      "True\n"
     ]
    },
    {
     "name": "stdin",
     "output_type": "stream",
     "text": [
      " 1\n",
      " 2\n",
      " 5\n",
      " 3 6 5 4 1\n"
     ]
    },
    {
     "name": "stdout",
     "output_type": "stream",
     "text": [
      "False\n"
     ]
    },
    {
     "name": "stdin",
     "output_type": "stream",
     "text": [
      " 7\n",
      " 1 2 3 5 6 8 9\n",
      " 3\n",
      " 9 8 2\n"
     ]
    },
    {
     "name": "stdout",
     "output_type": "stream",
     "text": [
      "False\n"
     ]
    }
   ],
   "source": [
    "for _ in range(int(input())):\n",
    "    nA=int(input())\n",
    "    A=set(map(int,input().split()))\n",
    "    nB=int(input())    \n",
    "    B=set(map(int,input().split()))\n",
    "    if A.issubset(B):\n",
    "        print(True)\n",
    "    else:\n",
    "        print(False)\n",
    "    "
   ]
  },
  {
   "cell_type": "markdown",
   "id": "2990cb6f",
   "metadata": {},
   "source": [
    "# Q19.Check Strict Superset\n",
    "- You are given a set A and n other sets.\n",
    "- Your job is to find whether set A is a strict superset of each of the N sets.\n",
    "- Print True, if A is a strict superset of each of the N sets. Otherwise, print False.\n",
    "- A strict superset has at least one element that does not exist in its subset.\n",
    "\n",
    "### Input Format:\n",
    "- The first line contains the space separated elements of set A.\n",
    "- The second line contains integer , the number of other sets.\n",
    "- The next  lines contains the space separated elements of the other sets.\n",
    "\n",
    "### Constraints:\n",
    "- 0 < len(set(A)) < 501\n",
    "- 0 < N <21\n",
    "- 0 < len(othersets) < 101\n",
    "\n",
    "### Output Format\n",
    "- Print True if set  is a strict superset of all other  sets. Otherwise, print False."
   ]
  },
  {
   "cell_type": "code",
   "execution_count": 24,
   "id": "a5e27d33",
   "metadata": {},
   "outputs": [
    {
     "name": "stdin",
     "output_type": "stream",
     "text": [
      " 1 2 3 4 5 6 7 8 9 10 11 12 23 45 84 78\n",
      " 2\n",
      " 1 2 3 4 5\n",
      " 100 11 12\n"
     ]
    },
    {
     "name": "stdout",
     "output_type": "stream",
     "text": [
      "False\n"
     ]
    }
   ],
   "source": [
    "A=set(map(int,input().split()))\n",
    "flag=0\n",
    "for _ in range(int(input())):\n",
    "    temp=set(map(int,input().split()))\n",
    "    if A.issuperset(temp) ==False:\n",
    "        flag=1\n",
    "if flag==1:\n",
    "    print(False)\n",
    "else:\n",
    "    print(True)"
   ]
  }
 ],
 "metadata": {
  "kernelspec": {
   "display_name": "Python 3",
   "language": "python",
   "name": "python3"
  },
  "language_info": {
   "codemirror_mode": {
    "name": "ipython",
    "version": 3
   },
   "file_extension": ".py",
   "mimetype": "text/x-python",
   "name": "python",
   "nbconvert_exporter": "python",
   "pygments_lexer": "ipython3",
   "version": "3.8.5"
  }
 },
 "nbformat": 4,
 "nbformat_minor": 5
}
