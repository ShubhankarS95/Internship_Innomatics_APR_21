{
 "cells": [
  {
   "cell_type": "markdown",
   "id": "4dc2663c",
   "metadata": {},
   "source": [
    "# Q1. Say \"Hello, World!\" With Python.\n",
    "## Input Format:\n",
    "#### You do not need to read any input in this challenge.\n",
    "\n",
    "## Output Format:\n",
    "#### Print Hello, World! to stdout."
   ]
  },
  {
   "cell_type": "code",
   "execution_count": 1,
   "id": "510224c9",
   "metadata": {},
   "outputs": [
    {
     "name": "stdout",
     "output_type": "stream",
     "text": [
      "Hello, World!\n"
     ]
    }
   ],
   "source": [
    "print(\"Hello, World!\")"
   ]
  },
  {
   "cell_type": "markdown",
   "id": "bab0061f",
   "metadata": {},
   "source": [
    "# Q2. Python If-Else\n",
    "### Task:\n",
    "##### Given an integer, , perform the following conditional actions:\n",
    "- If  is odd, print Weird\n",
    "- If  is even and in the inclusive range of 2 to 5, print Not Weird\n",
    "- If  is even and in the inclusive range of 6 to 20, print Weird\n",
    "- If  is even and greater than 20, print Not Weird\n",
    "\n",
    "### Input Format:\n",
    "##### A single line containing a positive integer, .\n",
    "\n",
    "### Constraints:\n",
    "#### 1 <= n <= 100\n",
    "### Output Format:\n",
    "#### Print Weird if the number is weird. Otherwise, print Not Weird."
   ]
  },
  {
   "cell_type": "code",
   "execution_count": 2,
   "id": "eb49dd8b",
   "metadata": {},
   "outputs": [
    {
     "name": "stdin",
     "output_type": "stream",
     "text": [
      " 5\n"
     ]
    },
    {
     "name": "stdout",
     "output_type": "stream",
     "text": [
      "Weird\n"
     ]
    }
   ],
   "source": [
    "if __name__ == '__main__':\n",
    "    n = int(input().strip())\n",
    "    if n%2!=0:\n",
    "        print(\"Weird\")\n",
    "    elif n%2==0 and n in range(2,6):\n",
    "        print(\"Not Weird\")\n",
    "    elif n%2==0 and n in range(6,21):\n",
    "        print(\"Weird\")\n",
    "    elif n%2==0 and n>20:\n",
    "        print(\"Not Weird\")"
   ]
  },
  {
   "cell_type": "markdown",
   "id": "cee78dcf",
   "metadata": {},
   "source": [
    "# Q3.Arithmetic Operators\n",
    "### Task\n",
    "- The provided code stub reads two integers from STDIN, a and b . Add code to print three lines where:\n",
    "  - The first line contains the sum of the two numbers.\n",
    "  - The second line contains the difference of the two numbers (first - second).\n",
    "  - The third line contains the product of the two numbers.\n",
    "\n",
    "### Input Format:\n",
    "\n",
    "- The first line contains the first integer, a.\n",
    "- The second line contains the second integer, b.\n",
    "\n",
    "### Constraints:\n",
    "- 1<= a <= 10^10\n",
    "- 1<=b <= 10^10\n",
    "\n",
    "### Output Format:\n",
    "- Print the three lines as explained above."
   ]
  },
  {
   "cell_type": "code",
   "execution_count": 3,
   "id": "9619fdaa",
   "metadata": {},
   "outputs": [
    {
     "name": "stdin",
     "output_type": "stream",
     "text": [
      " 5\n",
      " 3\n"
     ]
    },
    {
     "name": "stdout",
     "output_type": "stream",
     "text": [
      "8\n",
      "2\n",
      "15\n"
     ]
    }
   ],
   "source": [
    "if __name__ == '__main__':\n",
    "    a = int(input())\n",
    "    b = int(input())\n",
    "    print(a+b)\n",
    "    print(a-b)\n",
    "    print(a*b)"
   ]
  },
  {
   "cell_type": "markdown",
   "id": "2fc5734f",
   "metadata": {},
   "source": [
    "# Q4. Python: Division\n",
    "### Task:\n",
    "- The provided code stub reads two integers, a and b, from STDIN.\n",
    "    - Add logic to print two lines. The first line should contain the result of integer division, a // b.\n",
    "    - The second line should contain the result of float division,  a/ b.\n",
    "- No rounding or formatting is necessary.\n",
    "\n",
    "### Input Format:\n",
    "\n",
    "- The first line contains the first integer, .\n",
    "- The second line contains the second integer, .\n",
    "\n",
    "### Output Format:\n",
    "- Print the two lines as described above."
   ]
  },
  {
   "cell_type": "code",
   "execution_count": 4,
   "id": "a0985974",
   "metadata": {},
   "outputs": [
    {
     "name": "stdin",
     "output_type": "stream",
     "text": [
      " 5\n",
      " 3\n"
     ]
    },
    {
     "name": "stdout",
     "output_type": "stream",
     "text": [
      "1\n",
      "1.6666666666666667\n"
     ]
    }
   ],
   "source": [
    "if __name__ == '__main__':\n",
    "    a = int(input())\n",
    "    b = int(input())\n",
    "    print(a//b)\n",
    "    print(a/b)\n"
   ]
  },
  {
   "cell_type": "markdown",
   "id": "8b625f6e",
   "metadata": {},
   "source": [
    "# Q5.Loops\n",
    "### Task:\n",
    "- The provided code stub reads and integer,n , from STDIN. For all non-negative integers i<n, print i^2.\n",
    "\n",
    "### Input Format:\n",
    "\n",
    "- The first and only line contains the integer, n .\n",
    "\n",
    "### Constraints:\n",
    "- 1 <= n <= 20\n",
    "\n",
    "### Output Format:\n",
    "- Print n lines, one corresponding to each i."
   ]
  },
  {
   "cell_type": "code",
   "execution_count": 5,
   "id": "5ec1e3bc",
   "metadata": {},
   "outputs": [
    {
     "name": "stdin",
     "output_type": "stream",
     "text": [
      " 5\n"
     ]
    },
    {
     "name": "stdout",
     "output_type": "stream",
     "text": [
      "0\n",
      "1\n",
      "4\n",
      "9\n",
      "16\n"
     ]
    }
   ],
   "source": [
    "if __name__ == '__main__':\n",
    "    n = int(input())\n",
    "    for i in range(n):\n",
    "        print(i**2)"
   ]
  },
  {
   "cell_type": "markdown",
   "id": "cb36c527",
   "metadata": {
    "tags": []
   },
   "source": [
    "# Q6.Write a function\n",
    "### Task:\n",
    "- Given a year, determine whether it is a leap year. If it is a leap year, return the Boolean True, otherwise return False.\n",
    "- Note that the code stub provided reads from STDIN and passes arguments to the is_leap function. It is only necessary to complete the is_leap function.\n",
    "\n",
    "### Input Format:\n",
    "- Read year, the year to test.\n",
    "\n",
    "### Constraints:\n",
    "- 1900 <= year <= 10^5\n",
    "\n",
    "### Output Format:\n",
    "- The function must return a Boolean value (True/False). Output is handled by the provided code stub."
   ]
  },
  {
   "cell_type": "code",
   "execution_count": 9,
   "id": "18bab1ef",
   "metadata": {},
   "outputs": [
    {
     "data": {
      "text/plain": [
       "False"
      ]
     },
     "execution_count": 9,
     "metadata": {},
     "output_type": "execute_result"
    }
   ],
   "source": [
    "def is_leap(year):\n",
    "    leap = False\n",
    "    \n",
    "    if year % 4==0:\n",
    "        if year%100==0:\n",
    "            if year % 400 ==0:\n",
    "                leap=True\n",
    "            else:\n",
    "                leap=False\n",
    "        else:\n",
    "                leap=True\n",
    "    else:\n",
    "        leap=False\n",
    "            \n",
    "    return leap\n",
    "\n",
    "is_leap(2022)"
   ]
  },
  {
   "cell_type": "markdown",
   "id": "2dfdfee8",
   "metadata": {},
   "source": [
    "# Q7.Print Function\n",
    "\n",
    "\n",
    "- The included code stub will read an integer, , from STDIN.\n",
    "- Without using any string methods, try to print the following: 123...n\n",
    "- Note that \"...\" represents the consecutive values in between.\n",
    "\n",
    "### Input Format:\n",
    "\n",
    "- The first line contains an integer n.\n",
    "\n",
    "### Constraints:\n",
    "- 1 <= n <= 150\n",
    "\n",
    "### Output Format:\n",
    "- Print the list of integers from 1 through n as a string, without spaces."
   ]
  },
  {
   "cell_type": "code",
   "execution_count": 10,
   "id": "1a2250c9",
   "metadata": {},
   "outputs": [
    {
     "name": "stdin",
     "output_type": "stream",
     "text": [
      " 5\n"
     ]
    },
    {
     "name": "stdout",
     "output_type": "stream",
     "text": [
      "12345"
     ]
    }
   ],
   "source": [
    "n = int(input())\n",
    "for i in range(1,n+1):\n",
    "    print(str(i),end=\"\")"
   ]
  }
 ],
 "metadata": {
  "kernelspec": {
   "display_name": "Python 3",
   "language": "python",
   "name": "python3"
  },
  "language_info": {
   "codemirror_mode": {
    "name": "ipython",
    "version": 3
   },
   "file_extension": ".py",
   "mimetype": "text/x-python",
   "name": "python",
   "nbconvert_exporter": "python",
   "pygments_lexer": "ipython3",
   "version": "3.8.5"
  }
 },
 "nbformat": 4,
 "nbformat_minor": 5
}
