{
 "cells": [
  {
   "cell_type": "code",
   "execution_count": 1,
   "id": "95cb2d13",
   "metadata": {},
   "outputs": [],
   "source": [
    "import random\n",
    "import numpy as np\n",
    "from math import sqrt\n",
    "from scipy.stats import t,norm\n",
    "import matplotlib.pyplot as plt"
   ]
  },
  {
   "cell_type": "markdown",
   "id": "7336d6c2",
   "metadata": {},
   "source": [
    "**Step - 1** :\n",
    "\n",
    "- Alternate hypothesis (Bold Claim) $H_1$\n",
    "\n",
    "- Null Hypothesis (Status Quo) $H_0$\n",
    "\n",
    "**Step 2** :\n",
    "- Collection sample of Sample Size n\n",
    "- Compute Sample Mean : $ \\bar x $ = ?\n",
    "\n",
    "**Step 3**:\n",
    " Compute t- Statistic (as population Standard Deviation is not Given):\n",
    " $$ t_{n-1,\\frac{\\alpha}{2}} = \\frac {\\bar x - \\mu_{\\bar x}}{\\frac{s}{\\sqrt n}} $$\n",
    "\n",
    "**Step 4**:\n",
    "Decide $\\alpha$ or significance level and $degree \\ of \\ freedom $\n",
    "\n",
    "**Step 5** :\n",
    "5.1 Apply Decision Rule:\n",
    "- For T-test:\n",
    "  - Two Tail t-test:\n",
    "  $$|t| \\ > \\ t_{n-1,\\frac{\\alpha}{2}} \\Rightarrow Acceept \\ H_1 \\ or \\ Reject \\ H_0$$\n",
    "  - Right Tail t-test:\n",
    "  $$t \\ > \\ t_{n-1,\\frac{\\alpha}{2}} \\Rightarrow Acceept \\ H_1 \\ or \\ Reject \\ H_0$$\n",
    "  - left Tail t-test:\n",
    "  $$t \\ < \\ t_{n-1,\\frac{\\alpha}{2}} \\Rightarrow Acceept \\ H_1 \\ or \\ Reject \\ H_0$$\n",
    "\n",
    "5.2 Compute p-Value $P(Test \\ Statistics H_0)$\n",
    "- For Two-Tailed Test:\n",
    "  $$p \\ value = 2 * (1- cdf(Test \\ Statistics))$$\n",
    "- For One-Tailed Test:\n",
    "  $$p \\ value = (1- cdf(Test \\ Statistics))$$\n",
    "  \n",
    "- Now,\n",
    "$$ if(p \\ value \\ < \\ \\alpha) \\Rightarrow Accept \\ H_1 \\ or \\ Reject \\ H_0 $$\n"
   ]
  },
  {
   "cell_type": "code",
   "execution_count": 2,
   "id": "d9684410",
   "metadata": {},
   "outputs": [],
   "source": [
    "# for Calculating t-score\n",
    "def t_Score(sample_size,sample_mean,sample_stddev,pop_mean):\n",
    "    return ((sample_mean -pop_mean) / (sample_stddev/(sqrt(sample_size))))"
   ]
  },
  {
   "cell_type": "markdown",
   "id": "d78fca3b",
   "metadata": {},
   "source": [
    "# Q-1: Pista House selling Hyderabadi Chicken Dum biryani claims that each parcel packet has 500 grams of biryani (also mentioned on the label of packet). You are sceptic of their claims and believe that on average each packet does not contain 500 grams of biryani. How do you prove your claim? \n",
    "~(Given that the population std is 50)~"
   ]
  },
  {
   "cell_type": "markdown",
   "id": "82437309",
   "metadata": {},
   "source": [
    "**Step 1** :\n",
    "$$H_1 = Each \\ packet \\  doesnot \\ contain \\ 500 \\ gm $$\n",
    "$$H_0 = Each \\ Packet \\ contain \\ 500 \\ gm $$"
   ]
  },
  {
   "cell_type": "code",
   "execution_count": 10,
   "id": "662cd06b",
   "metadata": {},
   "outputs": [
    {
     "name": "stdout",
     "output_type": "stream",
     "text": [
      "10\n",
      "[456, 430, 340, 510, 490, 505, 418, 439, 520, 498]\n",
      "460.6\n",
      "52.9021738683771\n"
     ]
    }
   ],
   "source": [
    "#Step 2:\n",
    "sample=[456,430,340,510,490,505,418,439,520,498]\n",
    "n=len(sample)  # Sample Size\n",
    "print(n)\n",
    "print(sample) \n",
    "\n",
    "sample_mean_x=np.mean(sample)\n",
    "print(sample_mean_x)\n",
    "sample_stddeviation_s=np.std(sample)\n",
    "print(sample_stddeviation_s)\n",
    "\n",
    "population_mean=500  # Given in the Question"
   ]
  },
  {
   "cell_type": "code",
   "execution_count": 19,
   "id": "da8ac712",
   "metadata": {},
   "outputs": [
    {
     "data": {
      "text/plain": [
       "-2.3551724002992525"
      ]
     },
     "execution_count": 19,
     "metadata": {},
     "output_type": "execute_result"
    }
   ],
   "source": [
    "# Step 3:\n",
    "# T score or T calculated\n",
    "T_score=t_Score(n,sample_mean_x,sample_stddeviation_s,population_mean)\n",
    "T_score"
   ]
  },
  {
   "cell_type": "code",
   "execution_count": 6,
   "id": "a219c751",
   "metadata": {},
   "outputs": [
    {
     "data": {
      "text/plain": [
       "2.2621571627409915"
      ]
     },
     "execution_count": 6,
     "metadata": {},
     "output_type": "execute_result"
    }
   ],
   "source": [
    "# Step 4:\n",
    "# T Critical or T-Tabulated\n",
    "confidence_level=0.95\n",
    "deg_of_freedom=n-1\n",
    "alpha=1-confidence_level\n",
    "t_critical=t.ppf(1-alpha/2,deg_of_freedom)\n",
    "t_critical"
   ]
  },
  {
   "cell_type": "code",
   "execution_count": 33,
   "id": "90255e57",
   "metadata": {},
   "outputs": [
    {
     "data": {
      "text/plain": [
       "Text(460.6, 0.0007, 'X_bar')"
      ]
     },
     "execution_count": 33,
     "metadata": {},
     "output_type": "execute_result"
    },
    {
     "data": {
      "image/png": "[encoded data removed]",
      "text/plain": [
       "<Figure size 432x288 with 1 Axes>"
      ]
     },
     "metadata": {
      "needs_background": "light"
     },
     "output_type": "display_data"
    }
   ],
   "source": [
    "#plotting the sample distribution with rejection region\n",
    "x_min = 435\n",
    "x_max = 565\n",
    "\n",
    "#defining sample mean and sample std\n",
    "mean = population_mean\n",
    "std = sample_stddeviation_s/ n**0.5\n",
    "\n",
    "#plotting the graph and setting limits\n",
    "x = np.linspace(x_min,x_max,100)\n",
    "y = norm.pdf(x, mean ,std)\n",
    "plt.xlim(x_min,x_max)\n",
    "plt.plot(x,y)\n",
    "\n",
    "#Computing the left and right critical values\n",
    "t_critical_left = population_mean + (-t_critical*std)\n",
    "t_critical_right = population_mean + (t_critical*std)\n",
    "\n",
    "#Shading the left rejection region\n",
    "x1 = np.linspace(x_min,t_critical_left,100)\n",
    "y1 = norm.pdf(x1,mean,std)\n",
    "plt.fill_between(x1,y1,color='yellow')\n",
    "\n",
    "#Shading the right rejection region\n",
    "x2 = np.linspace(t_critical_right,x_max,100)\n",
    "y2 = norm.pdf(x2,mean,std)\n",
    "plt.fill_between(x2,y2,color='yellow')\n",
    "\n",
    "#plotting the sample mean\n",
    "plt.scatter(sample_mean_x,0)\n",
    "plt.annotate('X_bar',(sample_mean_x,0.0007))"
   ]
  },
  {
   "cell_type": "code",
   "execution_count": 34,
   "id": "ea067138",
   "metadata": {},
   "outputs": [
    {
     "name": "stdout",
     "output_type": "stream",
     "text": [
      "Reject null hypothesis\n"
     ]
    }
   ],
   "source": [
    "# Step 5.1\n",
    "#conclusion using t-test\n",
    "if(np.abs(T_score)>t_critical):\n",
    "    print(\"Reject null hypothesis\")\n",
    "else:\n",
    "    print(\"Failed to reject null hypothesis\")"
   ]
  },
  {
   "cell_type": "code",
   "execution_count": 35,
   "id": "cdbae67f",
   "metadata": {},
   "outputs": [
    {
     "name": "stdout",
     "output_type": "stream",
     "text": [
      "P_value: 0.01851411386246049\n",
      "Reject null hypothesis\n"
     ]
    }
   ],
   "source": [
    "# Step 5.2\n",
    "#Conclusion using p-test (two- Tail):\n",
    "p_value = 2 * (1.0 - norm.cdf(np.abs(T_score)))\n",
    "print(\"P_value:\",p_value)\n",
    "if (p_value<alpha):\n",
    "    print(\"Reject null hypothesis\")\n",
    "else:\n",
    "    print(\"Failes to reject null hypothesis\")"
   ]
  },
  {
   "cell_type": "markdown",
   "id": "64aaddf1",
   "metadata": {},
   "source": [
    "# Q-2: You have developed a new Natural Language Processing Algorithms and done a user study. You claim that the average rating given by the users is greater than 4 on a scale of 1 to 5. How do you prove this to your client? \n",
    "~(Given that the population std is 0.5)~"
   ]
  },
  {
   "cell_type": "markdown",
   "id": "4f7f237a",
   "metadata": {},
   "source": [
    "**Step 1** :\n",
    "$$ H_1 \\ = \\ All \\ User \\ rating \\ are \\ above \\ 4 $$\n",
    "$$ H_0 \\ = \\ Userss \\ rating \\ are \\ not \\ above \\ 4 $$"
   ]
  },
  {
   "cell_type": "code",
   "execution_count": 3,
   "id": "334c360c",
   "metadata": {},
   "outputs": [
    {
     "name": "stdout",
     "output_type": "stream",
     "text": [
      "20\n",
      "[4, 3, 5, 4, 5, 3, 5, 5, 4, 2, 4, 5, 5, 4, 4, 5, 4, 5, 4, 5]\n",
      "4.25\n",
      "0.82915619758885\n"
     ]
    }
   ],
   "source": [
    "#Step 2:\n",
    "sample=[4,3,5,4,5,3,5,5,4,2,4,5,5,4,4,5,4,5,4,5]\n",
    "n=len(sample)  # Sample Size\n",
    "print(n)\n",
    "print(sample) \n",
    "\n",
    "sample_mean_x=np.mean(sample)\n",
    "print(sample_mean_x)\n",
    "sample_stddeviation_s=np.std(sample)\n",
    "print(sample_stddeviation_s)\n",
    "\n",
    "population_mean=4  # Given in the Question"
   ]
  },
  {
   "cell_type": "code",
   "execution_count": 4,
   "id": "1a36623a",
   "metadata": {},
   "outputs": [
    {
     "data": {
      "text/plain": [
       "1.3483997249264843"
      ]
     },
     "execution_count": 4,
     "metadata": {},
     "output_type": "execute_result"
    }
   ],
   "source": [
    "# Step 3:\n",
    "# T score or T calculated\n",
    "T_score=t_Score(n,sample_mean_x,sample_stddeviation_s,population_mean)\n",
    "T_score"
   ]
  },
  {
   "cell_type": "code",
   "execution_count": 5,
   "id": "6415fcc5",
   "metadata": {},
   "outputs": [
    {
     "data": {
      "text/plain": [
       "1.729132811521367"
      ]
     },
     "execution_count": 5,
     "metadata": {},
     "output_type": "execute_result"
    }
   ],
   "source": [
    "# Step 4:\n",
    "# T Critical or T-Tabulated \n",
    "# Right Tail Test\n",
    "confidence_level=0.95\n",
    "deg_of_freedom=n-1\n",
    "alpha=1-confidence_level\n",
    "t_critical=t.ppf(1-alpha,deg_of_freedom)\n",
    "t_critical"
   ]
  },
  {
   "cell_type": "code",
   "execution_count": 7,
   "id": "94eb7787",
   "metadata": {},
   "outputs": [
    {
     "data": {
      "text/plain": [
       "Text(4.25, 0.0007, 'X_bar')"
      ]
     },
     "execution_count": 7,
     "metadata": {},
     "output_type": "execute_result"
    },
    {
     "data": {
      "image/png": "[encoded data removed]",
      "text/plain": [
       "<Figure size 432x288 with 1 Axes>"
      ]
     },
     "metadata": {
      "needs_background": "light"
     },
     "output_type": "display_data"
    }
   ],
   "source": [
    "#plotting the sample distribution with rejection region\n",
    "x_min = 3.4\n",
    "x_max = 4.6\n",
    "\n",
    "#defining sample mean and sample std\n",
    "mean = population_mean\n",
    "std = sample_stddeviation_s/ n**0.5\n",
    "\n",
    "#plotting the graph and setting limits\n",
    "x = np.linspace(x_min,x_max,100)\n",
    "y = norm.pdf(x, mean ,std)\n",
    "plt.xlim(x_min,x_max)\n",
    "plt.plot(x,y)\n",
    "\n",
    "#Computing the left and right critical values\n",
    "t_critical_left = population_mean + (-t_critical*std)\n",
    "t_critical_right = population_mean + (t_critical*std)\n",
    "\n",
    "#Shading the right rejection region\n",
    "x2 = np.linspace(t_critical_right,x_max,100)\n",
    "y2 = norm.pdf(x2,mean,std)\n",
    "plt.fill_between(x2,y2,color='yellow')\n",
    "\n",
    "#plotting the sample mean\n",
    "plt.scatter(sample_mean_x,0)\n",
    "plt.annotate('X_bar',(sample_mean_x,0.0007))"
   ]
  },
  {
   "cell_type": "code",
   "execution_count": 47,
   "id": "2dfba3f1",
   "metadata": {},
   "outputs": [
    {
     "name": "stdout",
     "output_type": "stream",
     "text": [
      "Failed to reject null hypothesis\n"
     ]
    }
   ],
   "source": [
    "# Step 5.1\n",
    "#conclusion using t-test\n",
    "if(np.abs(T_score)>t_critical):\n",
    "    print(\"Reject null hypothesis\")\n",
    "else:\n",
    "    print(\"Failed to reject null hypothesis\")"
   ]
  },
  {
   "cell_type": "code",
   "execution_count": 48,
   "id": "57c0abc9",
   "metadata": {},
   "outputs": [
    {
     "name": "stdout",
     "output_type": "stream",
     "text": [
      "P_value: 0.08876492620607679\n",
      "Failes to reject null hypothesis\n"
     ]
    }
   ],
   "source": [
    "# Step 5.2\n",
    "#Conclusion using p-test (one - tail):\n",
    "p_value = (1.0 - norm.cdf(np.abs(T_score)))\n",
    "print(\"P_value:\",p_value)\n",
    "if (p_value<alpha):\n",
    "    print(\"Reject null hypothesis\")\n",
    "else:\n",
    "    print(\"Failes to reject null hypothesis\")"
   ]
  },
  {
   "cell_type": "markdown",
   "id": "6c2774dd",
   "metadata": {},
   "source": [
    "\n",
    "# Q-3: TATA has developed a better fuel management system for the SUV segment. They claim that with this system, on average the SUV's mileage is at least 15 km/litre? \n",
    "~(Given that the population std is 1)~"
   ]
  },
  {
   "cell_type": "markdown",
   "id": "c57fe7e8",
   "metadata": {},
   "source": [
    "**Step 1** :\n",
    "$$ H_1 \\ = \\ Average \\ Mileage \\ is \\ atleast \\ 15km/litre $$\n",
    "$$ H_0 \\ = \\ Average \\ Mileage \\ is \\ not \\ 15km/litre $$"
   ]
  },
  {
   "cell_type": "code",
   "execution_count": 8,
   "id": "859b5e9d",
   "metadata": {},
   "outputs": [
    {
     "name": "stdout",
     "output_type": "stream",
     "text": [
      "20\n",
      "[14.08, 14.13, 15.65, 13.78, 16.26, 14.97, 15.36, 15.81, 14.53, 16.79, 15.78, 16.98, 13.23, 15.43, 15.46, 13.88, 14.31, 14.41, 15.76, 15.38]\n",
      "15.099\n",
      "0.9994043225842081\n"
     ]
    }
   ],
   "source": [
    "#Step 2:\n",
    "sample=[14.08, 14.13, 15.65, 13.78, 16.26, 14.97, 15.36, 15.81, 14.53, 16.79, 15.78, 16.98, 13.23, 15.43, 15.46, 13.88, 14.31, 14.41, 15.76, 15.38] \n",
    "n=len(sample)  # Sample Size\n",
    "print(n)\n",
    "print(sample) \n",
    "\n",
    "sample_mean_x=np.mean(sample)\n",
    "print(sample_mean_x)\n",
    "sample_stddeviation_s=np.std(sample)\n",
    "print(sample_stddeviation_s)\n",
    "\n",
    "population_mean=15  # Given in the Question"
   ]
  },
  {
   "cell_type": "code",
   "execution_count": 10,
   "id": "d7a7afbb",
   "metadata": {},
   "outputs": [
    {
     "data": {
      "text/plain": [
       "0.4430053478257341"
      ]
     },
     "execution_count": 10,
     "metadata": {},
     "output_type": "execute_result"
    }
   ],
   "source": [
    "# Step 3:\n",
    "# T score or T calculated\n",
    "T_score=t_Score(n,sample_mean_x,sample_stddeviation_s,population_mean)\n",
    "T_score"
   ]
  },
  {
   "cell_type": "code",
   "execution_count": 11,
   "id": "2b4ff7e1",
   "metadata": {},
   "outputs": [
    {
     "data": {
      "text/plain": [
       "1.729132811521367"
      ]
     },
     "execution_count": 11,
     "metadata": {},
     "output_type": "execute_result"
    }
   ],
   "source": [
    "# Step 4:\n",
    "# T Critical or T-Tabulated \n",
    "# Right Tail Test\n",
    "confidence_level=0.95\n",
    "deg_of_freedom=n-1\n",
    "alpha=1-confidence_level\n",
    "t_critical=t.ppf(1-alpha,deg_of_freedom)\n",
    "t_critical"
   ]
  },
  {
   "cell_type": "code",
   "execution_count": 12,
   "id": "3171b264",
   "metadata": {},
   "outputs": [
    {
     "data": {
      "text/plain": [
       "Text(15.099, 0.0007, 'X_bar')"
      ]
     },
     "execution_count": 12,
     "metadata": {},
     "output_type": "execute_result"
    },
    {
     "data": {
      "image/png": "[encoded data removed]",
      "text/plain": [
       "<Figure size 432x288 with 1 Axes>"
      ]
     },
     "metadata": {
      "needs_background": "light"
     },
     "output_type": "display_data"
    }
   ],
   "source": [
    "#plotting the sample distribution with rejection region\n",
    "x_min = 14.25\n",
    "x_max = 15.75\n",
    "\n",
    "#defining sample mean and sample std\n",
    "mean = population_mean\n",
    "std = sample_stddeviation_s/ n**0.5\n",
    "\n",
    "#plotting the graph and setting limits\n",
    "x = np.linspace(x_min,x_max,100)\n",
    "y = norm.pdf(x, mean ,std)\n",
    "plt.xlim(x_min,x_max)\n",
    "plt.plot(x,y)\n",
    "\n",
    "#Computing the left and right critical values\n",
    "t_critical_left = population_mean + (-t_critical*std)\n",
    "t_critical_right = population_mean + (t_critical*std)\n",
    "\n",
    "#Shading the right rejection region\n",
    "x2 = np.linspace(t_critical_right,x_max,100)\n",
    "y2 = norm.pdf(x2,mean,std)\n",
    "plt.fill_between(x2,y2,color='yellow')\n",
    "\n",
    "#plotting the sample mean\n",
    "plt.scatter(sample_mean_x,0)\n",
    "plt.annotate('X_bar',(sample_mean_x,0.0007))"
   ]
  },
  {
   "cell_type": "code",
   "execution_count": 13,
   "id": "dbd56c12",
   "metadata": {},
   "outputs": [
    {
     "name": "stdout",
     "output_type": "stream",
     "text": [
      "Failed to reject null hypothesis\n"
     ]
    }
   ],
   "source": [
    "# Step 5.1\n",
    "#conclusion using t-test\n",
    "if(np.abs(T_score)>t_critical):\n",
    "    print(\"Reject null hypothesis\")\n",
    "else:\n",
    "    print(\"Failed to reject null hypothesis\")"
   ]
  },
  {
   "cell_type": "code",
   "execution_count": 14,
   "id": "f3867710",
   "metadata": {},
   "outputs": [
    {
     "name": "stdout",
     "output_type": "stream",
     "text": [
      "P_value: 0.3288809332844478\n",
      "Failes to reject null hypothesis\n"
     ]
    }
   ],
   "source": [
    "# Step 5.2\n",
    "#Conclusion using p-test (one - test):\n",
    "p_value = (1.0 - norm.cdf(np.abs(T_score)))\n",
    "print(\"P_value:\",p_value)\n",
    "if (p_value<alpha):\n",
    "    print(\"Reject null hypothesis\")\n",
    "else:\n",
    "    print(\"Failes to reject null hypothesis\")"
   ]
  },
  {
   "cell_type": "markdown",
   "id": "071ee628",
   "metadata": {},
   "source": [
    "# Q-4: You have developed a new Machine Learning Application and claim that on average it takes less than 100 ms to predict for any future datapoint. How do you convince your client about this claim? \n",
    "~(Based on past data you know that the std is 10 ms)~"
   ]
  },
  {
   "cell_type": "markdown",
   "id": "d82f12d5",
   "metadata": {},
   "source": [
    "**Step 1** :\n",
    "$$ H_1 \\ = \\ Takes \\ less \\ than \\ 100ms \\ for \\ prediction $$\n",
    "$$ H_0 \\ = \\ Takes \\ more \\ than \\ 100ms \\ for \\ prediction  $$"
   ]
  },
  {
   "cell_type": "code",
   "execution_count": 23,
   "id": "2ccccd1e",
   "metadata": {},
   "outputs": [
    {
     "name": "stdout",
     "output_type": "stream",
     "text": [
      "20\n",
      "[110, 99, 87, 120, 89, 98, 95, 97, 119, 102, 105, 109, 100, 93, 82, 116, 107, 102, 112, 91]\n",
      "101.65\n",
      "10.374367450596688\n"
     ]
    }
   ],
   "source": [
    "#Step 2:\n",
    "sample=[110,99,87,120,89,98,95,97,119,102,105,109,100,93,82,116,107,102,112,91]\n",
    "n=len(sample)  # Sample Size\n",
    "print(n)\n",
    "print(sample) \n",
    "\n",
    "sample_mean_x=np.mean(sample)\n",
    "print(sample_mean_x)\n",
    "sample_stddeviation_s=np.std(sample)\n",
    "print(sample_stddeviation_s)\n",
    "\n",
    "population_mean=100  # Given in the Question"
   ]
  },
  {
   "cell_type": "code",
   "execution_count": 24,
   "id": "7952d095",
   "metadata": {},
   "outputs": [
    {
     "data": {
      "text/plain": [
       "0.7112746257435602"
      ]
     },
     "execution_count": 24,
     "metadata": {},
     "output_type": "execute_result"
    }
   ],
   "source": [
    "# Step 3:\n",
    "# T score or T calculated\n",
    "T_score=t_Score(n,sample_mean_x,sample_stddeviation_s,population_mean)\n",
    "T_score"
   ]
  },
  {
   "cell_type": "code",
   "execution_count": 27,
   "id": "30d86ec0",
   "metadata": {},
   "outputs": [
    {
     "data": {
      "text/plain": [
       "2.539483190622288"
      ]
     },
     "execution_count": 27,
     "metadata": {},
     "output_type": "execute_result"
    }
   ],
   "source": [
    "# Step 4:\n",
    "# T Critical or T-Tabulated \n",
    "# Right Tail Test\n",
    "confidence_level=0.99\n",
    "deg_of_freedom=n-1\n",
    "alpha=1-confidence_level\n",
    "t_critical=t.ppf(1-alpha,deg_of_freedom)\n",
    "t_critical"
   ]
  },
  {
   "cell_type": "code",
   "execution_count": 30,
   "id": "0bddad88",
   "metadata": {},
   "outputs": [
    {
     "data": {
      "text/plain": [
       "Text(101.65, 0.0007, 'X_bar')"
      ]
     },
     "execution_count": 30,
     "metadata": {},
     "output_type": "execute_result"
    },
    {
     "data": {
      "image/png": "[encoded data removed]",
      "text/plain": [
       "<Figure size 432x288 with 1 Axes>"
      ]
     },
     "metadata": {
      "needs_background": "light"
     },
     "output_type": "display_data"
    }
   ],
   "source": [
    "#plotting the sample distribution with rejection region\n",
    "x_min = 90\n",
    "x_max = 110\n",
    "\n",
    "#defining sample mean and sample std\n",
    "mean = population_mean\n",
    "std = sample_stddeviation_s/ n**0.5\n",
    "\n",
    "#plotting the graph and setting limits\n",
    "x = np.linspace(x_min,x_max,100)\n",
    "y = norm.pdf(x, mean ,std)\n",
    "plt.xlim(x_min,x_max)\n",
    "plt.plot(x,y)\n",
    "\n",
    "#Computing the left and right critical values\n",
    "t_critical_left = population_mean + (-t_critical*std)\n",
    "\n",
    "#Shading the left rejection region\n",
    "x1 = np.linspace(x_min,t_critical_left,100)\n",
    "y1 = norm.pdf(x1,mean,std)\n",
    "plt.fill_between(x1,y1,color='yellow')\n",
    "\n",
    "\n",
    "#plotting the sample mean\n",
    "plt.scatter(sample_mean_x,0)\n",
    "plt.annotate('X_bar',(sample_mean_x,0.0007))"
   ]
  },
  {
   "cell_type": "code",
   "execution_count": 39,
   "id": "5ae39ca3",
   "metadata": {},
   "outputs": [
    {
     "name": "stdout",
     "output_type": "stream",
     "text": [
      "Failed to reject null hypothesis\n"
     ]
    }
   ],
   "source": [
    "# Step 5.1\n",
    "#conclusion using t-test\n",
    "if(T_score<-t_critical):  # Since it is a left tail testing\n",
    "    print(\"Reject null hypothesis\")\n",
    "else:\n",
    "    print(\"Failed to reject null hypothesis\")"
   ]
  },
  {
   "cell_type": "code",
   "execution_count": 38,
   "id": "ebf4151b",
   "metadata": {},
   "outputs": [
    {
     "name": "stdout",
     "output_type": "stream",
     "text": [
      "P_value: 0.23845703615168035\n",
      "Failed to reject null hypothesis\n"
     ]
    }
   ],
   "source": [
    "# Step 5.2\n",
    "#Conclusion using p-test (one - test):\n",
    "p_value = (1.0 - norm.cdf(T_score))\n",
    "print(\"P_value:\",p_value)\n",
    "if (p_value<alpha):\n",
    "    print(\"Reject null hypothesis\")\n",
    "else:\n",
    "    print(\"Failed to reject null hypothesis\")"
   ]
  }
 ],
 "metadata": {
  "kernelspec": {
   "display_name": "Python 3",
   "language": "python",
   "name": "python3"
  },
  "language_info": {
   "codemirror_mode": {
    "name": "ipython",
    "version": 3
   },
   "file_extension": ".py",
   "mimetype": "text/x-python",
   "name": "python",
   "nbconvert_exporter": "python",
   "pygments_lexer": "ipython3",
   "version": "3.8.8"
  }
 },
 "nbformat": 4,
 "nbformat_minor": 5
}
