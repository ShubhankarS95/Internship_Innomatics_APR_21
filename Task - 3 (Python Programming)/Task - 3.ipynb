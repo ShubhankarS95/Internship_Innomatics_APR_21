{
 "cells": [
  {
   "cell_type": "markdown",
   "id": "eece54fd",
   "metadata": {},
   "source": [
    "# Q1.Polar Coordinates\n",
    "### Task:\n",
    "- You are given a complex . Your task is to convert it to polar coordinates.\n",
    "\n",
    "### Input Format:\n",
    "- A single line containing the complex number . Note: complex() function can be used in python to convert the input as a complex number.\n",
    "\n",
    "### Constraints:\n",
    "- Given number is a valid complex number\n",
    "\n",
    "### Output Format:\n",
    "- Output two lines:\n",
    "The first line should contain the value of r.\n",
    "The second line should contain the value of omega.\n"
   ]
  },
  {
   "cell_type": "code",
   "execution_count": 1,
   "id": "aaea63ed",
   "metadata": {},
   "outputs": [
    {
     "name": "stdin",
     "output_type": "stream",
     "text": [
      " 1+2j\n"
     ]
    },
    {
     "name": "stdout",
     "output_type": "stream",
     "text": [
      "2.23606797749979\n",
      "1.1071487177940904\n"
     ]
    }
   ],
   "source": [
    "from cmath import phase as p\n",
    "\n",
    "i =complex(input())\n",
    "print(abs(i))\n",
    "print(p(i))\n"
   ]
  },
  {
   "cell_type": "markdown",
   "id": "49faaab7",
   "metadata": {},
   "source": [
    "# Q2. Find Angle MBC\n",
    "\n",
    "### Input Format:\n",
    "- The first line contains the length of side AB.\n",
    "- The second line contains the length of side BC.\n",
    "\n",
    "### Constraints:\n",
    "- 0 < AB <= 100\n",
    "- 0 < BC <= 100\n",
    "- Lengths AB and BC are natural numbers.\n",
    "\n",
    "### Output Format:\n",
    "- Output  in degrees.\n",
    "- Note: Round the angle to the nearest integer."
   ]
  },
  {
   "cell_type": "code",
   "execution_count": 2,
   "id": "617bc288",
   "metadata": {},
   "outputs": [
    {
     "name": "stdin",
     "output_type": "stream",
     "text": [
      " 10\n",
      " 10\n"
     ]
    },
    {
     "name": "stdout",
     "output_type": "stream",
     "text": [
      "45°\n"
     ]
    }
   ],
   "source": [
    "import math \n",
    "ab=int(input())\n",
    "bc=int(input())\n",
    "thetarad=math.atan2(ab,bc)\n",
    "thetadeg=round(math.degrees(thetarad))\n",
    "print(str(thetadeg)+ u\"\\N{DEGREE SIGN}\")\n"
   ]
  },
  {
   "cell_type": "markdown",
   "id": "ed16ead9",
   "metadata": {},
   "source": [
    "# Q3. Triangle Quest 2\n",
    "### Input Format:\n",
    "- A single line of input containing the integer N.\n",
    "\n",
    "### Constraints:\n",
    "- 0 < N < 10\n",
    "\n",
    "### Output Format:\n",
    "- Print the palindromic triangle of size N as explained above.\n",
    "\n"
   ]
  },
  {
   "cell_type": "code",
   "execution_count": 3,
   "id": "9407a2f8",
   "metadata": {},
   "outputs": [
    {
     "name": "stdin",
     "output_type": "stream",
     "text": [
      " 5\n"
     ]
    },
    {
     "name": "stdout",
     "output_type": "stream",
     "text": [
      "1\n",
      "121\n",
      "12321\n",
      "1234321\n",
      "123454321\n"
     ]
    }
   ],
   "source": [
    "for i in range(1,int(input())+1): #More than 2 lines will result in 0 score. Do not leave a blank line also\n",
    "    print( ((10**i -1)//9)**2 )"
   ]
  },
  {
   "cell_type": "markdown",
   "id": "779ff3f1",
   "metadata": {},
   "source": [
    "# Q4.Mod Divmod\n",
    "### Task:\n",
    "- Read in two integers, a and b, and print three lines.\n",
    "- The first line is the integer division a//b (While using Python2 remember to import division from __future__).\n",
    "- The second line is the result of the modulo operator: a%b.\n",
    "- The third line prints the divmod of a and b.\n",
    "\n",
    "### Input Format:\n",
    "- The first line contains the first integer, a, and the second line contains the second integer, b.\n",
    "\n",
    "### Output Format:\n",
    "- Print the result as described above.\n"
   ]
  },
  {
   "cell_type": "code",
   "execution_count": 4,
   "id": "8935f5ad",
   "metadata": {},
   "outputs": [
    {
     "name": "stdin",
     "output_type": "stream",
     "text": [
      " 177\n",
      " 10\n"
     ]
    },
    {
     "name": "stdout",
     "output_type": "stream",
     "text": [
      "17\n",
      "7\n",
      "(17, 7)\n"
     ]
    }
   ],
   "source": [
    "a=int(input())\n",
    "b=int(input())\n",
    "tup=divmod(a,b)\n",
    "print(tup[0],\"\\n\",tup[1],\"\\n\",tup,sep=\"\")\n"
   ]
  },
  {
   "cell_type": "markdown",
   "id": "5a604044",
   "metadata": {},
   "source": [
    "# Q5.Power - Mod Power\n",
    "### Task:\n",
    "- You are given three integers: a, b, and m. Print two lines.\n",
    "- On the first line, print the result of pow(a,b). On the second line, print the result of pow(a,b,m).\n",
    "\n",
    "### Input Format:\n",
    "- The first line contains a, the second line contains b, and the third line contains m.\n",
    "\n",
    "### Constraints:\n",
    "- 1 <= a <= 10\n",
    "- 1 <= b <= 10\n",
    "- 2 <= m <= 1000\n",
    "\n",
    "\n",
    "\n"
   ]
  },
  {
   "cell_type": "code",
   "execution_count": 5,
   "id": "ceae8a97",
   "metadata": {},
   "outputs": [
    {
     "name": "stdin",
     "output_type": "stream",
     "text": [
      " 3\n",
      " 5\n",
      " 4\n"
     ]
    },
    {
     "name": "stdout",
     "output_type": "stream",
     "text": [
      "243\n",
      "3\n"
     ]
    }
   ],
   "source": [
    "a,b,m=int(input()),int(input()),int(input())\n",
    "print(pow(a,b),pow(a,b,m),sep=\"\\n\")\n"
   ]
  },
  {
   "cell_type": "markdown",
   "id": "56214d7c",
   "metadata": {},
   "source": [
    "# Q6.Integers Come In All Sizes\n",
    "### Task:\n",
    "- Read four numbers, a,b ,c , and a, and print the result of a^b +  c^d.\n",
    "\n",
    "### Input Format:\n",
    "- Integers a, b,c, and d are given on four separate lines, respectively.\n",
    "\n",
    "### Output Format:\n",
    "- Print the result of a^b + c^d on one line."
   ]
  },
  {
   "cell_type": "code",
   "execution_count": 8,
   "id": "2823d3c0",
   "metadata": {},
   "outputs": [
    {
     "name": "stdin",
     "output_type": "stream",
     "text": [
      " 9\n",
      " 29\n",
      " 7\n",
      " 27\n"
     ]
    },
    {
     "name": "stdout",
     "output_type": "stream",
     "text": [
      "4710194409608608369201743232\n"
     ]
    }
   ],
   "source": [
    "a,b,c,d=int(input()),int(input()),int(input()),int(input())\n",
    "print(pow(a,b)+pow(c,d))\n"
   ]
  },
  {
   "cell_type": "markdown",
   "id": "b8c6b438",
   "metadata": {},
   "source": [
    "# Q7.Triangle Quest\n",
    "- You are given a positive integer . Print a numerical triangle of height.\n",
    "- Can you do it using only arithmetic operations, a single for loop and print statement?\n",
    "- Use no more than two lines. The first line (the for statement) is already written for you. You have to complete the print statement.\n",
    "- Note: Using anything related to strings will give a score of .\n",
    "\n",
    "### Input Format:\n",
    "- A single line containing integer, N.\n",
    "\n",
    "### Constraints:\n",
    "- 1 <= N <= 9\n",
    "\n",
    "### Output Format:\n",
    "- Print N-1 lines as explained above."
   ]
  },
  {
   "cell_type": "code",
   "execution_count": 9,
   "id": "ab7c4982",
   "metadata": {},
   "outputs": [
    {
     "name": "stdin",
     "output_type": "stream",
     "text": [
      " 5\n"
     ]
    },
    {
     "name": "stdout",
     "output_type": "stream",
     "text": [
      "1\n",
      "22\n",
      "333\n",
      "4444\n"
     ]
    }
   ],
   "source": [
    "for i in range(1,int(input())): #More than 2 lines will result in 0 score. Do not leave a blank line also\n",
    "    print(( (10**i)//9)*i)\n"
   ]
  }
 ],
 "metadata": {
  "kernelspec": {
   "display_name": "Python 3",
   "language": "python",
   "name": "python3"
  },
  "language_info": {
   "codemirror_mode": {
    "name": "ipython",
    "version": 3
   },
   "file_extension": ".py",
   "mimetype": "text/x-python",
   "name": "python",
   "nbconvert_exporter": "python",
   "pygments_lexer": "ipython3",
   "version": "3.8.5"
  }
 },
 "nbformat": 4,
 "nbformat_minor": 5
}
