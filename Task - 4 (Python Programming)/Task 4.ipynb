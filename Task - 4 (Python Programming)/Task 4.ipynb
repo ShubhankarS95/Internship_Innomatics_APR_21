{
 "cells": [
  {
   "cell_type": "markdown",
   "id": "4acb4d77",
   "metadata": {},
   "source": [
    "# Q1. sWAP cASE\n",
    "## Returns\n",
    "- string: the modified string\n",
    "## Input Format\n",
    "- A single line containing a string .\n",
    "## Constraints:\n",
    "- 0 < len(s) <= 1000"
   ]
  },
  {
   "cell_type": "code",
   "execution_count": 4,
   "id": "4cfe8421",
   "metadata": {},
   "outputs": [
    {
     "data": {
      "text/plain": [
       "'hACKERrANK.COM PRESENTS \"pYTHONIST 2\".'"
      ]
     },
     "execution_count": 4,
     "metadata": {},
     "output_type": "execute_result"
    }
   ],
   "source": [
    "def swap_case(s):\n",
    "    result=\"\"\n",
    "    for i in s:\n",
    "        if i.isupper():\n",
    "            result+=i.lower()\n",
    "        elif i.islower():\n",
    "            result+=i.upper()\n",
    "        else :\n",
    "            result+=i    \n",
    "    return result\n",
    "\n",
    "swap_case(\"HackerRank.com presents \\\"Pythonist 2\\\".\")"
   ]
  },
  {
   "cell_type": "markdown",
   "id": "be34ba7d",
   "metadata": {},
   "source": [
    "# Q2. String Split and Join\n",
    "## Task\n",
    "- You are given a string. Split the string on a \" \" (space) delimiter and join using a - hyphen.\n",
    "## Function Description\n",
    "- Complete the split_and_join function in the editor below.\n",
    "- split_and_join has the following parameters:\n",
    "- string line: a string of space-separated words\n",
    "## Returns:\n",
    "- string: the resulting string\n",
    "## Input Format\n",
    "- The one line contains a string consisting of space separated words."
   ]
  },
  {
   "cell_type": "code",
   "execution_count": 5,
   "id": "b9a63abe",
   "metadata": {},
   "outputs": [
    {
     "data": {
      "text/plain": [
       "'this-is-a-string'"
      ]
     },
     "execution_count": 5,
     "metadata": {},
     "output_type": "execute_result"
    }
   ],
   "source": [
    "def split_and_join(line):\n",
    "   result=line.split(\" \")\n",
    "   result=\"-\".join(result)\n",
    "   return result\n",
    "split_and_join(\"this is a string\")"
   ]
  },
  {
   "cell_type": "markdown",
   "id": "6183e40a",
   "metadata": {},
   "source": [
    "# Q3. What's Your Name?\n",
    "## Function Description\n",
    "- Complete the print_full_name function in the editor below.\n",
    "- print_full_name has the following parameters:\n",
    "- string first: the first name\n",
    "- string last: the last name\n",
    "## Prints:\n",
    "- string: 'Hello  ! You just delved into python' where  and  are replaced with  and .\n",
    "## Input Format:\n",
    "- The first line contains the first name, and the second line contains the last name.\n",
    "## Constraints:\n",
    "- The length of the first and last names are each ≤ .\n"
   ]
  },
  {
   "cell_type": "code",
   "execution_count": 6,
   "id": "e7e21104",
   "metadata": {},
   "outputs": [
    {
     "name": "stdout",
     "output_type": "stream",
     "text": [
      "Hello Ross Taylor! You just delved into python.\n"
     ]
    }
   ],
   "source": [
    "def print_full_name(a, b):\n",
    "    print(\"Hello {0} {1}! You just delved into python.\".format(a,b))\n",
    "\n",
    "print_full_name(\"Ross\",\"Taylor\")"
   ]
  },
  {
   "cell_type": "markdown",
   "id": "0d14f73f",
   "metadata": {},
   "source": [
    "# Q4.Mutations\n",
    "## Task\n",
    "- Read a given string, change the character at a given index and then print the modified string.\n",
    "## Function Description\n",
    "- Complete the mutate_string function in the editor below.\n",
    "- mutate_string has the following parameters:\n",
    "- string string: the string to change\n",
    "- int position: the index to insert the character at\n",
    "- string character: the character to insert\n",
    "## Returns:\n",
    "- string: the altered string\n",
    "## Input Format\n",
    "- The first line contains a string, .\n",
    "- The next line contains an integer , the index location and a string , separated by a space.\n"
   ]
  },
  {
   "cell_type": "code",
   "execution_count": 7,
   "id": "a44719df",
   "metadata": {},
   "outputs": [
    {
     "data": {
      "text/plain": [
       "'abrackdabra'"
      ]
     },
     "execution_count": 7,
     "metadata": {},
     "output_type": "execute_result"
    }
   ],
   "source": [
    "def mutate_string(string, position, character):\n",
    "    return string[:position] +character+string[position+1:]\n",
    "\n",
    "mutate_string(\"abracadabra\",5,\"k\")"
   ]
  },
  {
   "cell_type": "markdown",
   "id": "7923f155",
   "metadata": {},
   "source": [
    "# Q5.Find a string\n",
    "## Input Format\n",
    "- The first line of input contains the original string. The next line contains the substring.\n",
    "## Constraints\n",
    "- Each character in the string is an ascii character.\n",
    "## Output Format\n",
    "- Output the integer number indicating the total number of occurrences of the substring in the original string.\n"
   ]
  },
  {
   "cell_type": "code",
   "execution_count": 8,
   "id": "4083db18",
   "metadata": {},
   "outputs": [
    {
     "data": {
      "text/plain": [
       "2"
      ]
     },
     "execution_count": 8,
     "metadata": {},
     "output_type": "execute_result"
    }
   ],
   "source": [
    "def count_substring(string, sub_string):\n",
    "    count=0\n",
    "    for i in range(len(string)):\n",
    "        if string[i:].startswith(sub_string):\n",
    "            count+=1    \n",
    "    return count\n",
    "\n",
    "count_substring(\"ABCDCDC\",\"CDC\")"
   ]
  },
  {
   "cell_type": "markdown",
   "id": "fe3369f2",
   "metadata": {},
   "source": [
    "# Q6.String Validators\n",
    "\n",
    "## Task\n",
    "- You are given a string .\n",
    "- Your task is to find out if the string  contains: alphanumeric characters, alphabetical characters, digits, lowercase and uppercase characters.\n",
    "\n",
    "## Input Format\n",
    "- A single line containing a string .\n",
    "\n",
    "## Constraints\n",
    "- 0<len(s) <100\n",
    "## Output Format\n",
    "- In the first line, print True if  has any alphanumeric characters. Otherwise, print False.\n",
    "- In the second line, print True if  has any alphabetical characters. Otherwise, print False.\n",
    "- In the third line, print True if  has any digits. Otherwise, print False.\n",
    "- In the fourth line, print True if  has any lowercase characters. Otherwise, print False.\n",
    "- In the fifth line, print True if  has any uppercase characters. Otherwise, print False."
   ]
  },
  {
   "cell_type": "code",
   "execution_count": 9,
   "id": "8d44b444",
   "metadata": {},
   "outputs": [
    {
     "name": "stdin",
     "output_type": "stream",
     "text": [
      " qA2\n"
     ]
    },
    {
     "name": "stdout",
     "output_type": "stream",
     "text": [
      "True\n",
      "True\n",
      "True\n",
      "True\n",
      "True\n"
     ]
    }
   ],
   "source": [
    "if __name__ == '__main__':\n",
    "    s = input()\n",
    "    alphanum=alpha=digit=lower=upper=False\n",
    "    for i in s:\n",
    "        if i.isalnum():\n",
    "           alphanum = True\n",
    "        if i.isalpha():\n",
    "            alpha = True\n",
    "        if i.isdigit():\n",
    "            digit = True\n",
    "        if i.islower():\n",
    "            lower = True\n",
    "        if i.isupper():\n",
    "            upper = True\n",
    "    \n",
    "    print(alphanum,alpha,digit,lower,upper,sep=\"\\n\")\n",
    "        \n"
   ]
  },
  {
   "cell_type": "markdown",
   "id": "df88e97f",
   "metadata": {},
   "source": [
    "# Q7.Text Alignment\n",
    "## Task\n",
    "- You are given a partial code that is used for generating the HackerRank Logo of variable thickness.\n",
    "- Your task is to replace the blank (______) with rjust, ljust or center.\n",
    "\n",
    "## Input Format\n",
    "- A single line containing the thickness value for the logo.\n",
    "## Constraints\n",
    "- The thickness must be an odd number.\n",
    "## Output Format\n",
    "- Output the desired logo."
   ]
  },
  {
   "cell_type": "code",
   "execution_count": 10,
   "id": "0feb3396",
   "metadata": {},
   "outputs": [
    {
     "name": "stdin",
     "output_type": "stream",
     "text": [
      " 5\n"
     ]
    },
    {
     "name": "stdout",
     "output_type": "stream",
     "text": [
      "    H    \n",
      "   HHH   \n",
      "  HHHHH  \n",
      " HHHHHHH \n",
      "HHHHHHHHH\n",
      "  HHHHH               HHHHH             \n",
      "  HHHHH               HHHHH             \n",
      "  HHHHH               HHHHH             \n",
      "  HHHHH               HHHHH             \n",
      "  HHHHH               HHHHH             \n",
      "  HHHHH               HHHHH             \n",
      "  HHHHHHHHHHHHHHHHHHHHHHHHH   \n",
      "  HHHHHHHHHHHHHHHHHHHHHHHHH   \n",
      "  HHHHHHHHHHHHHHHHHHHHHHHHH   \n",
      "  HHHHH               HHHHH             \n",
      "  HHHHH               HHHHH             \n",
      "  HHHHH               HHHHH             \n",
      "  HHHHH               HHHHH             \n",
      "  HHHHH               HHHHH             \n",
      "  HHHHH               HHHHH             \n",
      "                    HHHHHHHHH \n",
      "                     HHHHHHH  \n",
      "                      HHHHH   \n",
      "                       HHH    \n",
      "                        H     \n"
     ]
    }
   ],
   "source": [
    "#Replace all ______ with rjust, ljust or center. \n",
    "\n",
    "thickness = int(input()) #This must be an odd number\n",
    "c = 'H'\n",
    "\n",
    "#Top Cone\n",
    "for i in range(thickness):\n",
    "    print((c*i).rjust(thickness-1)+c+(c*i).ljust(thickness-1))\n",
    "    \n",
    "\n",
    "#Top Pillars\n",
    "for i in range(thickness+1):\n",
    "    print((c*thickness).center(thickness*2)+(c*thickness).center(thickness*6))\n",
    "\n",
    "#Middle Belt\n",
    "for i in range((thickness+1)//2):\n",
    "    print((c*thickness*5).center(thickness*6))    \n",
    "\n",
    "#Bottom Pillars\n",
    "for i in range(thickness+1):\n",
    "    print((c*thickness).center(thickness*2)+(c*thickness).center(thickness*6))    \n",
    "\n",
    "#Bottom Cone\n",
    "for i in range(thickness):\n",
    "    print(((c*(thickness-i-1)).rjust(thickness)+c+(c*(thickness-i-1)).ljust(thickness)).rjust(thickness*6))\n"
   ]
  },
  {
   "cell_type": "markdown",
   "id": "5423c3b4",
   "metadata": {},
   "source": [
    "# Q8.Text Wrap\n",
    "## Function Description\n",
    "- Complete the wrap function in the editor below.\n",
    "- wrap has the following parameters:\n",
    "- string string: a long string\n",
    "- int max_width: the width to wrap to\n",
    "## Returns:\n",
    "- string: a single string with newline characters ('\\n') where the breaks should be\n",
    "## Input Format\n",
    "- The first line contains a string, .\n",
    "- The second line contains the width, .\n",
    "## Constraints\n",
    "- 0 <len(string) <1000\n",
    "- 0 <max_width <len(string)\n"
   ]
  },
  {
   "cell_type": "code",
   "execution_count": 11,
   "id": "1889fed0",
   "metadata": {},
   "outputs": [
    {
     "data": {
      "text/plain": [
       "'ABCD\\nEFGH\\nIJKL\\nIMNO\\nQRST\\nUVWX\\nYZ'"
      ]
     },
     "execution_count": 11,
     "metadata": {},
     "output_type": "execute_result"
    }
   ],
   "source": [
    "def wrap(string, max_width):\n",
    "    retstr=\"\"\n",
    "    i=0\n",
    "    while i< len(string):        \n",
    "        if (i+max_width+1)< len(string) :                   \n",
    "            retstr+=string[i:i+max_width]+\"\\n\" \n",
    "            i=i+max_width\n",
    "        else:\n",
    "            retstr+=string[i:]\n",
    "            i=len(string)\n",
    "            \n",
    "    return retstr\n",
    "\n",
    "wrap(\"ABCDEFGHIJKLIMNOQRSTUVWXYZ\",4)"
   ]
  },
  {
   "cell_type": "markdown",
   "id": "98061c94",
   "metadata": {},
   "source": [
    "# Q9.Designer Door Mat\n",
    "\n",
    "\n",
    "## Input Format\n",
    "- A single line containing the space separated values of  and .\n",
    "## Constraints\n",
    "- 5 <N < 101\n",
    "- 15 <M <303\n",
    "## Output Format\n",
    "- Output the design pattern."
   ]
  },
  {
   "cell_type": "code",
   "execution_count": 12,
   "id": "680db21a",
   "metadata": {},
   "outputs": [
    {
     "name": "stdin",
     "output_type": "stream",
     "text": [
      " 7 21\n"
     ]
    },
    {
     "name": "stdout",
     "output_type": "stream",
     "text": [
      "---------.|.---------\n",
      "------.|..|..|.------\n",
      "---.|..|..|..|..|.---\n",
      "-------WELCOME-------\n",
      "---.|..|..|..|..|.---\n",
      "------.|..|..|.------\n",
      "---------.|.---------\n"
     ]
    }
   ],
   "source": [
    "N,M=map(int,input().split())\n",
    "for i in range(1,N,2):\n",
    "    print((\".|.\"*i).center(M,\"-\"))\n",
    "print(\"WELCOME\".center(M,\"-\"))\n",
    "for i in range(N-2,-1,-2):\n",
    "    print((\".|.\"*i).center(M,\"-\"))\n"
   ]
  },
  {
   "cell_type": "markdown",
   "id": "0a57239c",
   "metadata": {},
   "source": [
    "# Q10.String Formatting\n",
    "## Function Description\n",
    "- Complete the print_formatted function in the editor below.\n",
    "- print_formatted has the following parameters:\n",
    "- int number: the maximum value to print\n",
    "## Prints\n",
    "- The four values must be printed on a single line in the order specified above for each  from  to . Each value should be space-padded to match the width of the binary value of  and the values should be separated by a single space.\n",
    "## Input Format\n",
    "- A single integer denoting .\n"
   ]
  },
  {
   "cell_type": "code",
   "execution_count": 14,
   "id": "9b75cd27",
   "metadata": {},
   "outputs": [
    {
     "name": "stdout",
     "output_type": "stream",
     "text": [
      "    1     1     1     1\n",
      "    2     2     2    10\n",
      "    3     3     3    11\n",
      "    4     4     4   100\n",
      "    5     5     5   101\n",
      "    6     6     6   110\n",
      "    7     7     7   111\n",
      "    8    10     8  1000\n",
      "    9    11     9  1001\n",
      "   10    12     A  1010\n",
      "   11    13     B  1011\n",
      "   12    14     C  1100\n",
      "   13    15     D  1101\n",
      "   14    16     E  1110\n",
      "   15    17     F  1111\n",
      "   16    20    10 10000\n",
      "   17    21    11 10001\n",
      "   18    22    12 10010\n",
      "   19    23    13 10011\n",
      "   20    24    14 10100\n",
      "   21    25    15 10101\n"
     ]
    }
   ],
   "source": [
    "def print_formatted(n):\n",
    "    for i in range(1,n + 1):\n",
    "        pad = n.bit_length()\n",
    "        print(f'{i:{pad}d} {i:{pad}o} {i:{pad}X} {i:{pad}b}')\n",
    "print_formatted(21)\n"
   ]
  },
  {
   "cell_type": "markdown",
   "id": "8feddb7f",
   "metadata": {},
   "source": [
    "# Q11.Alphabet Rangoli\n",
    "## Function Description\n",
    "- Complete the rangoli function in the editor below.\n",
    "- rangoli has the following parameters:\n",
    "- int size: the size of the rangoli\n",
    "## Returns\n",
    "- string: a single string made up of each of the lines of the rangoli separated by a newline character (\\n)\n",
    "## Input Format\n",
    "- Only one line of input containing , the size of the rangoli.\n"
   ]
  },
  {
   "cell_type": "code",
   "execution_count": 15,
   "id": "b527bd6f",
   "metadata": {},
   "outputs": [
    {
     "name": "stdout",
     "output_type": "stream",
     "text": [
      "--------e--------\n",
      "------e-d-e------\n",
      "----e-d-c-d-e----\n",
      "--e-d-c-b-c-d-e--\n",
      "e-d-c-b-a-b-c-d-e\n",
      "--e-d-c-b-c-d-e--\n",
      "----e-d-c-d-e----\n",
      "------e-d-e------\n",
      "--------e--------\n"
     ]
    }
   ],
   "source": [
    "def print_rangoli(size):\n",
    "    chars=['a','b','c','d','e','f','g','h','i','j','k','l','m','n','o','p','q','r','s','t','u','v','w','x','y','z']\n",
    "    temp=[]\n",
    "    for i in range(size):\n",
    "        stchr = \"-\".join(chars[i:size])\n",
    "        temp.append((stchr[:0:-1]+stchr).center(4*size-3, \"-\"))\n",
    "    print('\\n'.join(temp[:0:-1]+temp))\n",
    "    \n",
    "print_rangoli(5)"
   ]
  },
  {
   "cell_type": "markdown",
   "id": "9b1e4b63",
   "metadata": {},
   "source": [
    "# Q12.Capitalize!\n",
    "## Input Format\n",
    "- A single line of input containing the full name, S.\n",
    "## Constraints\n",
    "- The string consists of alphanumeric characters and spaces.\n",
    "- Note: in a word only the first character is capitalized. Example 12abc when capitalized remains 12abc.\n",
    "##  Output Format\n",
    "- Print the capitalized string, S."
   ]
  },
  {
   "cell_type": "code",
   "execution_count": 17,
   "id": "d5c16ec1",
   "metadata": {},
   "outputs": [
    {
     "data": {
      "text/plain": [
       "'Hello   World  Lol'"
      ]
     },
     "execution_count": 17,
     "metadata": {},
     "output_type": "execute_result"
    }
   ],
   "source": [
    "import string\n",
    "def solve(s):\n",
    "    return string.capwords(s,\" \")\n",
    "\n",
    "solve(\"hello   world  lol\")"
   ]
  },
  {
   "cell_type": "markdown",
   "id": "a9c4ce73",
   "metadata": {},
   "source": [
    "# Q13.The Minion Game\n"
   ]
  },
  {
   "cell_type": "code",
   "execution_count": 18,
   "id": "ae5fe70c",
   "metadata": {},
   "outputs": [
    {
     "name": "stdout",
     "output_type": "stream",
     "text": [
      "Stuart 12\n"
     ]
    }
   ],
   "source": [
    "def minion_game(string):\n",
    "    vowel =list(\"AEIOU\")\n",
    "    S=0\n",
    "    K=0\n",
    "    for i in range(len(string)):\n",
    "        if string[i] in vowel:\n",
    "            K+= len(string)-i\n",
    "        else:\n",
    "            S+=len(string)-i\n",
    "    if S>K:\n",
    "        print(\"Stuart\"+\" \"+ \"%d\" % S)\n",
    "    elif K>S:\n",
    "        print(\"Kevin\"+\" \"+'%d' % K)\n",
    "    else:\n",
    "        print(\"Draw\")\n",
    "\n",
    "minion_game(\"BANANA\")"
   ]
  },
  {
   "cell_type": "markdown",
   "id": "f235398e",
   "metadata": {},
   "source": [
    "# Q14.Merge the Tools!"
   ]
  },
  {
   "cell_type": "code",
   "execution_count": 19,
   "id": "9296fd72",
   "metadata": {},
   "outputs": [
    {
     "name": "stdout",
     "output_type": "stream",
     "text": [
      "AB\n",
      "CA\n",
      "AD\n"
     ]
    }
   ],
   "source": [
    "def merge_the_tools(string, k):\n",
    "    for i in range(0, len(string), k):\n",
    "        s = \"\"\n",
    "        for j in string[i : i + k]:\n",
    "            if j in s:\n",
    "              continue\n",
    "            else:\n",
    "               s += j          \n",
    "        print(s)\n",
    "\n",
    "merge_the_tools(\"AABCAAADA\",3)"
   ]
  }
 ],
 "metadata": {
  "kernelspec": {
   "display_name": "Python 3",
   "language": "python",
   "name": "python3"
  },
  "language_info": {
   "codemirror_mode": {
    "name": "ipython",
    "version": 3
   },
   "file_extension": ".py",
   "mimetype": "text/x-python",
   "name": "python",
   "nbconvert_exporter": "python",
   "pygments_lexer": "ipython3",
   "version": "3.8.5"
  }
 },
 "nbformat": 4,
 "nbformat_minor": 5
}
